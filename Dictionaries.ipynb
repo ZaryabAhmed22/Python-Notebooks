{
 "cells": [
  {
   "cell_type": "markdown",
   "id": "dc96d28f",
   "metadata": {},
   "source": [
    "Dictionaries are unsorted mappings for storing objects.\n",
    "The key-value pair allows users to quickly grab without needing tow an index location"
   ]
  },
  {
   "cell_type": "code",
   "execution_count": 1,
   "id": "d0a905d0",
   "metadata": {},
   "outputs": [],
   "source": [
    "my_dict = {'name': 'Zaryab', 'age': 22}"
   ]
  },
  {
   "cell_type": "code",
   "execution_count": 2,
   "id": "cce10554",
   "metadata": {},
   "outputs": [
    {
     "data": {
      "text/plain": [
       "{'name': 'Zaryab', 'age': 22}"
      ]
     },
     "execution_count": 2,
     "metadata": {},
     "output_type": "execute_result"
    }
   ],
   "source": [
    "my_dict\n"
   ]
  },
  {
   "cell_type": "code",
   "execution_count": 3,
   "id": "3b1a5921",
   "metadata": {},
   "outputs": [
    {
     "data": {
      "text/plain": [
       "'Zaryab'"
      ]
     },
     "execution_count": 3,
     "metadata": {},
     "output_type": "execute_result"
    }
   ],
   "source": [
    "my_dict['name'] #retrieving values from dictionary"
   ]
  },
  {
   "cell_type": "code",
   "execution_count": 5,
   "id": "3f8b897d",
   "metadata": {},
   "outputs": [],
   "source": [
    "new_dict = {'name': 'Zaryab', 'age': 22, 'subjects': ['Maths', 'Computer', 'Python'], 'position': {'football': 'FB'}}"
   ]
  },
  {
   "cell_type": "code",
   "execution_count": 6,
   "id": "ee845027",
   "metadata": {},
   "outputs": [
    {
     "data": {
      "text/plain": [
       "'Maths'"
      ]
     },
     "execution_count": 6,
     "metadata": {},
     "output_type": "execute_result"
    }
   ],
   "source": [
    "new_dict['subjects'][0]"
   ]
  },
  {
   "cell_type": "code",
   "execution_count": 8,
   "id": "9ea37350",
   "metadata": {},
   "outputs": [
    {
     "data": {
      "text/plain": [
       "'FB'"
      ]
     },
     "execution_count": 8,
     "metadata": {},
     "output_type": "execute_result"
    }
   ],
   "source": [
    "new_dict['position']['football']"
   ]
  },
  {
   "cell_type": "code",
   "execution_count": 9,
   "id": "d4e186f7",
   "metadata": {},
   "outputs": [
    {
     "data": {
      "text/plain": [
       "'MATHS'"
      ]
     },
     "execution_count": 9,
     "metadata": {},
     "output_type": "execute_result"
    }
   ],
   "source": [
    "new_dict['subjects'][0].upper() #you can also use methos with dict data"
   ]
  },
  {
   "cell_type": "code",
   "execution_count": 10,
   "id": "3aca7991",
   "metadata": {},
   "outputs": [],
   "source": [
    "d = {'key1': 10, 'key2': 20}"
   ]
  },
  {
   "cell_type": "code",
   "execution_count": 11,
   "id": "00fb3119",
   "metadata": {},
   "outputs": [
    {
     "data": {
      "text/plain": [
       "{'key1': 10, 'key2': 20}"
      ]
     },
     "execution_count": 11,
     "metadata": {},
     "output_type": "execute_result"
    }
   ],
   "source": [
    "d"
   ]
  },
  {
   "cell_type": "code",
   "execution_count": 14,
   "id": "82492409",
   "metadata": {},
   "outputs": [],
   "source": [
    "d['key3'] = 30 #adding a new key-value    "
   ]
  },
  {
   "cell_type": "code",
   "execution_count": 15,
   "id": "8614cf97",
   "metadata": {},
   "outputs": [],
   "source": [
    "d['key1'] = 100"
   ]
  },
  {
   "cell_type": "code",
   "execution_count": 16,
   "id": "bbbfff00",
   "metadata": {},
   "outputs": [
    {
     "data": {
      "text/plain": [
       "{'key1': 100, 'key2': 20, 'key3': 30}"
      ]
     },
     "execution_count": 16,
     "metadata": {},
     "output_type": "execute_result"
    }
   ],
   "source": [
    "d"
   ]
  },
  {
   "cell_type": "code",
   "execution_count": 17,
   "id": "9621cf52",
   "metadata": {},
   "outputs": [],
   "source": [
    "add = d['key1'] + d['key3']"
   ]
  },
  {
   "cell_type": "code",
   "execution_count": 18,
   "id": "7e3e4047",
   "metadata": {},
   "outputs": [
    {
     "data": {
      "text/plain": [
       "130"
      ]
     },
     "execution_count": 18,
     "metadata": {},
     "output_type": "execute_result"
    }
   ],
   "source": [
    "add"
   ]
  },
  {
   "cell_type": "code",
   "execution_count": 20,
   "id": "01e61406",
   "metadata": {},
   "outputs": [
    {
     "data": {
      "text/plain": [
       "dict_values([100, 20, 30])"
      ]
     },
     "execution_count": 20,
     "metadata": {},
     "output_type": "execute_result"
    }
   ],
   "source": [
    "d.values() #returns the key values in a list"
   ]
  },
  {
   "cell_type": "code",
   "execution_count": 21,
   "id": "b0e206b2",
   "metadata": {},
   "outputs": [
    {
     "data": {
      "text/plain": [
       "dict_items([('key1', 100), ('key2', 20), ('key3', 30)])"
      ]
     },
     "execution_count": 21,
     "metadata": {},
     "output_type": "execute_result"
    }
   ],
   "source": [
    "d.items() #returns the key value pair in a list of tupple"
   ]
  },
  {
   "cell_type": "code",
   "execution_count": null,
   "id": "3a29dc6e",
   "metadata": {},
   "outputs": [],
   "source": []
  }
 ],
 "metadata": {
  "kernelspec": {
   "display_name": "Python 3 (ipykernel)",
   "language": "python",
   "name": "python3"
  },
  "language_info": {
   "codemirror_mode": {
    "name": "ipython",
    "version": 3
   },
   "file_extension": ".py",
   "mimetype": "text/x-python",
   "name": "python",
   "nbconvert_exporter": "python",
   "pygments_lexer": "ipython3",
   "version": "3.9.7"
  }
 },
 "nbformat": 4,
 "nbformat_minor": 5
}
