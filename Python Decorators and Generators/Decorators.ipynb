{
 "cells": [
  {
   "cell_type": "code",
   "execution_count": 1,
   "id": "bfa09343",
   "metadata": {},
   "outputs": [],
   "source": [
    "def func():\n",
    "    return 1"
   ]
  },
  {
   "cell_type": "code",
   "execution_count": 2,
   "id": "eca03d8b",
   "metadata": {},
   "outputs": [
    {
     "data": {
      "text/plain": [
       "1"
      ]
     },
     "execution_count": 2,
     "metadata": {},
     "output_type": "execute_result"
    }
   ],
   "source": [
    "func()"
   ]
  },
  {
   "cell_type": "code",
   "execution_count": 3,
   "id": "b7be8a1c",
   "metadata": {},
   "outputs": [
    {
     "data": {
      "text/plain": [
       "<function __main__.func()>"
      ]
     },
     "execution_count": 3,
     "metadata": {},
     "output_type": "execute_result"
    }
   ],
   "source": [
    "func"
   ]
  },
  {
   "cell_type": "code",
   "execution_count": 4,
   "id": "e2d92dd3",
   "metadata": {},
   "outputs": [],
   "source": [
    "func_for_one = func #This creates a copy of the function with new name"
   ]
  },
  {
   "cell_type": "code",
   "execution_count": 5,
   "id": "a2fc5498",
   "metadata": {},
   "outputs": [
    {
     "data": {
      "text/plain": [
       "1"
      ]
     },
     "execution_count": 5,
     "metadata": {},
     "output_type": "execute_result"
    }
   ],
   "source": [
    "func_for_one()"
   ]
  },
  {
   "cell_type": "code",
   "execution_count": 9,
   "id": "80024319",
   "metadata": {},
   "outputs": [],
   "source": [
    "del func"
   ]
  },
  {
   "cell_type": "code",
   "execution_count": 10,
   "id": "8eeb78f1",
   "metadata": {},
   "outputs": [
    {
     "ename": "NameError",
     "evalue": "name 'func' is not defined",
     "output_type": "error",
     "traceback": [
      "\u001b[1;31m---------------------------------------------------------------------------\u001b[0m",
      "\u001b[1;31mNameError\u001b[0m                                 Traceback (most recent call last)",
      "\u001b[1;32m~\\AppData\\Local\\Temp/ipykernel_16280/2078144611.py\u001b[0m in \u001b[0;36m<module>\u001b[1;34m\u001b[0m\n\u001b[1;32m----> 1\u001b[1;33m \u001b[0mfunc\u001b[0m\u001b[1;33m(\u001b[0m\u001b[1;33m)\u001b[0m\u001b[1;33m\u001b[0m\u001b[1;33m\u001b[0m\u001b[0m\n\u001b[0m",
      "\u001b[1;31mNameError\u001b[0m: name 'func' is not defined"
     ]
    }
   ],
   "source": [
    "func()"
   ]
  },
  {
   "cell_type": "code",
   "execution_count": 8,
   "id": "aa47872a",
   "metadata": {},
   "outputs": [
    {
     "data": {
      "text/plain": [
       "1"
      ]
     },
     "execution_count": 8,
     "metadata": {},
     "output_type": "execute_result"
    }
   ],
   "source": [
    "func_for_one()"
   ]
  },
  {
   "cell_type": "code",
   "execution_count": 16,
   "id": "63b3e553",
   "metadata": {},
   "outputs": [],
   "source": [
    "# NESTED FUNCTION\n",
    "\n",
    "def hello(name = 'James'):\n",
    "    print('The hello() function has been executed')\n",
    "    \n",
    "    def greet():\n",
    "        return '\\t This is the greet() function inside the hello() function'\n",
    "    \n",
    "    def welcome():\n",
    "        return '\\t This is the welcome() function inside the hello() function'\n",
    "    \n",
    "    #Calling the greet fucntion so that it's always executed when hello() is called\n",
    "    print(greet())\n",
    "    print(welcome())\n",
    "    print(\"This is the end of hello function\")"
   ]
  },
  {
   "cell_type": "code",
   "execution_count": 12,
   "id": "14681850",
   "metadata": {},
   "outputs": [
    {
     "name": "stdout",
     "output_type": "stream",
     "text": [
      "The hello() function has been executed\n"
     ]
    }
   ],
   "source": [
    "hello() #This only returns the direct functionality of this function, cuz greet isn't called yet"
   ]
  },
  {
   "cell_type": "code",
   "execution_count": 17,
   "id": "94930b92",
   "metadata": {},
   "outputs": [
    {
     "name": "stdout",
     "output_type": "stream",
     "text": [
      "The hello() function has been executed\n",
      "\t This is the greet() function inside the hello() function\n",
      "\t This is the welcome() function inside the hello() function\n",
      "This is the end of hello function\n"
     ]
    }
   ],
   "source": [
    "hello()"
   ]
  },
  {
   "cell_type": "markdown",
   "id": "cbc4c8df",
   "metadata": {},
   "source": [
    "> Keep in mind welcome and greet functions are restricted to the scope of hello function, the can't be called outside it directly"
   ]
  },
  {
   "cell_type": "code",
   "execution_count": 18,
   "id": "2ed8eda2",
   "metadata": {},
   "outputs": [],
   "source": [
    "# USING THE NESTED FUNCTIONS OUTSIDE\n",
    "\n",
    "def hello(name = 'James'):\n",
    "    print('The hello() function has been executed')\n",
    "    \n",
    "    def greet():\n",
    "        return '\\t This is the greet() function inside the hello() function'\n",
    "    \n",
    "    def welcome():\n",
    "        return '\\t This is the welcome() function inside the hello() function'\n",
    "    \n",
    "    print('I am going to return a function')\n",
    "    \n",
    "    # Returning the functions\n",
    "    if name == 'James':\n",
    "        return greet\n",
    "    else:\n",
    "        return welcome"
   ]
  },
  {
   "cell_type": "code",
   "execution_count": 19,
   "id": "49eedea9",
   "metadata": {},
   "outputs": [
    {
     "name": "stdout",
     "output_type": "stream",
     "text": [
      "The hello() function has been executed\n",
      "I am going to return a function\n"
     ]
    }
   ],
   "source": [
    "my_new_func = hello('James')"
   ]
  },
  {
   "cell_type": "code",
   "execution_count": 20,
   "id": "76330e04",
   "metadata": {},
   "outputs": [
    {
     "name": "stdout",
     "output_type": "stream",
     "text": [
      "<function hello.<locals>.greet at 0x00000194BCDCA670>\n"
     ]
    }
   ],
   "source": [
    "print(my_new_func)"
   ]
  },
  {
   "cell_type": "code",
   "execution_count": 21,
   "id": "519eb6b7",
   "metadata": {},
   "outputs": [
    {
     "name": "stdout",
     "output_type": "stream",
     "text": [
      "\t This is the greet() function inside the hello() function\n"
     ]
    }
   ],
   "source": [
    "print(my_new_func())"
   ]
  },
  {
   "cell_type": "markdown",
   "id": "99e44ddc",
   "metadata": {},
   "source": [
    "# Passing in a function as argument"
   ]
  },
  {
   "cell_type": "code",
   "execution_count": 28,
   "id": "fc41f523",
   "metadata": {},
   "outputs": [],
   "source": [
    "def hello():\n",
    "    return('Helloooo!')"
   ]
  },
  {
   "cell_type": "code",
   "execution_count": 29,
   "id": "1a72ecf2",
   "metadata": {},
   "outputs": [],
   "source": [
    "def other(some_other_func):\n",
    "    print('Other code runs here')\n",
    "    print(some_other_func())"
   ]
  },
  {
   "cell_type": "code",
   "execution_count": 30,
   "id": "bfb99a29",
   "metadata": {},
   "outputs": [
    {
     "data": {
      "text/plain": [
       "'Helloooo!'"
      ]
     },
     "execution_count": 30,
     "metadata": {},
     "output_type": "execute_result"
    }
   ],
   "source": [
    "hello()"
   ]
  },
  {
   "cell_type": "code",
   "execution_count": 31,
   "id": "6aa78f38",
   "metadata": {},
   "outputs": [
    {
     "name": "stdout",
     "output_type": "stream",
     "text": [
      "Other code runs here\n",
      "Helloooo!\n"
     ]
    }
   ],
   "source": [
    "other(hello)"
   ]
  },
  {
   "cell_type": "markdown",
   "id": "f4972c8e",
   "metadata": {},
   "source": [
    "# Creating a Decorator Manually"
   ]
  },
  {
   "cell_type": "code",
   "execution_count": 37,
   "id": "e736dd05",
   "metadata": {},
   "outputs": [],
   "source": [
    "def new_decorator(original_func):\n",
    "    \n",
    "    def wrap_func():\n",
    "        \n",
    "        print('Some extra code, before the original function')\n",
    "        \n",
    "        original_func()\n",
    "        \n",
    "        print('Some extra code, after the original function')\n",
    "        \n",
    "    return wrap_func\n",
    "        "
   ]
  },
  {
   "cell_type": "code",
   "execution_count": 38,
   "id": "44bd76bf",
   "metadata": {},
   "outputs": [],
   "source": [
    "def func_needs_a_dec():\n",
    "    print('I need a decorator!! Please')"
   ]
  },
  {
   "cell_type": "code",
   "execution_count": 39,
   "id": "7d65fb72",
   "metadata": {},
   "outputs": [
    {
     "name": "stdout",
     "output_type": "stream",
     "text": [
      "I need a decorator!! Please\n"
     ]
    }
   ],
   "source": [
    "func_needs_a_dec()"
   ]
  },
  {
   "cell_type": "code",
   "execution_count": 40,
   "id": "aa553bba",
   "metadata": {},
   "outputs": [],
   "source": [
    "decorate_wrapped_func = new_decorator(func_needs_a_dec)"
   ]
  },
  {
   "cell_type": "code",
   "execution_count": 41,
   "id": "0fbe4b45",
   "metadata": {},
   "outputs": [
    {
     "name": "stdout",
     "output_type": "stream",
     "text": [
      "Some extra code, before the original function\n",
      "I need a decorator!! Please\n",
      "Some extra code, after the original function\n"
     ]
    }
   ],
   "source": [
    "decorate_wrapped_func()"
   ]
  },
  {
   "cell_type": "markdown",
   "id": "7c2f3c35",
   "metadata": {},
   "source": [
    "# Creating a Decorator with @"
   ]
  },
  {
   "cell_type": "code",
   "execution_count": 42,
   "id": "9f8c0f38",
   "metadata": {},
   "outputs": [],
   "source": [
    "@new_decorator\n",
    "def func_needs_a_dec():\n",
    "    print('I need a decorator!! Please') "
   ]
  },
  {
   "cell_type": "code",
   "execution_count": 43,
   "id": "fca1908f",
   "metadata": {},
   "outputs": [
    {
     "name": "stdout",
     "output_type": "stream",
     "text": [
      "Some extra code, before the original function\n",
      "I need a decorator!! Please\n",
      "Some extra code, after the original function\n"
     ]
    }
   ],
   "source": [
    "func_needs_a_dec()"
   ]
  },
  {
   "cell_type": "code",
   "execution_count": 44,
   "id": "b91dc98e",
   "metadata": {},
   "outputs": [],
   "source": [
    "#@new_decorator #>> Dec switched off\n",
    "def func_needs_a_dec():\n",
    "    print('I need a decorator!! Please') "
   ]
  },
  {
   "cell_type": "code",
   "execution_count": 45,
   "id": "70b48c5a",
   "metadata": {},
   "outputs": [
    {
     "name": "stdout",
     "output_type": "stream",
     "text": [
      "I need a decorator!! Please\n"
     ]
    }
   ],
   "source": [
    "func_needs_a_dec()"
   ]
  },
  {
   "cell_type": "code",
   "execution_count": null,
   "id": "42a1dce1",
   "metadata": {},
   "outputs": [],
   "source": []
  }
 ],
 "metadata": {
  "kernelspec": {
   "display_name": "Python 3 (ipykernel)",
   "language": "python",
   "name": "python3"
  },
  "language_info": {
   "codemirror_mode": {
    "name": "ipython",
    "version": 3
   },
   "file_extension": ".py",
   "mimetype": "text/x-python",
   "name": "python",
   "nbconvert_exporter": "python",
   "pygments_lexer": "ipython3",
   "version": "3.9.7"
  }
 },
 "nbformat": 4,
 "nbformat_minor": 5
}
