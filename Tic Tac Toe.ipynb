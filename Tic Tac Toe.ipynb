{
 "cells": [
  {
   "cell_type": "code",
   "execution_count": 1,
   "id": "29daec03",
   "metadata": {},
   "outputs": [],
   "source": [
    "#Display to user\n",
    "def display(row1,row2,row3):\n",
    "    print(row1)\n",
    "    print(row2)\n",
    "    print(row3)"
   ]
  },
  {
   "cell_type": "code",
   "execution_count": 2,
   "id": "eb779063",
   "metadata": {},
   "outputs": [],
   "source": [
    "#Defining rows\n",
    "row1 = [' ', ' ', ' ']\n",
    "row2 = [' ', ' ', ' ']\n",
    "row3 = [' ', ' ', ' ']"
   ]
  },
  {
   "cell_type": "code",
   "execution_count": 3,
   "id": "c8ee63f2",
   "metadata": {},
   "outputs": [
    {
     "name": "stdout",
     "output_type": "stream",
     "text": [
      "[' ', ' ', ' ']\n",
      "[' ', ' ', ' ']\n",
      "[' ', ' ', ' ']\n"
     ]
    }
   ],
   "source": [
    "display(row1,row2,row3)"
   ]
  },
  {
   "cell_type": "markdown",
   "id": "8025b152",
   "metadata": {},
   "source": [
    "# Accepting user input"
   ]
  },
  {
   "cell_type": "code",
   "execution_count": null,
   "id": "83b94979",
   "metadata": {},
   "outputs": [],
   "source": [
    "#Accepting user input for index\n",
    "position_index = int(input('Enter a value: '))"
   ]
  },
  {
   "cell_type": "code",
   "execution_count": null,
   "id": "cbf77c4f",
   "metadata": {},
   "outputs": [],
   "source": [
    "print(position_index)"
   ]
  },
  {
   "cell_type": "markdown",
   "id": "192a8190",
   "metadata": {},
   "source": [
    "# Validating user input"
   ]
  },
  {
   "cell_type": "code",
   "execution_count": null,
   "id": "52b8f499",
   "metadata": {},
   "outputs": [],
   "source": [
    "#Validating user input\n",
    "def user_choice():\n",
    "    \n",
    "    #INITIAL VALUES\n",
    "    choice = 'WRONG'\n",
    "    acc_range = range(0,10)\n",
    "    within_range = False\n",
    "    \n",
    "    #CHECKING THE VALUE USING WHILE LOOP\n",
    "    while choice.isdigit() == False or within_range == False:\n",
    "        choice = input('Please enter a number (0-9): ')\n",
    "        \n",
    "        #ERROR MSG FOR DIGIT CHECK\n",
    "        if choice.isdigit() == False:\n",
    "            print('Sorry! the input is not a digit')\n",
    "            \n",
    "        #RANGE CHECK\n",
    "        if choice.isdigit() == True:\n",
    "            if int(choice) in acceptable_range:\n",
    "                within_range = True\n",
    "            else:\n",
    "                within_range = False \n",
    "            \n",
    "    return int(choice)\n"
   ]
  },
  {
   "cell_type": "code",
   "execution_count": null,
   "id": "fb9f81c5",
   "metadata": {},
   "outputs": [],
   "source": [
    "user_choice()"
   ]
  },
  {
   "cell_type": "code",
   "execution_count": null,
   "id": "21ab5d7e",
   "metadata": {},
   "outputs": [],
   "source": []
  }
 ],
 "metadata": {
  "kernelspec": {
   "display_name": "Python 3 (ipykernel)",
   "language": "python",
   "name": "python3"
  },
  "language_info": {
   "codemirror_mode": {
    "name": "ipython",
    "version": 3
   },
   "file_extension": ".py",
   "mimetype": "text/x-python",
   "name": "python",
   "nbconvert_exporter": "python",
   "pygments_lexer": "ipython3",
   "version": "3.9.7"
  }
 },
 "nbformat": 4,
 "nbformat_minor": 5
}
