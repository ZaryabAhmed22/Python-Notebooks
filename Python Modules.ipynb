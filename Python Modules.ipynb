{
 "cells": [
  {
   "cell_type": "markdown",
   "id": "effe2b77",
   "metadata": {},
   "source": [
    "# PIP\n",
    "directly on your terminal \n",
    "> pip install requests\n",
    "\n",
    "to install a package e.g colorama\n",
    "> pip install colorama"
   ]
  },
  {
   "cell_type": "markdown",
   "id": "6cf304a8",
   "metadata": {},
   "source": [
    "To find a new package, just google the purpose or the work you want to do and install the package using pip install. Also read the documentation of the package in order to use it"
   ]
  },
  {
   "cell_type": "markdown",
   "id": "a0a197ef",
   "metadata": {},
   "source": []
  }
 ],
 "metadata": {
  "kernelspec": {
   "display_name": "Python 3 (ipykernel)",
   "language": "python",
   "name": "python3"
  },
  "language_info": {
   "codemirror_mode": {
    "name": "ipython",
    "version": 3
   },
   "file_extension": ".py",
   "mimetype": "text/x-python",
   "name": "python",
   "nbconvert_exporter": "python",
   "pygments_lexer": "ipython3",
   "version": "3.9.7"
  }
 },
 "nbformat": 4,
 "nbformat_minor": 5
}
