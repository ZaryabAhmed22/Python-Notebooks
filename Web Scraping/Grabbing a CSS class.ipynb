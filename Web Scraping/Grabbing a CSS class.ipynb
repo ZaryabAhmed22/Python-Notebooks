{
 "cells": [
  {
   "cell_type": "code",
   "execution_count": 1,
   "id": "74a38ce5",
   "metadata": {},
   "outputs": [],
   "source": [
    "import requests\n",
    "import bs4"
   ]
  },
  {
   "cell_type": "code",
   "execution_count": 3,
   "id": "0fa2dfe6",
   "metadata": {},
   "outputs": [],
   "source": [
    "result = requests.get(\"http://www.example.com\")\n",
    "soup = bs4.BeautifulSoup(result.text, \"lxml\")"
   ]
  },
  {
   "cell_type": "code",
   "execution_count": 4,
   "id": "c055786f",
   "metadata": {},
   "outputs": [
    {
     "data": {
      "text/plain": [
       "<!DOCTYPE html>\n",
       "<html>\n",
       "<head>\n",
       "<title>Example Domain</title>\n",
       "<meta charset=\"utf-8\"/>\n",
       "<meta content=\"text/html; charset=utf-8\" http-equiv=\"Content-type\"/>\n",
       "<meta content=\"width=device-width, initial-scale=1\" name=\"viewport\"/>\n",
       "<style type=\"text/css\">\n",
       "    body {\n",
       "        background-color: #f0f0f2;\n",
       "        margin: 0;\n",
       "        padding: 0;\n",
       "        font-family: -apple-system, system-ui, BlinkMacSystemFont, \"Segoe UI\", \"Open Sans\", \"Helvetica Neue\", Helvetica, Arial, sans-serif;\n",
       "        \n",
       "    }\n",
       "    div {\n",
       "        width: 600px;\n",
       "        margin: 5em auto;\n",
       "        padding: 2em;\n",
       "        background-color: #fdfdff;\n",
       "        border-radius: 0.5em;\n",
       "        box-shadow: 2px 3px 7px 2px rgba(0,0,0,0.02);\n",
       "    }\n",
       "    a:link, a:visited {\n",
       "        color: #38488f;\n",
       "        text-decoration: none;\n",
       "    }\n",
       "    @media (max-width: 700px) {\n",
       "        div {\n",
       "            margin: 0 auto;\n",
       "            width: auto;\n",
       "        }\n",
       "    }\n",
       "    </style>\n",
       "</head>\n",
       "<body>\n",
       "<div>\n",
       "<h1>Example Domain</h1>\n",
       "<p>This domain is for use in illustrative examples in documents. You may use this\n",
       "    domain in literature without prior coordination or asking for permission.</p>\n",
       "<p><a href=\"https://www.iana.org/domains/example\">More information...</a></p>\n",
       "</div>\n",
       "</body>\n",
       "</html>"
      ]
     },
     "execution_count": 4,
     "metadata": {},
     "output_type": "execute_result"
    }
   ],
   "source": [
    "soup"
   ]
  },
  {
   "cell_type": "code",
   "execution_count": 7,
   "id": "4297fd61",
   "metadata": {},
   "outputs": [
    {
     "data": {
      "text/plain": [
       "[<a href=\"https://www.iana.org/domains/example\">More information...</a>]"
      ]
     },
     "execution_count": 7,
     "metadata": {},
     "output_type": "execute_result"
    }
   ],
   "source": [
    "#Selecting a particular tag\n",
    "soup.select('div p a')"
   ]
  },
  {
   "cell_type": "code",
   "execution_count": 8,
   "id": "64325ad8",
   "metadata": {},
   "outputs": [],
   "source": [
    "response = requests.get('https://en.wikipedia.org/wiki/Jonas_Salk')"
   ]
  },
  {
   "cell_type": "code",
   "execution_count": 9,
   "id": "93a70c66",
   "metadata": {},
   "outputs": [],
   "source": [
    "soup2 = bs4.BeautifulSoup(response.text, 'lxml')"
   ]
  },
  {
   "cell_type": "code",
   "execution_count": 11,
   "id": "ae797a42",
   "metadata": {},
   "outputs": [],
   "source": [
    "# soup2"
   ]
  },
  {
   "cell_type": "code",
   "execution_count": 13,
   "id": "c391279a",
   "metadata": {},
   "outputs": [
    {
     "data": {
      "text/plain": [
       "[<span class=\"toctext\">Early life and education</span>,\n",
       " <span class=\"toctext\">Education</span>,\n",
       " <span class=\"toctext\">Medical school</span>,\n",
       " <span class=\"toctext\">Postgraduate research and early laboratory work</span>,\n",
       " <span class=\"toctext\">Polio research</span>,\n",
       " <span class=\"toctext\">Becoming a public figure</span>,\n",
       " <span class=\"toctext\">Celebrity versus privacy</span>,\n",
       " <span class=\"toctext\">Maintaining his individuality</span>,\n",
       " <span class=\"toctext\">Establishing the Salk Institute</span>,\n",
       " <span class=\"toctext\">AIDS vaccine work</span>,\n",
       " <span class=\"toctext\">Salk's \"biophilosophy\"</span>,\n",
       " <span class=\"toctext\">Personal life and death</span>,\n",
       " <span class=\"toctext\">Honors and recognition</span>,\n",
       " <span class=\"toctext\">Documentary films</span>,\n",
       " <span class=\"toctext\">Salk's book publications</span>,\n",
       " <span class=\"toctext\">References</span>,\n",
       " <span class=\"toctext\">Further reading</span>,\n",
       " <span class=\"toctext\">External links</span>]"
      ]
     },
     "execution_count": 13,
     "metadata": {},
     "output_type": "execute_result"
    }
   ],
   "source": [
    "soup2.select('.toctext')"
   ]
  },
  {
   "cell_type": "code",
   "execution_count": 16,
   "id": "5d91855d",
   "metadata": {},
   "outputs": [
    {
     "data": {
      "text/plain": [
       "bs4.element.Tag"
      ]
     },
     "execution_count": 16,
     "metadata": {},
     "output_type": "execute_result"
    }
   ],
   "source": [
    "type(soup2.select('.toctext')[0])"
   ]
  },
  {
   "cell_type": "code",
   "execution_count": 17,
   "id": "29e82bd4",
   "metadata": {},
   "outputs": [],
   "source": [
    "first_item = soup2.select('.toctext')[0]"
   ]
  },
  {
   "cell_type": "code",
   "execution_count": 18,
   "id": "a15c6c99",
   "metadata": {},
   "outputs": [
    {
     "data": {
      "text/plain": [
       "'Early life and education'"
      ]
     },
     "execution_count": 18,
     "metadata": {},
     "output_type": "execute_result"
    }
   ],
   "source": [
    "first_item.text"
   ]
  },
  {
   "cell_type": "code",
   "execution_count": 19,
   "id": "a980f295",
   "metadata": {},
   "outputs": [
    {
     "name": "stdout",
     "output_type": "stream",
     "text": [
      "Early life and education\n",
      "Education\n",
      "Medical school\n",
      "Postgraduate research and early laboratory work\n",
      "Polio research\n",
      "Becoming a public figure\n",
      "Celebrity versus privacy\n",
      "Maintaining his individuality\n",
      "Establishing the Salk Institute\n",
      "AIDS vaccine work\n",
      "Salk's \"biophilosophy\"\n",
      "Personal life and death\n",
      "Honors and recognition\n",
      "Documentary films\n",
      "Salk's book publications\n",
      "References\n",
      "Further reading\n",
      "External links\n"
     ]
    }
   ],
   "source": [
    "for item in soup2.select('.toctext'):\n",
    "    print(item.text)"
   ]
  },
  {
   "cell_type": "code",
   "execution_count": null,
   "id": "82ae6e40",
   "metadata": {},
   "outputs": [],
   "source": []
  }
 ],
 "metadata": {
  "kernelspec": {
   "display_name": "Python 3 (ipykernel)",
   "language": "python",
   "name": "python3"
  },
  "language_info": {
   "codemirror_mode": {
    "name": "ipython",
    "version": 3
   },
   "file_extension": ".py",
   "mimetype": "text/x-python",
   "name": "python",
   "nbconvert_exporter": "python",
   "pygments_lexer": "ipython3",
   "version": "3.9.7"
  }
 },
 "nbformat": 4,
 "nbformat_minor": 5
}
