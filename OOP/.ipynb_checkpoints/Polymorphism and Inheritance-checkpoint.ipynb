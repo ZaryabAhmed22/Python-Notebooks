{
 "cells": [
  {
   "cell_type": "markdown",
   "id": "37118b55",
   "metadata": {},
   "source": [
    "# Inheritance\n",
    "When a class derives from another class. The child class will inherit all the public and protected properties and methods from the parent class. In addition, it can have its own properties and methods. An inherited class is defined by using the extends keyword."
   ]
  },
  {
   "cell_type": "code",
   "execution_count": 1,
   "id": "4cdda80c",
   "metadata": {},
   "outputs": [],
   "source": [
    "class Animal():\n",
    "    def ___init__(self):\n",
    "        print('ANIMAL CREATED')\n",
    "        \n",
    "    def who_am_i(self):\n",
    "        print(\"I'm an animal\")\n",
    "        \n",
    "    def eat(self):\n",
    "        print(\"I am eating\")"
   ]
  },
  {
   "cell_type": "code",
   "execution_count": 2,
   "id": "154b877d",
   "metadata": {},
   "outputs": [],
   "source": [
    "animal = Animal()"
   ]
  },
  {
   "cell_type": "code",
   "execution_count": 12,
   "id": "858e0c09",
   "metadata": {},
   "outputs": [],
   "source": [
    "#Drived class\n",
    "class Dog(Animal):\n",
    "    \n",
    "    #An attribute\n",
    "    sound = 'WOOFFF!'\n",
    "    \n",
    "    def __init__(self):\n",
    "        Animal.___init__(self)\n",
    "        print('DOg object created')\n",
    "        \n",
    "    #We can also over write the inherited method in the child class\n",
    "    def who_am_i(self):\n",
    "        print(\"I am a Dog\")\n",
    "        \n",
    "    #We can add new methods as well\n",
    "    def bark(self):\n",
    "        print(f'barks {self.sound}')\n",
    "        "
   ]
  },
  {
   "cell_type": "code",
   "execution_count": 13,
   "id": "b0d5424a",
   "metadata": {},
   "outputs": [
    {
     "name": "stdout",
     "output_type": "stream",
     "text": [
      "ANIMAL CREATED\n",
      "DOg object created\n"
     ]
    }
   ],
   "source": [
    "my_dog = Dog()"
   ]
  },
  {
   "cell_type": "code",
   "execution_count": 14,
   "id": "004598da",
   "metadata": {},
   "outputs": [
    {
     "name": "stdout",
     "output_type": "stream",
     "text": [
      "I am a Dog\n"
     ]
    }
   ],
   "source": [
    "my_dog.who_am_i()"
   ]
  },
  {
   "cell_type": "code",
   "execution_count": 15,
   "id": "f7cb5d48",
   "metadata": {},
   "outputs": [
    {
     "name": "stdout",
     "output_type": "stream",
     "text": [
      "barks WOOFFF!\n"
     ]
    }
   ],
   "source": [
    "my_dog.bark()"
   ]
  },
  {
   "cell_type": "markdown",
   "id": "69ef7dea",
   "metadata": {},
   "source": [
    "# Polymorphism\n",
    "Polymorphism is one of the core concepts of object-oriented programming (OOP) and describes situations in which something occurs in several different forms. In computer science, it describes the concept that you can access objects of different types through the same interface."
   ]
  },
  {
   "cell_type": "code",
   "execution_count": 16,
   "id": "1b7a4805",
   "metadata": {},
   "outputs": [],
   "source": [
    "class Dog():\n",
    "    \n",
    "    def __init__(self, name):\n",
    "        self.name  = name\n",
    "        \n",
    "    def speaks(self):\n",
    "        return self.name + 'says Woof!'"
   ]
  },
  {
   "cell_type": "code",
   "execution_count": 30,
   "id": "216802c4",
   "metadata": {},
   "outputs": [],
   "source": [
    "class Cat():\n",
    "    \n",
    "    def __init__(self, name):\n",
    "        self.name  = name\n",
    "        \n",
    "    def speaks(self):\n",
    "        return self.name + ' says Mewwoo!'"
   ]
  },
  {
   "cell_type": "code",
   "execution_count": 31,
   "id": "4a40cacf",
   "metadata": {},
   "outputs": [],
   "source": [
    "niko = Dog('niko')\n",
    "felix = Cat('felix')"
   ]
  },
  {
   "cell_type": "code",
   "execution_count": 32,
   "id": "4113041d",
   "metadata": {},
   "outputs": [
    {
     "data": {
      "text/plain": [
       "'nikosays Woof!'"
      ]
     },
     "execution_count": 32,
     "metadata": {},
     "output_type": "execute_result"
    }
   ],
   "source": [
    "niko.speaks()"
   ]
  },
  {
   "cell_type": "code",
   "execution_count": 33,
   "id": "993cc82c",
   "metadata": {},
   "outputs": [
    {
     "data": {
      "text/plain": [
       "'felix says Mewwoo!'"
      ]
     },
     "execution_count": 33,
     "metadata": {},
     "output_type": "execute_result"
    }
   ],
   "source": [
    "felix.speaks()"
   ]
  },
  {
   "cell_type": "code",
   "execution_count": 34,
   "id": "55949e92",
   "metadata": {},
   "outputs": [
    {
     "name": "stdout",
     "output_type": "stream",
     "text": [
      "<class '__main__.Dog'>\n",
      "nikosays Woof!\n",
      "<class '__main__.Cat'>\n",
      "felix says Mewwoo!\n"
     ]
    }
   ],
   "source": [
    "# One way to show polymorphism is itteration\n",
    "for pet in [niko, felix]:\n",
    "    \n",
    "    print(type(pet))\n",
    "    print(pet.speaks())"
   ]
  },
  {
   "cell_type": "code",
   "execution_count": 35,
   "id": "a965b3a2",
   "metadata": {},
   "outputs": [],
   "source": [
    "# One more way to show poylmorphism is Function\n",
    "def sound(pet):\n",
    "    print(pet.speaks())"
   ]
  },
  {
   "cell_type": "code",
   "execution_count": 36,
   "id": "45465e23",
   "metadata": {},
   "outputs": [
    {
     "name": "stdout",
     "output_type": "stream",
     "text": [
      "nikosays Woof!\n"
     ]
    }
   ],
   "source": [
    "sound(niko)"
   ]
  },
  {
   "cell_type": "code",
   "execution_count": 37,
   "id": "7dcfb9af",
   "metadata": {},
   "outputs": [
    {
     "name": "stdout",
     "output_type": "stream",
     "text": [
      "felix says Mewwoo!\n"
     ]
    }
   ],
   "source": [
    "sound(felix)"
   ]
  },
  {
   "cell_type": "markdown",
   "id": "5454da18",
   "metadata": {},
   "source": [
    "# Abstract Classes\n",
    "a template definition of methods and variables of a class (category of objects) that contains one or more abstracted methods"
   ]
  },
  {
   "cell_type": "code",
   "execution_count": 38,
   "id": "7e05712b",
   "metadata": {},
   "outputs": [],
   "source": [
    "#NOT excutable class, used for the purpose of inheritance\n",
    "class Animal():\n",
    "    \n",
    "    def __init__(self, name):\n",
    "        self.name = name\n",
    "    \n",
    "    def speak(self):\n",
    "        raise NotImplementedError(\"Subclass must implement this abstract method\")"
   ]
  },
  {
   "cell_type": "code",
   "execution_count": null,
   "id": "42a97a28",
   "metadata": {},
   "outputs": [],
   "source": []
  }
 ],
 "metadata": {
  "kernelspec": {
   "display_name": "Python 3 (ipykernel)",
   "language": "python",
   "name": "python3"
  },
  "language_info": {
   "codemirror_mode": {
    "name": "ipython",
    "version": 3
   },
   "file_extension": ".py",
   "mimetype": "text/x-python",
   "name": "python",
   "nbconvert_exporter": "python",
   "pygments_lexer": "ipython3",
   "version": "3.9.7"
  }
 },
 "nbformat": 4,
 "nbformat_minor": 5
}
