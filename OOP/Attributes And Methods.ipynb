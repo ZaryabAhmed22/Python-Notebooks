{
 "cells": [
  {
   "cell_type": "markdown",
   "id": "22b3be51",
   "metadata": {},
   "source": [
    "# Attribute\n",
    "In Object-oriented programming(OOP), classes and objects have attributes. Attributes are data stored inside a class or instance and represent the state or quality of the class or instance. In short, attributes store information about the instance."
   ]
  },
  {
   "cell_type": "code",
   "execution_count": 6,
   "id": "7aadad0e",
   "metadata": {},
   "outputs": [],
   "source": [
    "class Dog():\n",
    "    #Class Object Attribute >. just say it's a global attribute for whole class\n",
    "    #Same for any instance of a class so we will not use the self keyword\n",
    "    species = 'mammal'\n",
    "    \n",
    "    \n",
    "    #creating attributes >> init is the constructor\n",
    "    def __init__(self, dog_breed, name, color, spots):\n",
    "        self.breed = dog_breed\n",
    "        self.name = name\n",
    "        self.color = color\n",
    "        \n",
    "        #Expecting a boolean\n",
    "        self.spots = spots"
   ]
  },
  {
   "cell_type": "code",
   "execution_count": 4,
   "id": "baff0bc8",
   "metadata": {},
   "outputs": [],
   "source": [
    "my_dog = Dog(dog_breed='Lab', name='Tommy', color=\"Grey\", spots=False)"
   ]
  },
  {
   "cell_type": "code",
   "execution_count": 5,
   "id": "5b74be09",
   "metadata": {},
   "outputs": [
    {
     "data": {
      "text/plain": [
       "'mammal'"
      ]
     },
     "execution_count": 5,
     "metadata": {},
     "output_type": "execute_result"
    }
   ],
   "source": [
    "my_dog.species"
   ]
  },
  {
   "cell_type": "markdown",
   "id": "b683de34",
   "metadata": {},
   "source": [
    "# Methods\n",
    "A method in object-oriented programming (OOP) is a procedure associated with a message and an object. An object consists of state data and behavior; these compose an interface, which specifies how the object may be utilized by any of its various consumers. A method is a behavior of an object parametrized by a consumer."
   ]
  },
  {
   "cell_type": "code",
   "execution_count": 32,
   "id": "0648ceb5",
   "metadata": {},
   "outputs": [],
   "source": [
    "class Cat():\n",
    "    #Class Object Attribute >. just say it's a global attribute for whole class\n",
    "    #Same for any instance of a class so we will not use the self keyword\n",
    "    species = 'mammal'\n",
    "    \n",
    "    \n",
    "    #creating attributes >> init is the constructor\n",
    "    def __init__(self, cat_breed, name, color):\n",
    "        self.breed = cat_breed\n",
    "        self.name = name\n",
    "        self.color = color\n",
    "        \n",
    "    #Method\n",
    "    def mewo(self):\n",
    "        print('mewo')\n",
    "        \n",
    "    def say_name(self):\n",
    "        print(\"Mewo! my name is {}\".format(self.name))\n",
    "    \n",
    "    #passing in external or added parameters\n",
    "    def say_name_age(self, number):\n",
    "        print(\"Mewo! my name is {}, my age is {} months\".format(self.name, number))"
   ]
  },
  {
   "cell_type": "code",
   "execution_count": 33,
   "id": "2c319d4c",
   "metadata": {},
   "outputs": [],
   "source": [
    "my_cat = Cat('Persian', 'Jan', 'white')"
   ]
  },
  {
   "cell_type": "code",
   "execution_count": 34,
   "id": "54ff2283",
   "metadata": {},
   "outputs": [
    {
     "data": {
      "text/plain": [
       "'Persian'"
      ]
     },
     "execution_count": 34,
     "metadata": {},
     "output_type": "execute_result"
    }
   ],
   "source": [
    "my_cat.breed"
   ]
  },
  {
   "cell_type": "code",
   "execution_count": 35,
   "id": "855402cf",
   "metadata": {},
   "outputs": [
    {
     "name": "stdout",
     "output_type": "stream",
     "text": [
      "mewo\n"
     ]
    }
   ],
   "source": [
    "my_cat.mewo()"
   ]
  },
  {
   "cell_type": "code",
   "execution_count": 36,
   "id": "36742495",
   "metadata": {},
   "outputs": [
    {
     "name": "stdout",
     "output_type": "stream",
     "text": [
      "Mewo! my name is Jan\n"
     ]
    }
   ],
   "source": [
    "my_cat.say_name()"
   ]
  },
  {
   "cell_type": "code",
   "execution_count": 37,
   "id": "9d9c0d06",
   "metadata": {},
   "outputs": [
    {
     "name": "stdout",
     "output_type": "stream",
     "text": [
      "Mewo! my name is Jan, my age is 18 months\n"
     ]
    }
   ],
   "source": [
    "my_cat.say_name_age(18)"
   ]
  },
  {
   "cell_type": "code",
   "execution_count": null,
   "id": "6905063e",
   "metadata": {},
   "outputs": [],
   "source": []
  },
  {
   "cell_type": "code",
   "execution_count": null,
   "id": "c33e74d2",
   "metadata": {},
   "outputs": [],
   "source": []
  },
  {
   "cell_type": "code",
   "execution_count": 47,
   "id": "01204588",
   "metadata": {},
   "outputs": [],
   "source": [
    "class Circle():\n",
    "    \n",
    "    #CLASS OBJECT ATTRIBUTE\n",
    "    pi = 3.14\n",
    "    \n",
    "    #CONSTRUCTOR\n",
    "    def __init__(self, radius=1):\n",
    "        self.radius = radius\n",
    "        \n",
    "    #METHODS\n",
    "    def circumference(self):\n",
    "        return self.radius * self.pi * 2 # >> slef.pi can also be written as Circle.pi"
   ]
  },
  {
   "cell_type": "code",
   "execution_count": 42,
   "id": "d73b6bbe",
   "metadata": {},
   "outputs": [],
   "source": [
    "my_circle = Circle()"
   ]
  },
  {
   "cell_type": "code",
   "execution_count": 43,
   "id": "ce4b62f3",
   "metadata": {},
   "outputs": [
    {
     "data": {
      "text/plain": [
       "6.28"
      ]
     },
     "execution_count": 43,
     "metadata": {},
     "output_type": "execute_result"
    }
   ],
   "source": [
    "my_circle.circumference()"
   ]
  },
  {
   "cell_type": "code",
   "execution_count": 45,
   "id": "dcc62a5f",
   "metadata": {},
   "outputs": [],
   "source": [
    "my_circle = Circle(30)"
   ]
  },
  {
   "cell_type": "code",
   "execution_count": 46,
   "id": "7e330994",
   "metadata": {},
   "outputs": [
    {
     "data": {
      "text/plain": [
       "188.4"
      ]
     },
     "execution_count": 46,
     "metadata": {},
     "output_type": "execute_result"
    }
   ],
   "source": [
    "my_circle.circumference()"
   ]
  },
  {
   "cell_type": "code",
   "execution_count": null,
   "id": "48fb66be",
   "metadata": {},
   "outputs": [],
   "source": []
  }
 ],
 "metadata": {
  "kernelspec": {
   "display_name": "Python 3 (ipykernel)",
   "language": "python",
   "name": "python3"
  },
  "language_info": {
   "codemirror_mode": {
    "name": "ipython",
    "version": 3
   },
   "file_extension": ".py",
   "mimetype": "text/x-python",
   "name": "python",
   "nbconvert_exporter": "python",
   "pygments_lexer": "ipython3",
   "version": "3.9.7"
  }
 },
 "nbformat": 4,
 "nbformat_minor": 5
}
