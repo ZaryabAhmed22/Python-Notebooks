{
 "cells": [
  {
   "cell_type": "markdown",
   "id": "5f372ca7",
   "metadata": {},
   "source": [
    "# Class\n",
    "a class is a blueprint for creating objects (a particular data structure), providing initial values for state (member variables or attributes), and implementations of behavior (member functions or methods). The user-defined objects are created using the class keyword."
   ]
  },
  {
   "cell_type": "code",
   "execution_count": 1,
   "id": "1b84a6e1",
   "metadata": {},
   "outputs": [],
   "source": [
    "class Sample():\n",
    "    pass"
   ]
  },
  {
   "cell_type": "code",
   "execution_count": 2,
   "id": "2090f77e",
   "metadata": {},
   "outputs": [
    {
     "data": {
      "text/plain": [
       "type"
      ]
     },
     "execution_count": 2,
     "metadata": {},
     "output_type": "execute_result"
    }
   ],
   "source": [
    "type(Sample)"
   ]
  },
  {
   "cell_type": "code",
   "execution_count": 3,
   "id": "c3374679",
   "metadata": {},
   "outputs": [],
   "source": [
    "my_sample = Sample()"
   ]
  },
  {
   "cell_type": "code",
   "execution_count": 4,
   "id": "c9735b6e",
   "metadata": {},
   "outputs": [
    {
     "data": {
      "text/plain": [
       "__main__.Sample"
      ]
     },
     "execution_count": 4,
     "metadata": {},
     "output_type": "execute_result"
    }
   ],
   "source": [
    "type(my_sample)"
   ]
  },
  {
   "cell_type": "markdown",
   "id": "43e58e26",
   "metadata": {},
   "source": [
    "# Attribute\n",
    "In Object-oriented programming(OOP), classes and objects have attributes. Attributes are data stored inside a class or instance and represent the state or quality of the class or instance. In short, attributes store information about the instance."
   ]
  },
  {
   "cell_type": "code",
   "execution_count": 16,
   "id": "940005cc",
   "metadata": {},
   "outputs": [],
   "source": [
    "class Dog():\n",
    "    #creating attributes >> init is the constructor\n",
    "    def __init__(self, dog_breed, name, color, spots):\n",
    "        self.breed = dog_breed\n",
    "        self.name = name\n",
    "        self.color = color\n",
    "        \n",
    "        #Expecting a boolean\n",
    "        self.spots = spots"
   ]
  },
  {
   "cell_type": "code",
   "execution_count": 11,
   "id": "000bb796",
   "metadata": {},
   "outputs": [],
   "source": [
    "my_dog = Dog(dog_breed = 'Lab')"
   ]
  },
  {
   "cell_type": "code",
   "execution_count": 12,
   "id": "22446f95",
   "metadata": {},
   "outputs": [
    {
     "data": {
      "text/plain": [
       "__main__.Dog"
      ]
     },
     "execution_count": 12,
     "metadata": {},
     "output_type": "execute_result"
    }
   ],
   "source": [
    "type(my_dog)"
   ]
  },
  {
   "cell_type": "code",
   "execution_count": 13,
   "id": "b8dafc8f",
   "metadata": {},
   "outputs": [
    {
     "data": {
      "text/plain": [
       "'Lab'"
      ]
     },
     "execution_count": 13,
     "metadata": {},
     "output_type": "execute_result"
    }
   ],
   "source": [
    "my_dog.breed"
   ]
  },
  {
   "cell_type": "code",
   "execution_count": 14,
   "id": "38859cec",
   "metadata": {},
   "outputs": [],
   "source": [
    "my_second_dog = Dog(dog_breed = 'German Sheferd')"
   ]
  },
  {
   "cell_type": "code",
   "execution_count": 15,
   "id": "ff01d92d",
   "metadata": {},
   "outputs": [
    {
     "data": {
      "text/plain": [
       "'German Sheferd'"
      ]
     },
     "execution_count": 15,
     "metadata": {},
     "output_type": "execute_result"
    }
   ],
   "source": [
    "my_second_dog.breed"
   ]
  },
  {
   "cell_type": "code",
   "execution_count": 23,
   "id": "6fbda52c",
   "metadata": {},
   "outputs": [],
   "source": [
    "# In this case breed is the attribute\n",
    "# We can pass in more attributes\n",
    "# Python doesn't do type check on attributes by default"
   ]
  },
  {
   "cell_type": "code",
   "execution_count": 19,
   "id": "5802a581",
   "metadata": {},
   "outputs": [],
   "source": [
    "my_third_dog = Dog(dog_breed='Lab', name='Tommy', color='Grey', spots='False')"
   ]
  },
  {
   "cell_type": "code",
   "execution_count": 20,
   "id": "238758ed",
   "metadata": {},
   "outputs": [
    {
     "data": {
      "text/plain": [
       "'Lab'"
      ]
     },
     "execution_count": 20,
     "metadata": {},
     "output_type": "execute_result"
    }
   ],
   "source": [
    "my_third_dog.breed"
   ]
  },
  {
   "cell_type": "code",
   "execution_count": 21,
   "id": "723b838b",
   "metadata": {},
   "outputs": [
    {
     "data": {
      "text/plain": [
       "'Tommy'"
      ]
     },
     "execution_count": 21,
     "metadata": {},
     "output_type": "execute_result"
    }
   ],
   "source": [
    "my_third_dog.name"
   ]
  },
  {
   "cell_type": "code",
   "execution_count": null,
   "id": "b2e6f40f",
   "metadata": {},
   "outputs": [],
   "source": []
  }
 ],
 "metadata": {
  "kernelspec": {
   "display_name": "Python 3 (ipykernel)",
   "language": "python",
   "name": "python3"
  },
  "language_info": {
   "codemirror_mode": {
    "name": "ipython",
    "version": 3
   },
   "file_extension": ".py",
   "mimetype": "text/x-python",
   "name": "python",
   "nbconvert_exporter": "python",
   "pygments_lexer": "ipython3",
   "version": "3.9.7"
  }
 },
 "nbformat": 4,
 "nbformat_minor": 5
}
