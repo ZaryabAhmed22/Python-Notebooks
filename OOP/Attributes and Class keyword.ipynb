{
 "cells": [
  {
   "cell_type": "markdown",
   "id": "7a3a8d5f",
   "metadata": {},
   "source": [
    "# Class\n",
    "a class is a blueprint for creating objects (a particular data structure), providing initial values for state (member variables or attributes), and implementations of behavior (member functions or methods). The user-defined objects are created using the class keyword."
   ]
  },
  {
   "cell_type": "code",
   "execution_count": 1,
   "id": "db5957ff",
   "metadata": {},
   "outputs": [],
   "source": [
    "class Sample():\n",
    "    pass"
   ]
  },
  {
   "cell_type": "code",
   "execution_count": 2,
   "id": "60b4b2be",
   "metadata": {},
   "outputs": [
    {
     "data": {
      "text/plain": [
       "type"
      ]
     },
     "execution_count": 2,
     "metadata": {},
     "output_type": "execute_result"
    }
   ],
   "source": [
    "type(Sample)"
   ]
  },
  {
   "cell_type": "code",
   "execution_count": 3,
   "id": "f627bc2d",
   "metadata": {},
   "outputs": [],
   "source": [
    "my_sample = Sample()"
   ]
  },
  {
   "cell_type": "code",
   "execution_count": 4,
   "id": "a410637a",
   "metadata": {},
   "outputs": [
    {
     "data": {
      "text/plain": [
       "__main__.Sample"
      ]
     },
     "execution_count": 4,
     "metadata": {},
     "output_type": "execute_result"
    }
   ],
   "source": [
    "type(my_sample)"
   ]
  },
  {
   "cell_type": "markdown",
   "id": "0462691a",
   "metadata": {},
   "source": [
    "# Attribute\n",
    "In Object-oriented programming(OOP), classes and objects have attributes. Attributes are data stored inside a class or instance and represent the state or quality of the class or instance. In short, attributes store information about the instance."
   ]
  },
  {
   "cell_type": "code",
   "execution_count": 16,
   "id": "baea283e",
   "metadata": {},
   "outputs": [],
   "source": [
    "class Dog():\n",
    "    #creating attributes >> init is the constructor\n",
    "    def __init__(self, dog_breed, name, color, spots):\n",
    "        self.breed = dog_breed\n",
    "        self.name = name\n",
    "        self.color = color\n",
    "        \n",
    "        #Expecting a boolean\n",
    "        self.spots = spots"
   ]
  },
  {
   "cell_type": "code",
   "execution_count": 11,
   "id": "ceb759a2",
   "metadata": {},
   "outputs": [],
   "source": [
    "my_dog = Dog(dog_breed = 'Lab')"
   ]
  },
  {
   "cell_type": "code",
   "execution_count": 12,
   "id": "c9a5ac1a",
   "metadata": {},
   "outputs": [
    {
     "data": {
      "text/plain": [
       "__main__.Dog"
      ]
     },
     "execution_count": 12,
     "metadata": {},
     "output_type": "execute_result"
    }
   ],
   "source": [
    "type(my_dog)"
   ]
  },
  {
   "cell_type": "code",
   "execution_count": 13,
   "id": "0484121f",
   "metadata": {},
   "outputs": [
    {
     "data": {
      "text/plain": [
       "'Lab'"
      ]
     },
     "execution_count": 13,
     "metadata": {},
     "output_type": "execute_result"
    }
   ],
   "source": [
    "my_dog.breed"
   ]
  },
  {
   "cell_type": "code",
   "execution_count": 14,
   "id": "d3a0cd75",
   "metadata": {},
   "outputs": [],
   "source": [
    "my_second_dog = Dog(dog_breed = 'German Sheferd')"
   ]
  },
  {
   "cell_type": "code",
   "execution_count": 15,
   "id": "8c522bbc",
   "metadata": {},
   "outputs": [
    {
     "data": {
      "text/plain": [
       "'German Sheferd'"
      ]
     },
     "execution_count": 15,
     "metadata": {},
     "output_type": "execute_result"
    }
   ],
   "source": [
    "my_second_dog.breed"
   ]
  },
  {
   "cell_type": "code",
   "execution_count": 22,
   "id": "2891dc1b",
   "metadata": {},
   "outputs": [],
   "source": [
    "# In this case breed is the attribute\n",
    "#We can pass in more attributes"
   ]
  },
  {
   "cell_type": "code",
   "execution_count": 19,
   "id": "1861fd51",
   "metadata": {},
   "outputs": [],
   "source": [
    "my_third_dog = Dog(dog_breed='Lab', name='Tommy', color='Grey', spots='False')"
   ]
  },
  {
   "cell_type": "code",
   "execution_count": 20,
   "id": "8580a11c",
   "metadata": {},
   "outputs": [
    {
     "data": {
      "text/plain": [
       "'Lab'"
      ]
     },
     "execution_count": 20,
     "metadata": {},
     "output_type": "execute_result"
    }
   ],
   "source": [
    "my_third_dog.breed"
   ]
  },
  {
   "cell_type": "code",
   "execution_count": 21,
   "id": "d7a9de9c",
   "metadata": {},
   "outputs": [
    {
     "data": {
      "text/plain": [
       "'Tommy'"
      ]
     },
     "execution_count": 21,
     "metadata": {},
     "output_type": "execute_result"
    }
   ],
   "source": [
    "my_third_dog.name"
   ]
  },
  {
   "cell_type": "code",
   "execution_count": null,
   "id": "db6b5d7c",
   "metadata": {},
   "outputs": [],
   "source": []
  }
 ],
 "metadata": {
  "kernelspec": {
   "display_name": "Python 3 (ipykernel)",
   "language": "python",
   "name": "python3"
  },
  "language_info": {
   "codemirror_mode": {
    "name": "ipython",
    "version": 3
   },
   "file_extension": ".py",
   "mimetype": "text/x-python",
   "name": "python",
   "nbconvert_exporter": "python",
   "pygments_lexer": "ipython3",
   "version": "3.9.7"
  }
 },
 "nbformat": 4,
 "nbformat_minor": 5
}
