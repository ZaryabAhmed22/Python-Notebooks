{
 "cells": [
  {
   "cell_type": "code",
   "execution_count": 1,
   "id": "cbc6df76",
   "metadata": {},
   "outputs": [],
   "source": [
    "my_list = [1,2,3]"
   ]
  },
  {
   "cell_type": "code",
   "execution_count": 2,
   "id": "25dbda8e",
   "metadata": {},
   "outputs": [
    {
     "data": {
      "text/plain": [
       "3"
      ]
     },
     "execution_count": 2,
     "metadata": {},
     "output_type": "execute_result"
    }
   ],
   "source": [
    "len(my_list) #>> this is a example of a special method"
   ]
  },
  {
   "cell_type": "code",
   "execution_count": 3,
   "id": "75d313b4",
   "metadata": {},
   "outputs": [],
   "source": [
    "class Sample():\n",
    "    pass\n"
   ]
  },
  {
   "cell_type": "code",
   "execution_count": 4,
   "id": "429e4086",
   "metadata": {},
   "outputs": [],
   "source": [
    "my_sample  =Sample()"
   ]
  },
  {
   "cell_type": "code",
   "execution_count": 5,
   "id": "f3cd8d32",
   "metadata": {},
   "outputs": [
    {
     "name": "stdout",
     "output_type": "stream",
     "text": [
      "<__main__.Sample object at 0x0000014DEBB0A130>\n"
     ]
    }
   ],
   "source": [
    "print(my_sample)"
   ]
  },
  {
   "cell_type": "code",
   "execution_count": 6,
   "id": "446ddb77",
   "metadata": {},
   "outputs": [
    {
     "name": "stdout",
     "output_type": "stream",
     "text": [
      "[1, 2, 3]\n"
     ]
    }
   ],
   "source": [
    "print(my_list)"
   ]
  },
  {
   "cell_type": "markdown",
   "id": "49fad639",
   "metadata": {},
   "source": [
    "So it's clear that when we tried to print our custom created Methods, is only displays the memory location but not the actual instance of the object as in the case of list\n",
    "\n",
    "*To solve this problem we use special methods*"
   ]
  },
  {
   "cell_type": "code",
   "execution_count": 22,
   "id": "7fcadf98",
   "metadata": {},
   "outputs": [],
   "source": [
    "class Book():\n",
    "    \n",
    "    def __init__(self, title, author, pages):\n",
    "        \n",
    "        self.title = title\n",
    "        self.author  = author\n",
    "        self.pages = pages\n",
    "        \n",
    "    #Special Method \n",
    "    def __str__(self):\n",
    "        return (f\"{self.title} by {self.author}\")\n",
    "    \n",
    "    def __len__(self):\n",
    "        return self.pages\n",
    "    \n",
    "    def __del__(self):\n",
    "        print ('A book has been deleted!')"
   ]
  },
  {
   "cell_type": "code",
   "execution_count": 23,
   "id": "b2068228",
   "metadata": {},
   "outputs": [],
   "source": [
    "b = Book('Python rocks', 'Jose', 200)"
   ]
  },
  {
   "cell_type": "code",
   "execution_count": 24,
   "id": "cf09b55d",
   "metadata": {},
   "outputs": [
    {
     "data": {
      "text/plain": [
       "'Python rocks by Jose'"
      ]
     },
     "execution_count": 24,
     "metadata": {},
     "output_type": "execute_result"
    }
   ],
   "source": [
    "str(b)\n",
    "\n",
    "# Now the str functio returns what we expect to be returned, in the class itself by calling the special method"
   ]
  },
  {
   "cell_type": "code",
   "execution_count": 25,
   "id": "d758310f",
   "metadata": {},
   "outputs": [
    {
     "data": {
      "text/plain": [
       "200"
      ]
     },
     "execution_count": 25,
     "metadata": {},
     "output_type": "execute_result"
    }
   ],
   "source": [
    "len(b)"
   ]
  },
  {
   "cell_type": "code",
   "execution_count": 27,
   "id": "b5580f5e",
   "metadata": {},
   "outputs": [
    {
     "name": "stdout",
     "output_type": "stream",
     "text": [
      "Python rocks by Jose\n"
     ]
    }
   ],
   "source": [
    "print(b)"
   ]
  },
  {
   "cell_type": "code",
   "execution_count": 28,
   "id": "6d5e93fd",
   "metadata": {},
   "outputs": [],
   "source": [
    "del b"
   ]
  },
  {
   "cell_type": "code",
   "execution_count": 29,
   "id": "621bb9db",
   "metadata": {},
   "outputs": [
    {
     "ename": "NameError",
     "evalue": "name 'b' is not defined",
     "output_type": "error",
     "traceback": [
      "\u001b[1;31m---------------------------------------------------------------------------\u001b[0m",
      "\u001b[1;31mNameError\u001b[0m                                 Traceback (most recent call last)",
      "\u001b[1;32m~\\AppData\\Local\\Temp/ipykernel_3000/324135452.py\u001b[0m in \u001b[0;36m<module>\u001b[1;34m\u001b[0m\n\u001b[1;32m----> 1\u001b[1;33m \u001b[0mprint\u001b[0m\u001b[1;33m(\u001b[0m\u001b[0mb\u001b[0m\u001b[1;33m)\u001b[0m\u001b[1;33m\u001b[0m\u001b[1;33m\u001b[0m\u001b[0m\n\u001b[0m",
      "\u001b[1;31mNameError\u001b[0m: name 'b' is not defined"
     ]
    }
   ],
   "source": [
    "print(b)"
   ]
  },
  {
   "cell_type": "code",
   "execution_count": null,
   "id": "65f5f754",
   "metadata": {},
   "outputs": [],
   "source": []
  }
 ],
 "metadata": {
  "kernelspec": {
   "display_name": "Python 3 (ipykernel)",
   "language": "python",
   "name": "python3"
  },
  "language_info": {
   "codemirror_mode": {
    "name": "ipython",
    "version": 3
   },
   "file_extension": ".py",
   "mimetype": "text/x-python",
   "name": "python",
   "nbconvert_exporter": "python",
   "pygments_lexer": "ipython3",
   "version": "3.9.7"
  }
 },
 "nbformat": 4,
 "nbformat_minor": 5
}
