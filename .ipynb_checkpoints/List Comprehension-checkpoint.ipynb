{
 "cells": [
  {
   "cell_type": "code",
   "execution_count": 2,
   "id": "1e5325c3",
   "metadata": {},
   "outputs": [],
   "source": [
    "my_string = 'hello'\n",
    "\n",
    "my_list = []\n",
    "\n",
    "for letter in my_string:\n",
    "    my_list.append(letter)"
   ]
  },
  {
   "cell_type": "code",
   "execution_count": 3,
   "id": "6400b4fd",
   "metadata": {},
   "outputs": [
    {
     "data": {
      "text/plain": [
       "['h', 'e', 'l', 'l', 'o']"
      ]
     },
     "execution_count": 3,
     "metadata": {},
     "output_type": "execute_result"
    }
   ],
   "source": [
    "my_list "
   ]
  },
  {
   "cell_type": "code",
   "execution_count": 8,
   "id": "fbd49d57",
   "metadata": {},
   "outputs": [],
   "source": [
    "my_string2 = 'Zaryab'\n",
    "\n",
    "#List comprehension\n",
    "my_list2 = [letter for letter in my_string2]\n"
   ]
  },
  {
   "cell_type": "code",
   "execution_count": 9,
   "id": "9123bc49",
   "metadata": {},
   "outputs": [
    {
     "data": {
      "text/plain": [
       "['Z', 'a', 'r', 'y', 'a', 'b']"
      ]
     },
     "execution_count": 9,
     "metadata": {},
     "output_type": "execute_result"
    }
   ],
   "source": [
    "my_list2"
   ]
  },
  {
   "cell_type": "code",
   "execution_count": 10,
   "id": "d1cf1764",
   "metadata": {},
   "outputs": [],
   "source": [
    "my_list = [element for element in 'words' ]"
   ]
  },
  {
   "cell_type": "code",
   "execution_count": 11,
   "id": "787375de",
   "metadata": {},
   "outputs": [
    {
     "data": {
      "text/plain": [
       "['w', 'o', 'r', 'd', 's']"
      ]
     },
     "execution_count": 11,
     "metadata": {},
     "output_type": "execute_result"
    }
   ],
   "source": [
    "my_list"
   ]
  },
  {
   "cell_type": "code",
   "execution_count": 12,
   "id": "bea96507",
   "metadata": {},
   "outputs": [],
   "source": [
    "my_list = [num for num in range(0, 13, 3)]"
   ]
  },
  {
   "cell_type": "code",
   "execution_count": 13,
   "id": "9afd04ce",
   "metadata": {},
   "outputs": [
    {
     "data": {
      "text/plain": [
       "[0, 3, 6, 9, 12]"
      ]
     },
     "execution_count": 13,
     "metadata": {},
     "output_type": "execute_result"
    }
   ],
   "source": [
    "my_list"
   ]
  },
  {
   "cell_type": "code",
   "execution_count": 14,
   "id": "ba4a2dd9",
   "metadata": {},
   "outputs": [],
   "source": [
    "my_list = [num**2 for num in range(0, 13, 3)]"
   ]
  },
  {
   "cell_type": "code",
   "execution_count": 15,
   "id": "dab472ad",
   "metadata": {},
   "outputs": [
    {
     "data": {
      "text/plain": [
       "[0, 9, 36, 81, 144]"
      ]
     },
     "execution_count": 15,
     "metadata": {},
     "output_type": "execute_result"
    }
   ],
   "source": [
    "my_list"
   ]
  },
  {
   "cell_type": "markdown",
   "id": "3f284c18",
   "metadata": {},
   "source": [
    "we can also add if statements"
   ]
  },
  {
   "cell_type": "code",
   "execution_count": 17,
   "id": "e5135a06",
   "metadata": {},
   "outputs": [],
   "source": [
    "my_list = [num**2 for num in range(0, 13, 3) if num%2 == 0]"
   ]
  },
  {
   "cell_type": "code",
   "execution_count": 18,
   "id": "1ccefbe4",
   "metadata": {},
   "outputs": [
    {
     "data": {
      "text/plain": [
       "[0, 36, 144]"
      ]
     },
     "execution_count": 18,
     "metadata": {},
     "output_type": "execute_result"
    }
   ],
   "source": [
    "my_list"
   ]
  },
  {
   "cell_type": "code",
   "execution_count": 19,
   "id": "a55d7c5e",
   "metadata": {},
   "outputs": [],
   "source": [
    "celcius = [10,30,40,55.5]\n",
    "\n",
    "farenhiet = [((9/5)*temp + 32) for temp in celcius]"
   ]
  },
  {
   "cell_type": "code",
   "execution_count": 20,
   "id": "3bb2d0ee",
   "metadata": {},
   "outputs": [
    {
     "data": {
      "text/plain": [
       "[50.0, 86.0, 104.0, 131.9]"
      ]
     },
     "execution_count": 20,
     "metadata": {},
     "output_type": "execute_result"
    }
   ],
   "source": [
    "farenhiet"
   ]
  },
  {
   "cell_type": "code",
   "execution_count": null,
   "id": "4bbbb448",
   "metadata": {},
   "outputs": [],
   "source": []
  }
 ],
 "metadata": {
  "kernelspec": {
   "display_name": "Python 3 (ipykernel)",
   "language": "python",
   "name": "python3"
  },
  "language_info": {
   "codemirror_mode": {
    "name": "ipython",
    "version": 3
   },
   "file_extension": ".py",
   "mimetype": "text/x-python",
   "name": "python",
   "nbconvert_exporter": "python",
   "pygments_lexer": "ipython3",
   "version": "3.9.7"
  }
 },
 "nbformat": 4,
 "nbformat_minor": 5
}
