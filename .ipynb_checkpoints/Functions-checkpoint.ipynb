{
 "cells": [
  {
   "cell_type": "code",
   "execution_count": 1,
   "id": "00e853ad",
   "metadata": {},
   "outputs": [],
   "source": [
    "def say_hello():\n",
    "    print('hello')\n",
    "    print('are')"
   ]
  },
  {
   "cell_type": "code",
   "execution_count": 2,
   "id": "c9c81c41",
   "metadata": {},
   "outputs": [
    {
     "name": "stdout",
     "output_type": "stream",
     "text": [
      "hello\n",
      "are\n"
     ]
    }
   ],
   "source": [
    "say_hello()"
   ]
  },
  {
   "cell_type": "markdown",
   "id": "723986a6",
   "metadata": {},
   "source": [
    "If we call functio nwith the (), it will only tell that the following name is a function"
   ]
  },
  {
   "cell_type": "code",
   "execution_count": 5,
   "id": "a10b836d",
   "metadata": {},
   "outputs": [],
   "source": [
    "def say_hello(name):\n",
    "    print(f'Hello {name}')"
   ]
  },
  {
   "cell_type": "code",
   "execution_count": 6,
   "id": "7691ffc8",
   "metadata": {},
   "outputs": [
    {
     "name": "stdout",
     "output_type": "stream",
     "text": [
      "Hello Zaryab\n"
     ]
    }
   ],
   "source": [
    "say_hello('Zaryab')"
   ]
  },
  {
   "cell_type": "code",
   "execution_count": 7,
   "id": "262537c6",
   "metadata": {},
   "outputs": [],
   "source": [
    "#we can also pass default parameters\n",
    "def say_hello(name='Ahmed'):\n",
    "    print(f'Hello {name}')"
   ]
  },
  {
   "cell_type": "code",
   "execution_count": 8,
   "id": "8f29a16b",
   "metadata": {},
   "outputs": [],
   "source": [
    "def add_num(num1, num2):\n",
    "    return num1+num2"
   ]
  },
  {
   "cell_type": "code",
   "execution_count": 9,
   "id": "5bc04226",
   "metadata": {},
   "outputs": [
    {
     "data": {
      "text/plain": [
       "30"
      ]
     },
     "execution_count": 9,
     "metadata": {},
     "output_type": "execute_result"
    }
   ],
   "source": [
    "add_num(10, 20)"
   ]
  },
  {
   "cell_type": "code",
   "execution_count": 11,
   "id": "9fa67418",
   "metadata": {},
   "outputs": [],
   "source": [
    "result = add_num(40,8)"
   ]
  },
  {
   "cell_type": "code",
   "execution_count": 12,
   "id": "49535c83",
   "metadata": {},
   "outputs": [
    {
     "data": {
      "text/plain": [
       "48"
      ]
     },
     "execution_count": 12,
     "metadata": {},
     "output_type": "execute_result"
    }
   ],
   "source": [
    "result"
   ]
  },
  {
   "cell_type": "markdown",
   "id": "4add1670",
   "metadata": {},
   "source": [
    "With print statement in the function rather than a return, it's not actually giving back an outpu that can be stored"
   ]
  },
  {
   "cell_type": "code",
   "execution_count": 14,
   "id": "69258838",
   "metadata": {},
   "outputs": [],
   "source": [
    "#We can also use print and return together >> mostyl useful for debugging\n",
    "def my_func(a, b):\n",
    "    print(a+b)\n",
    "    return(a+b)"
   ]
  },
  {
   "cell_type": "code",
   "execution_count": 15,
   "id": "b0814c8c",
   "metadata": {},
   "outputs": [
    {
     "name": "stdout",
     "output_type": "stream",
     "text": [
      "7\n"
     ]
    },
    {
     "data": {
      "text/plain": [
       "7"
      ]
     },
     "execution_count": 15,
     "metadata": {},
     "output_type": "execute_result"
    }
   ],
   "source": [
    "my_func(3,4)"
   ]
  },
  {
   "cell_type": "markdown",
   "id": "88bee9b5",
   "metadata": {},
   "source": [
    "Python is dynamically typed"
   ]
  },
  {
   "cell_type": "markdown",
   "id": "678196c7",
   "metadata": {},
   "source": [
    "> Make sure to check the type of data before returning the result"
   ]
  },
  {
   "cell_type": "markdown",
   "id": "65292f91",
   "metadata": {},
   "source": [
    "# Function With Logic"
   ]
  },
  {
   "cell_type": "code",
   "execution_count": 16,
   "id": "33d71b85",
   "metadata": {},
   "outputs": [],
   "source": [
    "def even_check(num):\n",
    "    return num%2 == 0"
   ]
  },
  {
   "cell_type": "code",
   "execution_count": 17,
   "id": "ec6421a4",
   "metadata": {},
   "outputs": [
    {
     "data": {
      "text/plain": [
       "True"
      ]
     },
     "execution_count": 17,
     "metadata": {},
     "output_type": "execute_result"
    }
   ],
   "source": [
    "even_check(20)"
   ]
  },
  {
   "cell_type": "code",
   "execution_count": 19,
   "id": "e30962bb",
   "metadata": {},
   "outputs": [],
   "source": [
    "# RETURN TRUE IF ANY NUMBER IS EVEN INSIDE THE LIST\n",
    "def check_even_list(num_list):\n",
    "    for num in num_list:\n",
    "        if num%2 == 0:\n",
    "            return True #the function is over once it sees the return keyword\n",
    "        else: pass #retutn False >> Wrong!!!"
   ]
  },
  {
   "cell_type": "code",
   "execution_count": 21,
   "id": "47416f44",
   "metadata": {},
   "outputs": [
    {
     "data": {
      "text/plain": [
       "True"
      ]
     },
     "execution_count": 21,
     "metadata": {},
     "output_type": "execute_result"
    }
   ],
   "source": [
    "check_even_list([12,34,5,67,57,5,6,8,56,87,56])"
   ]
  },
  {
   "cell_type": "code",
   "execution_count": 22,
   "id": "eb99aa70",
   "metadata": {},
   "outputs": [],
   "source": [
    "# RETURN TRUE IF ANY NUMBER IS EVEN INSIDE THE LIST\n",
    "def check_even_list(num_list):\n",
    "    for num in num_list:\n",
    "        if num%2 == 0:\n",
    "            return True #the function is over once it sees the return keyword\n",
    "        else: pass \n",
    "    return False"
   ]
  },
  {
   "cell_type": "code",
   "execution_count": 23,
   "id": "eed9ebe9",
   "metadata": {},
   "outputs": [],
   "source": [
    "# RETURN ALL THE EVEN NUMBERS IN A LIST \n",
    "def check_even_list(num_list):\n",
    "    \n",
    "    #Placeholder variable\n",
    "    even_numbers = []\n",
    "    \n",
    "    for num in num_list:\n",
    "        if num%2 == 0:\n",
    "            even_numbers.append(num)\n",
    "        else: pass \n",
    "    return even_numbers"
   ]
  },
  {
   "cell_type": "code",
   "execution_count": 24,
   "id": "298ca702",
   "metadata": {},
   "outputs": [
    {
     "data": {
      "text/plain": [
       "[12, 34, 6, 8, 56, 56]"
      ]
     },
     "execution_count": 24,
     "metadata": {},
     "output_type": "execute_result"
    }
   ],
   "source": [
    "check_even_list([12,34,5,67,57,5,6,8,56,87,56])"
   ]
  },
  {
   "cell_type": "markdown",
   "id": "d60c2589",
   "metadata": {},
   "source": [
    "# Tupple Unpacking"
   ]
  },
  {
   "cell_type": "code",
   "execution_count": 25,
   "id": "550f681e",
   "metadata": {},
   "outputs": [],
   "source": [
    "stock_prices = [('apple', 400), ('google', 300), ('ZAKware', 500)]"
   ]
  },
  {
   "cell_type": "code",
   "execution_count": 26,
   "id": "be4780ad",
   "metadata": {},
   "outputs": [
    {
     "name": "stdout",
     "output_type": "stream",
     "text": [
      "stock: apple, price: 400\n",
      "stock: google, price: 300\n",
      "stock: ZAKware, price: 500\n"
     ]
    }
   ],
   "source": [
    "for ticker, price in stock_prices:\n",
    "    print(f'stock: {ticker}, price: {price}')"
   ]
  },
  {
   "cell_type": "code",
   "execution_count": 30,
   "id": "1670ce93",
   "metadata": {},
   "outputs": [],
   "source": [
    "work_hours = [('Abby', 100), ('Zaryab', 120), ('Zabi', 130)]"
   ]
  },
  {
   "cell_type": "code",
   "execution_count": 32,
   "id": "dc00541e",
   "metadata": {},
   "outputs": [],
   "source": [
    "def employee_check(work_hours):\n",
    "    current_max = 0\n",
    "    employee_of_month = ''\n",
    "    \n",
    "    for employee, hrs in work_hours:\n",
    "        if hrs > current_max:\n",
    "            employee_of_month = employee\n",
    "            current_max = hrs\n",
    "        else: \n",
    "            #employee_of_month = employee_of_month\n",
    "            #current_max  = current_max\n",
    "            pass #do nothing\n",
    "    \n",
    "    #return\n",
    "    return(employee_of_month, current_max)"
   ]
  },
  {
   "cell_type": "code",
   "execution_count": 33,
   "id": "3fbab56a",
   "metadata": {},
   "outputs": [
    {
     "data": {
      "text/plain": [
       "('Zabi', 130)"
      ]
     },
     "execution_count": 33,
     "metadata": {},
     "output_type": "execute_result"
    }
   ],
   "source": [
    "employee_check(work_hours)"
   ]
  },
  {
   "cell_type": "markdown",
   "id": "332bbb0e",
   "metadata": {},
   "source": [
    "# ** args and ** kwargs"
   ]
  },
  {
   "cell_type": "code",
   "execution_count": 36,
   "id": "1c70ac62",
   "metadata": {},
   "outputs": [],
   "source": [
    "def myfunc(a,b):\n",
    "    #Return 5% of sum of a and b\n",
    "    return sum((a,b)) * 0.05"
   ]
  },
  {
   "cell_type": "code",
   "execution_count": 37,
   "id": "c7cf8b71",
   "metadata": {},
   "outputs": [
    {
     "data": {
      "text/plain": [
       "5.0"
      ]
     },
     "execution_count": 37,
     "metadata": {},
     "output_type": "execute_result"
    }
   ],
   "source": [
    "myfunc(40,60)"
   ]
  },
  {
   "cell_type": "markdown",
   "id": "5f7b4783",
   "metadata": {},
   "source": [
    "Problem, we want to make a function that can take more than one arguments <br>\n",
    "- Python will give an error if we call a function with more than 2 arguments"
   ]
  },
  {
   "cell_type": "code",
   "execution_count": 39,
   "id": "46980c11",
   "metadata": {},
   "outputs": [],
   "source": [
    "#usin*args to take as many argumetns as we want\n",
    "def myfunc(*args): #args can be anyother name with *, but the convention is to use *args\n",
    "    #Return 5% of sum of a and b\n",
    "    return sum(args) * 0.05"
   ]
  },
  {
   "cell_type": "code",
   "execution_count": 41,
   "id": "df355d49",
   "metadata": {},
   "outputs": [
    {
     "data": {
      "text/plain": [
       "15.25"
      ]
     },
     "execution_count": 41,
     "metadata": {},
     "output_type": "execute_result"
    }
   ],
   "source": [
    "#calling function with multiple number of arguments\n",
    "myfunc(5,6,7,8)\n",
    "\n",
    "myfunc(5,9,8)\n",
    "\n",
    "myfunc(7,8)\n",
    "\n",
    "myfunc(5,60,70,80,90)"
   ]
  },
  {
   "cell_type": "code",
   "execution_count": 45,
   "id": "e538b5d6",
   "metadata": {},
   "outputs": [],
   "source": [
    "def myfunc(*args):\n",
    "    for item in args:\n",
    "        print(item)"
   ]
  },
  {
   "cell_type": "code",
   "execution_count": 46,
   "id": "c8829563",
   "metadata": {},
   "outputs": [
    {
     "name": "stdout",
     "output_type": "stream",
     "text": [
      "70\n",
      "68\n",
      "90\n",
      "34\n"
     ]
    }
   ],
   "source": [
    "myfunc(70,68,90,34)"
   ]
  },
  {
   "cell_type": "markdown",
   "id": "e5640f04",
   "metadata": {},
   "source": [
    "NOTE:\n",
    "> *args return back  a tupple"
   ]
  },
  {
   "cell_type": "markdown",
   "id": "64536509",
   "metadata": {},
   "source": [
    "If we want to pass in arguments as key value pairs, we will use **kwargs\n",
    "> **kwargs return a dictionary "
   ]
  },
  {
   "cell_type": "code",
   "execution_count": 47,
   "id": "951affa7",
   "metadata": {},
   "outputs": [],
   "source": [
    "def myfunc(**kwargs):\n",
    "    print(kwargs)\n",
    "    if 'fruit' in kwargs:\n",
    "        print('My fruit of choice is {}',format(kwargs['fruit']))\n",
    "    else: \n",
    "        print('I did not find any fruit here')"
   ]
  },
  {
   "cell_type": "code",
   "execution_count": 48,
   "id": "47168cd6",
   "metadata": {},
   "outputs": [
    {
     "name": "stdout",
     "output_type": "stream",
     "text": [
      "{'fruit': 'apple', 'veggie': 'lettuce'}\n",
      "My fruit of choice is {} apple\n"
     ]
    }
   ],
   "source": [
    "myfunc(fruit='apple', veggie = 'lettuce')"
   ]
  },
  {
   "cell_type": "markdown",
   "id": "54dc11bf",
   "metadata": {},
   "source": [
    "We can use * args and ** kwargs in combinaion"
   ]
  },
  {
   "cell_type": "code",
   "execution_count": 59,
   "id": "7f75bf72",
   "metadata": {},
   "outputs": [],
   "source": [
    "def myfucn(*args,**kwargs):\n",
    "    print('I would like to have {} {}'.format(args[0], kwargs['fruit']))"
   ]
  },
  {
   "cell_type": "code",
   "execution_count": 61,
   "id": "87c00c2c",
   "metadata": {},
   "outputs": [
    {
     "name": "stdout",
     "output_type": "stream",
     "text": [
      "I would like to have 10 apples\n"
     ]
    }
   ],
   "source": [
    "myfucn(10,30,40, fruit = 'apples', food='steaks')"
   ]
  },
  {
   "cell_type": "markdown",
   "id": "dc1201c2",
   "metadata": {},
   "source": [
    "NOTE:\n",
    "> Order of arguments should be (all args, all key value pairs)"
   ]
  },
  {
   "cell_type": "code",
   "execution_count": 62,
   "id": "b60d8c35",
   "metadata": {},
   "outputs": [],
   "source": [
    "#a function that takes in multiple arguments and return back a list of empty ones\n",
    "def myfunc(*args):\n",
    "   return [arg for arg in args if arg%2 == 0]"
   ]
  },
  {
   "cell_type": "code",
   "execution_count": 64,
   "id": "9cd29201",
   "metadata": {},
   "outputs": [
    {
     "data": {
      "text/plain": [
       "[60, 78, 80, 80, 540]"
      ]
     },
     "execution_count": 64,
     "metadata": {},
     "output_type": "execute_result"
    }
   ],
   "source": [
    "myfunc(45,60,78,80,63,71,80,540)"
   ]
  },
  {
   "cell_type": "code",
   "execution_count": 78,
   "id": "e1863b13",
   "metadata": {},
   "outputs": [],
   "source": [
    "#Function # 10: skyline\n",
    "def myfunc(string):\n",
    "    lowerst = string.lower()\n",
    "    for letter in lowerst:\n",
    "        if lowerst.index(letter)%2 == 0 or lowerst.index(letter) == 0:\n",
    "            letter.upper()\n",
    "    return \n",
    "       "
   ]
  },
  {
   "cell_type": "code",
   "execution_count": 79,
   "id": "46ae07c9",
   "metadata": {},
   "outputs": [
    {
     "name": "stdout",
     "output_type": "stream",
     "text": [
      "z\n",
      "r\n"
     ]
    }
   ],
   "source": [
    "myfunc('Zaryab')"
   ]
  },
  {
   "cell_type": "code",
   "execution_count": null,
   "id": "8601455a",
   "metadata": {},
   "outputs": [],
   "source": []
  }
 ],
 "metadata": {
  "kernelspec": {
   "display_name": "Python 3 (ipykernel)",
   "language": "python",
   "name": "python3"
  },
  "language_info": {
   "codemirror_mode": {
    "name": "ipython",
    "version": 3
   },
   "file_extension": ".py",
   "mimetype": "text/x-python",
   "name": "python",
   "nbconvert_exporter": "python",
   "pygments_lexer": "ipython3",
   "version": "3.9.7"
  }
 },
 "nbformat": 4,
 "nbformat_minor": 5
}
