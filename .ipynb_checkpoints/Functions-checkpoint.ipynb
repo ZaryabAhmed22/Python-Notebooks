{
 "cells": [
  {
   "cell_type": "code",
   "execution_count": 1,
   "id": "b93f3b6b",
   "metadata": {},
   "outputs": [],
   "source": [
    "def say_hello():\n",
    "    print('hello')\n",
    "    print('are')"
   ]
  },
  {
   "cell_type": "code",
   "execution_count": 2,
   "id": "e43ba771",
   "metadata": {},
   "outputs": [
    {
     "name": "stdout",
     "output_type": "stream",
     "text": [
      "hello\n",
      "are\n"
     ]
    }
   ],
   "source": [
    "say_hello()"
   ]
  },
  {
   "cell_type": "markdown",
   "id": "08372afc",
   "metadata": {},
   "source": [
    "If we call functio nwith the (), it will only tell that the following name is a function"
   ]
  },
  {
   "cell_type": "code",
   "execution_count": 5,
   "id": "56c48d42",
   "metadata": {},
   "outputs": [],
   "source": [
    "def say_hello(name):\n",
    "    print(f'Hello {name}')"
   ]
  },
  {
   "cell_type": "code",
   "execution_count": 6,
   "id": "4e297b54",
   "metadata": {},
   "outputs": [
    {
     "name": "stdout",
     "output_type": "stream",
     "text": [
      "Hello Zaryab\n"
     ]
    }
   ],
   "source": [
    "say_hello('Zaryab')"
   ]
  },
  {
   "cell_type": "code",
   "execution_count": 7,
   "id": "ca64d882",
   "metadata": {},
   "outputs": [],
   "source": [
    "#we can also pass default parameters\n",
    "def say_hello(name='Ahmed'):\n",
    "    print(f'Hello {name}')"
   ]
  },
  {
   "cell_type": "code",
   "execution_count": 8,
   "id": "076ae55c",
   "metadata": {},
   "outputs": [],
   "source": [
    "def add_num(num1, num2):\n",
    "    return num1+num2"
   ]
  },
  {
   "cell_type": "code",
   "execution_count": 9,
   "id": "a21fdbd0",
   "metadata": {},
   "outputs": [
    {
     "data": {
      "text/plain": [
       "30"
      ]
     },
     "execution_count": 9,
     "metadata": {},
     "output_type": "execute_result"
    }
   ],
   "source": [
    "add_num(10, 20)"
   ]
  },
  {
   "cell_type": "code",
   "execution_count": 11,
   "id": "7f6f8215",
   "metadata": {},
   "outputs": [],
   "source": [
    "result = add_num(40,8)"
   ]
  },
  {
   "cell_type": "code",
   "execution_count": 12,
   "id": "f438fa1e",
   "metadata": {},
   "outputs": [
    {
     "data": {
      "text/plain": [
       "48"
      ]
     },
     "execution_count": 12,
     "metadata": {},
     "output_type": "execute_result"
    }
   ],
   "source": [
    "result"
   ]
  },
  {
   "cell_type": "markdown",
   "id": "50e988c7",
   "metadata": {},
   "source": [
    "With print statement in the function rather than a return, it's not actually giving back an outpu that can be stored"
   ]
  },
  {
   "cell_type": "code",
   "execution_count": 14,
   "id": "1e185891",
   "metadata": {},
   "outputs": [],
   "source": [
    "#We can also use print and return together >> mostyl useful for debugging\n",
    "def my_func(a, b):\n",
    "    print(a+b)\n",
    "    return(a+b)"
   ]
  },
  {
   "cell_type": "code",
   "execution_count": 15,
   "id": "74f03ac5",
   "metadata": {},
   "outputs": [
    {
     "name": "stdout",
     "output_type": "stream",
     "text": [
      "7\n"
     ]
    },
    {
     "data": {
      "text/plain": [
       "7"
      ]
     },
     "execution_count": 15,
     "metadata": {},
     "output_type": "execute_result"
    }
   ],
   "source": [
    "my_func(3,4)"
   ]
  },
  {
   "cell_type": "markdown",
   "id": "40868613",
   "metadata": {},
   "source": [
    "Python is dynamically typed"
   ]
  },
  {
   "cell_type": "markdown",
   "id": "2d12da88",
   "metadata": {},
   "source": [
    "> Make sure to check the type of data before returning the result"
   ]
  },
  {
   "cell_type": "markdown",
   "id": "e54aba13",
   "metadata": {},
   "source": [
    "# Function With Logic"
   ]
  },
  {
   "cell_type": "code",
   "execution_count": 16,
   "id": "fc29db5b",
   "metadata": {},
   "outputs": [],
   "source": [
    "def even_check(num):\n",
    "    return num%2 == 0"
   ]
  },
  {
   "cell_type": "code",
   "execution_count": 17,
   "id": "67f4d8a9",
   "metadata": {},
   "outputs": [
    {
     "data": {
      "text/plain": [
       "True"
      ]
     },
     "execution_count": 17,
     "metadata": {},
     "output_type": "execute_result"
    }
   ],
   "source": [
    "even_check(20)"
   ]
  },
  {
   "cell_type": "code",
   "execution_count": 19,
   "id": "84cbfe57",
   "metadata": {},
   "outputs": [],
   "source": [
    "# RETURN TRUE IF ANY NUMBER IS EVEN INSIDE THE LIST\n",
    "def check_even_list(num_list):\n",
    "    for num in num_list:\n",
    "        if num%2 == 0:\n",
    "            return True #the function is over once it sees the return keyword\n",
    "        else: pass #retutn False >> Wrong!!!"
   ]
  },
  {
   "cell_type": "code",
   "execution_count": 21,
   "id": "675a60ed",
   "metadata": {},
   "outputs": [
    {
     "data": {
      "text/plain": [
       "True"
      ]
     },
     "execution_count": 21,
     "metadata": {},
     "output_type": "execute_result"
    }
   ],
   "source": [
    "check_even_list([12,34,5,67,57,5,6,8,56,87,56])"
   ]
  },
  {
   "cell_type": "code",
   "execution_count": 22,
   "id": "7a5b4ad2",
   "metadata": {},
   "outputs": [],
   "source": [
    "# RETURN TRUE IF ANY NUMBER IS EVEN INSIDE THE LIST\n",
    "def check_even_list(num_list):\n",
    "    for num in num_list:\n",
    "        if num%2 == 0:\n",
    "            return True #the function is over once it sees the return keyword\n",
    "        else: pass \n",
    "    return False"
   ]
  },
  {
   "cell_type": "code",
   "execution_count": 23,
   "id": "7c7eee33",
   "metadata": {},
   "outputs": [],
   "source": [
    "# RETURN ALL THE EVEN NUMBERS IN A LIST \n",
    "def check_even_list(num_list):\n",
    "    \n",
    "    #Placeholder variable\n",
    "    even_numbers = []\n",
    "    \n",
    "    for num in num_list:\n",
    "        if num%2 == 0:\n",
    "            even_numbers.append(num)\n",
    "        else: pass \n",
    "    return even_numbers"
   ]
  },
  {
   "cell_type": "code",
   "execution_count": 24,
   "id": "3e080b9d",
   "metadata": {},
   "outputs": [
    {
     "data": {
      "text/plain": [
       "[12, 34, 6, 8, 56, 56]"
      ]
     },
     "execution_count": 24,
     "metadata": {},
     "output_type": "execute_result"
    }
   ],
   "source": [
    "check_even_list([12,34,5,67,57,5,6,8,56,87,56])"
   ]
  },
  {
   "cell_type": "markdown",
   "id": "e5bd208c",
   "metadata": {},
   "source": [
    "# Tupple Unpacking"
   ]
  },
  {
   "cell_type": "code",
   "execution_count": 25,
   "id": "8244b805",
   "metadata": {},
   "outputs": [],
   "source": [
    "stock_prices = [('apple', 400), ('google', 300), ('ZAKware', 500)]"
   ]
  },
  {
   "cell_type": "code",
   "execution_count": 26,
   "id": "f7b60e92",
   "metadata": {},
   "outputs": [
    {
     "name": "stdout",
     "output_type": "stream",
     "text": [
      "stock: apple, price: 400\n",
      "stock: google, price: 300\n",
      "stock: ZAKware, price: 500\n"
     ]
    }
   ],
   "source": [
    "for ticker, price in stock_prices:\n",
    "    print(f'stock: {ticker}, price: {price}')"
   ]
  },
  {
   "cell_type": "code",
   "execution_count": 30,
   "id": "182467b2",
   "metadata": {},
   "outputs": [],
   "source": [
    "work_hours = [('Abby', 100), ('Zaryab', 120), ('Zabi', 130)]"
   ]
  },
  {
   "cell_type": "code",
   "execution_count": 32,
   "id": "6c29a811",
   "metadata": {},
   "outputs": [],
   "source": [
    "def employee_check(work_hours):\n",
    "    current_max = 0\n",
    "    employee_of_month = ''\n",
    "    \n",
    "    for employee, hrs in work_hours:\n",
    "        if hrs > current_max:\n",
    "            employee_of_month = employee\n",
    "            current_max = hrs\n",
    "        else: \n",
    "            #employee_of_month = employee_of_month\n",
    "            #current_max  = current_max\n",
    "            pass #do nothing\n",
    "    \n",
    "    #return\n",
    "    return(employee_of_month, current_max)"
   ]
  },
  {
   "cell_type": "code",
   "execution_count": 33,
   "id": "9073a127",
   "metadata": {},
   "outputs": [
    {
     "data": {
      "text/plain": [
       "('Zabi', 130)"
      ]
     },
     "execution_count": 33,
     "metadata": {},
     "output_type": "execute_result"
    }
   ],
   "source": [
    "employee_check(work_hours)"
   ]
  },
  {
   "cell_type": "markdown",
   "id": "b307a5c1",
   "metadata": {},
   "source": [
    "# ** args and ** kwargs"
   ]
  },
  {
   "cell_type": "code",
   "execution_count": 36,
   "id": "0a17fc25",
   "metadata": {},
   "outputs": [],
   "source": [
    "def myfunc(a,b):\n",
    "    #Return 5% of sum of a and b\n",
    "    return sum((a,b)) * 0.05"
   ]
  },
  {
   "cell_type": "code",
   "execution_count": 37,
   "id": "90d809d3",
   "metadata": {},
   "outputs": [
    {
     "data": {
      "text/plain": [
       "5.0"
      ]
     },
     "execution_count": 37,
     "metadata": {},
     "output_type": "execute_result"
    }
   ],
   "source": [
    "myfunc(40,60)"
   ]
  },
  {
   "cell_type": "markdown",
   "id": "7a9c2053",
   "metadata": {},
   "source": [
    "Problem, we want to make a function that can take more than one arguments <br>\n",
    "- Python will give an error if we call a function with more than 2 arguments"
   ]
  },
  {
   "cell_type": "code",
   "execution_count": 39,
   "id": "ee8a393a",
   "metadata": {},
   "outputs": [],
   "source": [
    "#usin*args to take as many argumetns as we want\n",
    "def myfunc(*args): #args can be anyother name with *, but the convention is to use *args\n",
    "    #Return 5% of sum of a and b\n",
    "    return sum(args) * 0.05"
   ]
  },
  {
   "cell_type": "code",
   "execution_count": 41,
   "id": "4108d0fa",
   "metadata": {},
   "outputs": [
    {
     "data": {
      "text/plain": [
       "15.25"
      ]
     },
     "execution_count": 41,
     "metadata": {},
     "output_type": "execute_result"
    }
   ],
   "source": [
    "#calling function with multiple number of arguments\n",
    "myfunc(5,6,7,8)\n",
    "\n",
    "myfunc(5,9,8)\n",
    "\n",
    "myfunc(7,8)\n",
    "\n",
    "myfunc(5,60,70,80,90)"
   ]
  },
  {
   "cell_type": "code",
   "execution_count": 45,
   "id": "9e656b56",
   "metadata": {},
   "outputs": [],
   "source": [
    "def myfunc(*args):\n",
    "    for item in args:\n",
    "        print(item)"
   ]
  },
  {
   "cell_type": "code",
   "execution_count": 46,
   "id": "c7110982",
   "metadata": {},
   "outputs": [
    {
     "name": "stdout",
     "output_type": "stream",
     "text": [
      "70\n",
      "68\n",
      "90\n",
      "34\n"
     ]
    }
   ],
   "source": [
    "myfunc(70,68,90,34)"
   ]
  },
  {
   "cell_type": "markdown",
   "id": "2dea3e39",
   "metadata": {},
   "source": [
    "NOTE:\n",
    "> *args return back  a tupple"
   ]
  },
  {
   "cell_type": "markdown",
   "id": "81d3c5cf",
   "metadata": {},
   "source": [
    "If we want to pass in arguments as key value pairs, we will use **kwargs\n",
    "> **kwargs return a dictionary "
   ]
  },
  {
   "cell_type": "code",
   "execution_count": 47,
   "id": "7ecc68ef",
   "metadata": {},
   "outputs": [],
   "source": [
    "def myfunc(**kwargs):\n",
    "    print(kwargs)\n",
    "    if 'fruit' in kwargs:\n",
    "        print('My fruit of choice is {}',format(kwargs['fruit']))\n",
    "    else: \n",
    "        print('I did not find any fruit here')"
   ]
  },
  {
   "cell_type": "code",
   "execution_count": 48,
   "id": "d82cf295",
   "metadata": {},
   "outputs": [
    {
     "name": "stdout",
     "output_type": "stream",
     "text": [
      "{'fruit': 'apple', 'veggie': 'lettuce'}\n",
      "My fruit of choice is {} apple\n"
     ]
    }
   ],
   "source": [
    "myfunc(fruit='apple', veggie = 'lettuce')"
   ]
  },
  {
   "cell_type": "markdown",
   "id": "07bc9e47",
   "metadata": {},
   "source": [
    "We can use * args and ** kwargs in combinaion"
   ]
  },
  {
   "cell_type": "code",
   "execution_count": 59,
   "id": "87ab63a2",
   "metadata": {},
   "outputs": [],
   "source": [
    "def myfucn(*args,**kwargs):\n",
    "    print('I would like to have {} {}'.format(args[0], kwargs['fruit']))"
   ]
  },
  {
   "cell_type": "code",
   "execution_count": 61,
   "id": "848bc8f8",
   "metadata": {},
   "outputs": [
    {
     "name": "stdout",
     "output_type": "stream",
     "text": [
      "I would like to have 10 apples\n"
     ]
    }
   ],
   "source": [
    "myfucn(10,30,40, fruit = 'apples', food='steaks')"
   ]
  },
  {
   "cell_type": "markdown",
   "id": "2c0ea949",
   "metadata": {},
   "source": [
    "NOTE:\n",
    "> Order of arguments should be (all args, all key value pairs)"
   ]
  }
 ],
 "metadata": {
  "kernelspec": {
   "display_name": "Python 3 (ipykernel)",
   "language": "python",
   "name": "python3"
  },
  "language_info": {
   "codemirror_mode": {
    "name": "ipython",
    "version": 3
   },
   "file_extension": ".py",
   "mimetype": "text/x-python",
   "name": "python",
   "nbconvert_exporter": "python",
   "pygments_lexer": "ipython3",
   "version": "3.9.7"
  }
 },
 "nbformat": 4,
 "nbformat_minor": 5
}
