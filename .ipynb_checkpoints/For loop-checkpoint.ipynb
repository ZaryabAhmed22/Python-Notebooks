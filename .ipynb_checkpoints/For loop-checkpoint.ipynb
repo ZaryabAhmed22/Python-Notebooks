{
 "cells": [
  {
   "cell_type": "code",
   "execution_count": 1,
   "id": "e076a266",
   "metadata": {},
   "outputs": [],
   "source": [
    "my_list = [1,2,3,4,5,6,7,8,9,10]"
   ]
  },
  {
   "cell_type": "code",
   "execution_count": 2,
   "id": "89224d72",
   "metadata": {},
   "outputs": [
    {
     "name": "stdout",
     "output_type": "stream",
     "text": [
      "1\n",
      "2\n",
      "3\n",
      "4\n",
      "5\n",
      "6\n",
      "7\n",
      "8\n",
      "9\n",
      "10\n"
     ]
    }
   ],
   "source": [
    "for num in my_list:\n",
    "    print(num)"
   ]
  },
  {
   "cell_type": "code",
   "execution_count": 5,
   "id": "aa165593",
   "metadata": {},
   "outputs": [
    {
     "name": "stdout",
     "output_type": "stream",
     "text": [
      "Odd number: 1\n",
      "Even number: 2\n",
      "Odd number: 3\n",
      "Even number: 4\n",
      "Odd number: 5\n",
      "Even number: 6\n",
      "Odd number: 7\n",
      "Even number: 8\n",
      "Odd number: 9\n",
      "Even number: 10\n"
     ]
    }
   ],
   "source": [
    "for num in my_list:\n",
    "    if num%2 == 0:\n",
    "        print(f'Even number: {num}')\n",
    "    else:\n",
    "        print(f'Odd number: {num}')"
   ]
  },
  {
   "cell_type": "code",
   "execution_count": 6,
   "id": "6931d437",
   "metadata": {},
   "outputs": [
    {
     "name": "stdout",
     "output_type": "stream",
     "text": [
      "1\n",
      "3\n",
      "6\n",
      "10\n",
      "15\n",
      "21\n",
      "28\n",
      "36\n",
      "45\n",
      "55\n"
     ]
    }
   ],
   "source": [
    "count = 0\n",
    "for num in my_list:\n",
    "    count = count + num\n",
    "    print(count)\n"
   ]
  },
  {
   "cell_type": "code",
   "execution_count": 7,
   "id": "87e10fe0",
   "metadata": {},
   "outputs": [
    {
     "name": "stdout",
     "output_type": "stream",
     "text": [
      "H\n",
      "e\n",
      "l\n",
      "l\n",
      "o\n",
      " \n",
      "W\n",
      "o\n",
      "r\n",
      "l\n",
      "d\n"
     ]
    }
   ],
   "source": [
    "my_string = 'Hello World'\n",
    "\n",
    "for letter in my_string:\n",
    "    print(letter)"
   ]
  },
  {
   "cell_type": "code",
   "execution_count": 8,
   "id": "4b8a5626",
   "metadata": {},
   "outputs": [
    {
     "name": "stdout",
     "output_type": "stream",
     "text": [
      "1\n",
      "2\n",
      "3\n"
     ]
    }
   ],
   "source": [
    "my_tup = (1,2,3)\n",
    "\n",
    "for num in my_tup:\n",
    "    print(num)"
   ]
  },
  {
   "cell_type": "markdown",
   "id": "e131e40f",
   "metadata": {},
   "source": [
    "//////// TUPPLE UNPACKING ////////"
   ]
  },
  {
   "cell_type": "code",
   "execution_count": 9,
   "id": "a865e353",
   "metadata": {},
   "outputs": [],
   "source": [
    "#Tupple unpacking >> when the object/list is using tupples inside it\n",
    "my_list_tup = [(1,2),(3,4),(5,6),(7,8),(9,10)]"
   ]
  },
  {
   "cell_type": "code",
   "execution_count": 11,
   "id": "dfcb17f1",
   "metadata": {},
   "outputs": [
    {
     "name": "stdout",
     "output_type": "stream",
     "text": [
      "a: 1\n",
      "b: 2\n",
      "a: 3\n",
      "b: 4\n",
      "a: 5\n",
      "b: 6\n",
      "a: 7\n",
      "b: 8\n",
      "a: 9\n",
      "b: 10\n"
     ]
    }
   ],
   "source": [
    "for (a,b) in my_list_tup:\n",
    "    print(f'a: {a}')\n",
    "    print(f'b: {b}')"
   ]
  },
  {
   "cell_type": "code",
   "execution_count": 12,
   "id": "0440e0e9",
   "metadata": {},
   "outputs": [
    {
     "name": "stdout",
     "output_type": "stream",
     "text": [
      "2\n",
      "6\n",
      "9\n"
     ]
    }
   ],
   "source": [
    "my_tup_list = [(1,2,3),(5,6,7),(8,9,10)]\n",
    "for a,b,c in my_tup_list:\n",
    "    print(b)"
   ]
  },
  {
   "cell_type": "code",
   "execution_count": 14,
   "id": "71fd9cf1",
   "metadata": {},
   "outputs": [
    {
     "name": "stdout",
     "output_type": "stream",
     "text": [
      "k1\n",
      "k2\n",
      "k3\n"
     ]
    }
   ],
   "source": [
    "d= {'k1': 1, 'k2': 2, 'k3': 3}\n",
    "\n",
    "for item in d:\n",
    "    print(item) #by default it will only return the key"
   ]
  },
  {
   "cell_type": "code",
   "execution_count": 15,
   "id": "d4c0959e",
   "metadata": {},
   "outputs": [
    {
     "name": "stdout",
     "output_type": "stream",
     "text": [
      "('k1', 1)\n",
      "('k2', 2)\n",
      "('k3', 3)\n"
     ]
    }
   ],
   "source": [
    "d= {'k1': 1, 'k2': 2, 'k3': 3}\n",
    "\n",
    "#for iterating through the items\n",
    "for item in d.items():\n",
    "    print(item)"
   ]
  },
  {
   "cell_type": "code",
   "execution_count": 19,
   "id": "d1f199b8",
   "metadata": {},
   "outputs": [
    {
     "name": "stdout",
     "output_type": "stream",
     "text": [
      "key: k1, value: 1\n",
      "key: k2, value: 2\n",
      "key: k3, value: 3\n"
     ]
    }
   ],
   "source": [
    "d= {'k1': 1, 'k2': 2, 'k3': 3}\n",
    "\n",
    "#for iterating through the items\n",
    "for key, value in d.items():\n",
    "    print(f'key: {key}, value: {value}')"
   ]
  },
  {
   "cell_type": "code",
   "execution_count": 24,
   "id": "582cd31a",
   "metadata": {},
   "outputs": [
    {
     "name": "stdout",
     "output_type": "stream",
     "text": [
      "key: k3, value: 1\n",
      "key: k3, value: 2\n",
      "key: k3, value: 3\n"
     ]
    }
   ],
   "source": [
    "#if we only want values\n",
    "d= {'k1': 1, 'k2': 2, 'k3': 3}\n",
    "\n",
    "#for iterating through the items\n",
    "for value in d.values():\n",
    "    print(f'key: {key}, value: {value}')"
   ]
  },
  {
   "cell_type": "markdown",
   "id": "54c56ffa",
   "metadata": {},
   "source": [
    "# Imprtant\n",
    "\n",
    "- When we use for loop on dic \n",
    "\n",
    "1. for item in d: >> will return only the keys\n",
    "\n",
    "2. for item in d.items() >> will return the key,value tupple\n",
    "\n",
    "3. for value in d.values and for key in d.keys >> will return only the keys or values"
   ]
  },
  {
   "cell_type": "code",
   "execution_count": null,
   "id": "406e9241",
   "metadata": {},
   "outputs": [],
   "source": []
  }
 ],
 "metadata": {
  "kernelspec": {
   "display_name": "Python 3 (ipykernel)",
   "language": "python",
   "name": "python3"
  },
  "language_info": {
   "codemirror_mode": {
    "name": "ipython",
    "version": 3
   },
   "file_extension": ".py",
   "mimetype": "text/x-python",
   "name": "python",
   "nbconvert_exporter": "python",
   "pygments_lexer": "ipython3",
   "version": "3.9.7"
  }
 },
 "nbformat": 4,
 "nbformat_minor": 5
}
