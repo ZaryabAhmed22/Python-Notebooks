{
 "cells": [
  {
   "cell_type": "markdown",
   "id": "adf2b591",
   "metadata": {},
   "source": [
    "# Advanced Dictionaries"
   ]
  },
  {
   "cell_type": "code",
   "execution_count": 15,
   "id": "6c9e4570",
   "metadata": {},
   "outputs": [],
   "source": [
    "d = {'k1': 1, 'k2': 2}"
   ]
  },
  {
   "cell_type": "code",
   "execution_count": 2,
   "id": "135ccaf9",
   "metadata": {},
   "outputs": [
    {
     "data": {
      "text/plain": [
       "{0: 0, 1: 1, 2: 4, 3: 9, 4: 16, 5: 25, 6: 36, 7: 49, 8: 64, 9: 81}"
      ]
     },
     "execution_count": 2,
     "metadata": {},
     "output_type": "execute_result"
    }
   ],
   "source": [
    "# Dictionary Comprehension\n",
    "\n",
    "{x:x**2 for x in range(10)}"
   ]
  },
  {
   "cell_type": "code",
   "execution_count": 4,
   "id": "0aa5f24b",
   "metadata": {},
   "outputs": [
    {
     "data": {
      "text/plain": [
       "{'a': 0, 'b': 1, 'c': 4, 'd': 9}"
      ]
     },
     "execution_count": 4,
     "metadata": {},
     "output_type": "execute_result"
    }
   ],
   "source": [
    "{k:v**2 for k,v in zip(['a', 'b', 'c', 'd'],  range(10))}"
   ]
  },
  {
   "cell_type": "code",
   "execution_count": 17,
   "id": "6fcd85f5",
   "metadata": {},
   "outputs": [
    {
     "name": "stdout",
     "output_type": "stream",
     "text": [
      "('k1', 1)\n",
      "('k2', 2)\n"
     ]
    }
   ],
   "source": [
    "# Itteraion of key and values\n",
    "for item in d.items():\n",
    "    print(item)\n"
   ]
  },
  {
   "cell_type": "code",
   "execution_count": 20,
   "id": "0dff094a",
   "metadata": {},
   "outputs": [
    {
     "name": "stdout",
     "output_type": "stream",
     "text": [
      "k1 -> 1\n",
      "k2 -> 2\n"
     ]
    }
   ],
   "source": [
    "for key, value in d.items():\n",
    "    print(f'{key} -> {value}')"
   ]
  },
  {
   "cell_type": "code",
   "execution_count": 21,
   "id": "ece4847b",
   "metadata": {},
   "outputs": [
    {
     "data": {
      "text/plain": [
       "dict_keys(['k1', 'k2'])"
      ]
     },
     "execution_count": 21,
     "metadata": {},
     "output_type": "execute_result"
    }
   ],
   "source": [
    "d.keys()"
   ]
  },
  {
   "cell_type": "code",
   "execution_count": 26,
   "id": "cf15401e",
   "metadata": {},
   "outputs": [
    {
     "data": {
      "text/plain": [
       "{'c': 1, 'b': 1, 'a': 1}"
      ]
     },
     "execution_count": 26,
     "metadata": {},
     "output_type": "execute_result"
    }
   ],
   "source": [
    "keys1 = {'a', 'b', 'c'}\n",
    "values = 1\n",
    "\n",
    "d.fromkeys(keys1, values)"
   ]
  },
  {
   "cell_type": "code",
   "execution_count": 28,
   "id": "51dbcf33",
   "metadata": {},
   "outputs": [
    {
     "data": {
      "text/plain": [
       "('k2', 2)"
      ]
     },
     "execution_count": 28,
     "metadata": {},
     "output_type": "execute_result"
    }
   ],
   "source": [
    "d.popitem()"
   ]
  },
  {
   "cell_type": "code",
   "execution_count": 29,
   "id": "728a3e29",
   "metadata": {},
   "outputs": [],
   "source": [
    "d.update()"
   ]
  },
  {
   "cell_type": "code",
   "execution_count": 30,
   "id": "69b62a44",
   "metadata": {},
   "outputs": [
    {
     "data": {
      "text/plain": [
       "{'k1': 1}"
      ]
     },
     "execution_count": 30,
     "metadata": {},
     "output_type": "execute_result"
    }
   ],
   "source": [
    "d"
   ]
  },
  {
   "cell_type": "code",
   "execution_count": 31,
   "id": "b71e9a2e",
   "metadata": {},
   "outputs": [
    {
     "data": {
      "text/plain": [
       "{'k1': 4, 'k2': 3}"
      ]
     },
     "execution_count": 31,
     "metadata": {},
     "output_type": "execute_result"
    }
   ],
   "source": [
    "d = {'k1': 4, 'k2': 3, 'k3': 2}\n",
    "\n",
    "d.popitem()\n",
    "d.update()\n",
    "\n",
    "d"
   ]
  },
  {
   "cell_type": "code",
   "execution_count": 33,
   "id": "a1cf53e5",
   "metadata": {},
   "outputs": [
    {
     "data": {
      "text/plain": [
       "3"
      ]
     },
     "execution_count": 33,
     "metadata": {},
     "output_type": "execute_result"
    }
   ],
   "source": [
    "d.pop('k2')"
   ]
  },
  {
   "cell_type": "code",
   "execution_count": 34,
   "id": "5fa3669b",
   "metadata": {},
   "outputs": [],
   "source": [
    "d.update()"
   ]
  },
  {
   "cell_type": "code",
   "execution_count": 35,
   "id": "2cff49e1",
   "metadata": {},
   "outputs": [
    {
     "data": {
      "text/plain": [
       "{'k1': 4}"
      ]
     },
     "execution_count": 35,
     "metadata": {},
     "output_type": "execute_result"
    }
   ],
   "source": [
    "d"
   ]
  },
  {
   "cell_type": "code",
   "execution_count": null,
   "id": "26c697f4",
   "metadata": {},
   "outputs": [],
   "source": []
  }
 ],
 "metadata": {
  "kernelspec": {
   "display_name": "Python 3 (ipykernel)",
   "language": "python",
   "name": "python3"
  },
  "language_info": {
   "codemirror_mode": {
    "name": "ipython",
    "version": 3
   },
   "file_extension": ".py",
   "mimetype": "text/x-python",
   "name": "python",
   "nbconvert_exporter": "python",
   "pygments_lexer": "ipython3",
   "version": "3.9.7"
  }
 },
 "nbformat": 4,
 "nbformat_minor": 5
}
