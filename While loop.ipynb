{
 "cells": [
  {
   "cell_type": "markdown",
   "id": "ad9e7b7e",
   "metadata": {},
   "source": [
    "# While Loops"
   ]
  },
  {
   "cell_type": "markdown",
   "id": "032af048",
   "metadata": {},
   "source": [
    "While loop keeps running a block of code until the given situation is true"
   ]
  },
  {
   "cell_type": "code",
   "execution_count": 1,
   "id": "ab96bab8",
   "metadata": {},
   "outputs": [
    {
     "name": "stdout",
     "output_type": "stream",
     "text": [
      "The current value of x is 0\n",
      "The current value of x is 1\n",
      "The current value of x is 2\n",
      "The current value of x is 3\n",
      "The current value of x is 4\n"
     ]
    }
   ],
   "source": [
    "x = 0\n",
    "\n",
    "while x < 5:\n",
    "    print (f'The current value of x is {x}')\n",
    "    #updating the value of x\n",
    "    x = x + 1"
   ]
  },
  {
   "cell_type": "markdown",
   "id": "a15a7e93",
   "metadata": {},
   "source": [
    "Using an else statement with the while loop"
   ]
  },
  {
   "cell_type": "code",
   "execution_count": 2,
   "id": "049809df",
   "metadata": {},
   "outputs": [
    {
     "name": "stdout",
     "output_type": "stream",
     "text": [
      "The current value of x is 0\n",
      "The current value of x is 1\n",
      "The current value of x is 2\n",
      "The current value of x is 3\n",
      "The current value of x is 4\n",
      "The current value of x is not less than 5\n"
     ]
    }
   ],
   "source": [
    "x = 0\n",
    "\n",
    "while x < 5:\n",
    "    print (f'The current value of x is {x}')\n",
    "    #updating the value of x\n",
    "    x = x + 1\n",
    "else:\n",
    "    print (f'The current value of x is not less than 5')"
   ]
  },
  {
   "cell_type": "markdown",
   "id": "6d129cf9",
   "metadata": {},
   "source": [
    "# break, continue, pass\n",
    "\n",
    "We can use break, continue and pass statements in our loops to add additional functionality for various cases. The three statements are defined by:\n",
    "\n",
    "- break: Breaks out of the current closest enclosing loop.\n",
    "- continue: Goes to th top of the closest enclosing loop.\n",
    "- pass: Does nothing at all"
   ]
  },
  {
   "cell_type": "code",
   "execution_count": 7,
   "id": "a17fbbeb",
   "metadata": {},
   "outputs": [
    {
     "name": "stdout",
     "output_type": "stream",
     "text": [
      "End of script\n"
     ]
    }
   ],
   "source": [
    "#pass: to avoid errors when there's nothing to do\n",
    "x = [1,2,3]\n",
    "\n",
    "for item in x:\n",
    "    #comment\n",
    "    pass\n",
    "print('End of script')"
   ]
  },
  {
   "cell_type": "code",
   "execution_count": 6,
   "id": "371e1d97",
   "metadata": {},
   "outputs": [
    {
     "name": "stdout",
     "output_type": "stream",
     "text": [
      "Only odd numbers: 1\n",
      "Only odd numbers: 3\n",
      "Only odd numbers: 5\n",
      "Only odd numbers: 7\n",
      "End of script\n"
     ]
    }
   ],
   "source": [
    "#continue: to go back to the top on a particular condition\n",
    "x = [1,2,3,4,5,6,7]\n",
    "\n",
    "for item in x:\n",
    "    if item%2 == 0:\n",
    "        continue\n",
    "    print(f'Only odd numbers: {item}')\n",
    "print('End of script')"
   ]
  },
  {
   "cell_type": "code",
   "execution_count": 8,
   "id": "c18ea217",
   "metadata": {},
   "outputs": [
    {
     "name": "stdout",
     "output_type": "stream",
     "text": [
      "Only numbers less than 4: 1\n",
      "Only numbers less than 4: 2\n",
      "Only numbers less than 4: 3\n",
      "End of script\n"
     ]
    }
   ],
   "source": [
    "x = [1,2,3,4,5,6,7]\n",
    "\n",
    "for item in x:\n",
    "    if item == 4:\n",
    "        break\n",
    "    print(f'Only numbers less than 4: {item}')\n",
    "print('End of script')"
   ]
  },
  {
   "cell_type": "code",
   "execution_count": null,
   "id": "986a5c74",
   "metadata": {},
   "outputs": [],
   "source": []
  }
 ],
 "metadata": {
  "kernelspec": {
   "display_name": "Python 3 (ipykernel)",
   "language": "python",
   "name": "python3"
  },
  "language_info": {
   "codemirror_mode": {
    "name": "ipython",
    "version": 3
   },
   "file_extension": ".py",
   "mimetype": "text/x-python",
   "name": "python",
   "nbconvert_exporter": "python",
   "pygments_lexer": "ipython3",
   "version": "3.9.7"
  }
 },
 "nbformat": 4,
 "nbformat_minor": 5
}
