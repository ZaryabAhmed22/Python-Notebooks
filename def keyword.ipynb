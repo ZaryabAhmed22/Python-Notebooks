{
 "cells": [
  {
   "cell_type": "markdown",
   "id": "bb73bc53",
   "metadata": {},
   "source": [
    "# Creating FUnctions in Python"
   ]
  },
  {
   "cell_type": "markdown",
   "id": "2495aee2",
   "metadata": {},
   "source": [
    "- Creating a function requires a very specific syntax, including the def keyword, correct identation, and proper structure."
   ]
  },
  {
   "cell_type": "markdown",
   "id": "0f4fe083",
   "metadata": {},
   "source": [
    "def name_of_function(parameters): <br>\n",
    "    ''' \n",
    "     Docstirng explains the function\n",
    "    ''' <br>\n",
    "    code to perform"
   ]
  },
  {
   "cell_type": "markdown",
   "id": "20e51547",
   "metadata": {},
   "source": [
    "Return kwyword: The return keyword allows us to assign the output of the function to a varuiable "
   ]
  },
  {
   "cell_type": "code",
   "execution_count": 1,
   "id": "356b8407",
   "metadata": {},
   "outputs": [],
   "source": [
    "def my_first_func(name):\n",
    "    return 'Hello ' + name"
   ]
  },
  {
   "cell_type": "code",
   "execution_count": 2,
   "id": "7aee696a",
   "metadata": {},
   "outputs": [],
   "source": [
    "greeting = my_first_func('Zaryab')"
   ]
  },
  {
   "cell_type": "code",
   "execution_count": 3,
   "id": "163abc9a",
   "metadata": {},
   "outputs": [
    {
     "data": {
      "text/plain": [
       "'Hello Zaryab'"
      ]
     },
     "execution_count": 3,
     "metadata": {},
     "output_type": "execute_result"
    }
   ],
   "source": [
    "greeting"
   ]
  },
  {
   "cell_type": "code",
   "execution_count": null,
   "id": "2218fd3c",
   "metadata": {},
   "outputs": [],
   "source": []
  }
 ],
 "metadata": {
  "kernelspec": {
   "display_name": "Python 3 (ipykernel)",
   "language": "python",
   "name": "python3"
  },
  "language_info": {
   "codemirror_mode": {
    "name": "ipython",
    "version": 3
   },
   "file_extension": ".py",
   "mimetype": "text/x-python",
   "name": "python",
   "nbconvert_exporter": "python",
   "pygments_lexer": "ipython3",
   "version": "3.9.7"
  }
 },
 "nbformat": 4,
 "nbformat_minor": 5
}
