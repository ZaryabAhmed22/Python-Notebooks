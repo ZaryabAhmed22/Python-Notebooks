{
 "cells": [
  {
   "cell_type": "code",
   "execution_count": 1,
   "id": "7cc49857",
   "metadata": {},
   "outputs": [],
   "source": [
    "my_list = [1,2,3,4]"
   ]
  },
  {
   "cell_type": "code",
   "execution_count": 2,
   "id": "2951c95d",
   "metadata": {},
   "outputs": [],
   "source": [
    "my_list2 = ['String', True, 12] #Lists can also contain multiple data types"
   ]
  },
  {
   "cell_type": "code",
   "execution_count": 3,
   "id": "31ca1f83",
   "metadata": {},
   "outputs": [
    {
     "data": {
      "text/plain": [
       "4"
      ]
     },
     "execution_count": 3,
     "metadata": {},
     "output_type": "execute_result"
    }
   ],
   "source": [
    "len(my_list)"
   ]
  },
  {
   "cell_type": "code",
   "execution_count": 4,
   "id": "bcb82766",
   "metadata": {},
   "outputs": [
    {
     "data": {
      "text/plain": [
       "4"
      ]
     },
     "execution_count": 4,
     "metadata": {},
     "output_type": "execute_result"
    }
   ],
   "source": [
    "my_list[3]"
   ]
  },
  {
   "cell_type": "code",
   "execution_count": 5,
   "id": "f959981e",
   "metadata": {},
   "outputs": [
    {
     "data": {
      "text/plain": [
       "[2, 3]"
      ]
     },
     "execution_count": 5,
     "metadata": {},
     "output_type": "execute_result"
    }
   ],
   "source": [
    "my_list[1:3] #since lists are sequenced, index slicing work the same as strings"
   ]
  },
  {
   "cell_type": "code",
   "execution_count": 6,
   "id": "c2d295dd",
   "metadata": {},
   "outputs": [],
   "source": [
    "another_list = ['one', 'two']"
   ]
  },
  {
   "cell_type": "code",
   "execution_count": 7,
   "id": "169629e1",
   "metadata": {},
   "outputs": [],
   "source": [
    "conc_list = my_list + another_list #we can also concatinate the list"
   ]
  },
  {
   "cell_type": "code",
   "execution_count": 8,
   "id": "aa5251fa",
   "metadata": {},
   "outputs": [
    {
     "data": {
      "text/plain": [
       "[1, 2, 3, 4, 'one', 'two']"
      ]
     },
     "execution_count": 8,
     "metadata": {},
     "output_type": "execute_result"
    }
   ],
   "source": [
    "conc_list"
   ]
  },
  {
   "cell_type": "markdown",
   "id": "d94e4b13",
   "metadata": {},
   "source": [
    "Lists are mutable"
   ]
  },
  {
   "cell_type": "code",
   "execution_count": 9,
   "id": "32b3c7f5",
   "metadata": {},
   "outputs": [],
   "source": [
    "another_list[0] = \"ONE\""
   ]
  },
  {
   "cell_type": "code",
   "execution_count": 10,
   "id": "34e0d334",
   "metadata": {},
   "outputs": [
    {
     "data": {
      "text/plain": [
       "['ONE', 'two']"
      ]
     },
     "execution_count": 10,
     "metadata": {},
     "output_type": "execute_result"
    }
   ],
   "source": [
    "another_list"
   ]
  },
  {
   "cell_type": "code",
   "execution_count": 11,
   "id": "3061670c",
   "metadata": {},
   "outputs": [],
   "source": [
    "another_list.append('three') #adding an element to the list"
   ]
  },
  {
   "cell_type": "code",
   "execution_count": 12,
   "id": "33f53ca5",
   "metadata": {},
   "outputs": [
    {
     "data": {
      "text/plain": [
       "['ONE', 'two', 'three']"
      ]
     },
     "execution_count": 12,
     "metadata": {},
     "output_type": "execute_result"
    }
   ],
   "source": [
    "another_list"
   ]
  },
  {
   "cell_type": "code",
   "execution_count": 13,
   "id": "535565dd",
   "metadata": {},
   "outputs": [
    {
     "ename": "TypeError",
     "evalue": "list.append() takes exactly one argument (2 given)",
     "output_type": "error",
     "traceback": [
      "\u001b[1;31m---------------------------------------------------------------------------\u001b[0m",
      "\u001b[1;31mTypeError\u001b[0m                                 Traceback (most recent call last)",
      "\u001b[1;32m~\\AppData\\Local\\Temp/ipykernel_7600/3599071180.py\u001b[0m in \u001b[0;36m<module>\u001b[1;34m\u001b[0m\n\u001b[1;32m----> 1\u001b[1;33m \u001b[0manother_list\u001b[0m\u001b[1;33m.\u001b[0m\u001b[0mappend\u001b[0m\u001b[1;33m(\u001b[0m\u001b[1;34m'fours'\u001b[0m\u001b[1;33m,\u001b[0m\u001b[1;34m'five'\u001b[0m\u001b[1;33m)\u001b[0m\u001b[1;33m\u001b[0m\u001b[1;33m\u001b[0m\u001b[0m\n\u001b[0m",
      "\u001b[1;31mTypeError\u001b[0m: list.append() takes exactly one argument (2 given)"
     ]
    }
   ],
   "source": [
    "another_list.append('fours','five') #takes onlt one argument"
   ]
  },
  {
   "cell_type": "code",
   "execution_count": 14,
   "id": "6f5c1f62",
   "metadata": {},
   "outputs": [
    {
     "ename": "AttributeError",
     "evalue": "'NoneType' object has no attribute 'append'",
     "output_type": "error",
     "traceback": [
      "\u001b[1;31m---------------------------------------------------------------------------\u001b[0m",
      "\u001b[1;31mAttributeError\u001b[0m                            Traceback (most recent call last)",
      "\u001b[1;32m~\\AppData\\Local\\Temp/ipykernel_7600/2287353723.py\u001b[0m in \u001b[0;36m<module>\u001b[1;34m\u001b[0m\n\u001b[1;32m----> 1\u001b[1;33m \u001b[0manother_list\u001b[0m\u001b[1;33m.\u001b[0m\u001b[0mappend\u001b[0m\u001b[1;33m(\u001b[0m\u001b[1;34m'four'\u001b[0m\u001b[1;33m)\u001b[0m\u001b[1;33m.\u001b[0m\u001b[0mappend\u001b[0m\u001b[1;33m(\u001b[0m\u001b[1;34m'five'\u001b[0m\u001b[1;33m)\u001b[0m\u001b[1;33m\u001b[0m\u001b[1;33m\u001b[0m\u001b[0m\n\u001b[0m",
      "\u001b[1;31mAttributeError\u001b[0m: 'NoneType' object has no attribute 'append'"
     ]
    }
   ],
   "source": [
    "another_list.append('four').append('five') #gives a trackback"
   ]
  },
  {
   "cell_type": "code",
   "execution_count": 15,
   "id": "9bf62902",
   "metadata": {},
   "outputs": [
    {
     "data": {
      "text/plain": [
       "'four'"
      ]
     },
     "execution_count": 15,
     "metadata": {},
     "output_type": "execute_result"
    }
   ],
   "source": [
    "another_list.pop() #removes an element at the end of the list and returns the popped value"
   ]
  },
  {
   "cell_type": "code",
   "execution_count": 16,
   "id": "0c887061",
   "metadata": {},
   "outputs": [
    {
     "data": {
      "text/plain": [
       "'two'"
      ]
     },
     "execution_count": 16,
     "metadata": {},
     "output_type": "execute_result"
    }
   ],
   "source": [
    "another_list.pop(1) #removes the value of the index location passed as an argument"
   ]
  },
  {
   "cell_type": "code",
   "execution_count": 17,
   "id": "79dcd1bc",
   "metadata": {},
   "outputs": [],
   "source": [
    "new_list = ['a', 'b', 't', 'r', 'w']\n",
    "num_list = [5, 6, 2, 9, 0]"
   ]
  },
  {
   "cell_type": "code",
   "execution_count": 18,
   "id": "33feb580",
   "metadata": {},
   "outputs": [],
   "source": [
    "new_list.sort() #sorts the list but doesn't returns anything"
   ]
  },
  {
   "cell_type": "code",
   "execution_count": 19,
   "id": "5de861eb",
   "metadata": {},
   "outputs": [
    {
     "name": "stdout",
     "output_type": "stream",
     "text": [
      "None\n"
     ]
    }
   ],
   "source": [
    "print(new_list.sort())"
   ]
  },
  {
   "cell_type": "code",
   "execution_count": 20,
   "id": "29cf40a7",
   "metadata": {},
   "outputs": [
    {
     "data": {
      "text/plain": [
       "['a', 'b', 'r', 't', 'w']"
      ]
     },
     "execution_count": 20,
     "metadata": {},
     "output_type": "execute_result"
    }
   ],
   "source": [
    "new_list\n"
   ]
  },
  {
   "cell_type": "code",
   "execution_count": 21,
   "id": "929ad401",
   "metadata": {},
   "outputs": [],
   "source": [
    "num_list.sort()"
   ]
  },
  {
   "cell_type": "code",
   "execution_count": 22,
   "id": "f344ad5d",
   "metadata": {},
   "outputs": [
    {
     "data": {
      "text/plain": [
       "[0, 2, 5, 6, 9]"
      ]
     },
     "execution_count": 22,
     "metadata": {},
     "output_type": "execute_result"
    }
   ],
   "source": [
    "num_list"
   ]
  },
  {
   "cell_type": "markdown",
   "id": "7c07a27a",
   "metadata": {},
   "source": [
    "To store the sorted list in a variable, we cannot do this sorted_list = new_list.sort()\n",
    "instead, store the same list in a new variable since now that list has been mutated\n",
    "sorted_list = new_list"
   ]
  },
  {
   "cell_type": "code",
   "execution_count": 23,
   "id": "092149af",
   "metadata": {},
   "outputs": [],
   "source": [
    "num_list.reverse() #reverse the list and doesn't return anything"
   ]
  },
  {
   "cell_type": "code",
   "execution_count": 24,
   "id": "f2e74e6c",
   "metadata": {},
   "outputs": [
    {
     "data": {
      "text/plain": [
       "[9, 6, 5, 2, 0]"
      ]
     },
     "execution_count": 24,
     "metadata": {},
     "output_type": "execute_result"
    }
   ],
   "source": [
    "num_list"
   ]
  },
  {
   "cell_type": "code",
   "execution_count": 25,
   "id": "a50d9c7a",
   "metadata": {},
   "outputs": [],
   "source": [
    "reversed_list = num_list"
   ]
  },
  {
   "cell_type": "code",
   "execution_count": 26,
   "id": "f9d6efbb",
   "metadata": {},
   "outputs": [
    {
     "data": {
      "text/plain": [
       "[9, 6, 5, 2, 0]"
      ]
     },
     "execution_count": 26,
     "metadata": {},
     "output_type": "execute_result"
    }
   ],
   "source": [
    "reversed_list"
   ]
  },
  {
   "cell_type": "code",
   "execution_count": 27,
   "id": "a0509739",
   "metadata": {},
   "outputs": [],
   "source": [
    "nested_list = [1, 2, [3, 4, 5, [6, 7, 8, 9]]]"
   ]
  },
  {
   "cell_type": "code",
   "execution_count": 28,
   "id": "8a450112",
   "metadata": {},
   "outputs": [
    {
     "data": {
      "text/plain": [
       "3"
      ]
     },
     "execution_count": 28,
     "metadata": {},
     "output_type": "execute_result"
    }
   ],
   "source": [
    "nested_list[2][0]"
   ]
  },
  {
   "cell_type": "code",
   "execution_count": 29,
   "id": "15ea034a",
   "metadata": {},
   "outputs": [
    {
     "data": {
      "text/plain": [
       "7"
      ]
     },
     "execution_count": 29,
     "metadata": {},
     "output_type": "execute_result"
    }
   ],
   "source": [
    "nested_list[2][3][1]"
   ]
  },
  {
   "cell_type": "code",
   "execution_count": null,
   "id": "580c35d2",
   "metadata": {},
   "outputs": [],
   "source": []
  }
 ],
 "metadata": {
  "kernelspec": {
   "display_name": "Python 3 (ipykernel)",
   "language": "python",
   "name": "python3"
  },
  "language_info": {
   "codemirror_mode": {
    "name": "ipython",
    "version": 3
   },
   "file_extension": ".py",
   "mimetype": "text/x-python",
   "name": "python",
   "nbconvert_exporter": "python",
   "pygments_lexer": "ipython3",
   "version": "3.9.7"
  }
 },
 "nbformat": 4,
 "nbformat_minor": 5
}
