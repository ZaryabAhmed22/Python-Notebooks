{
 "cells": [
  {
   "cell_type": "markdown",
   "metadata": {},
   "source": [
    "___\n",
    "\n",
    "<a href='https://www.udemy.com/user/joseportilla/'><img src='../Pierian_Data_Logo.png'/></a>\n",
    "___\n",
    "<center><em>Content Copyright by Pierian Data</em></center>"
   ]
  },
  {
   "cell_type": "markdown",
   "metadata": {},
   "source": [
    "# PDFs and Spreadsheets Puzzle Exercise\n",
    "\n",
    "Let's test your skills, the files needed for this puzzle exercise\n",
    "\n",
    "You will need to work with two files for this exercise and solve the following tasks:\n",
    "\n",
    "* Task One: Use Python to extract the Google Drive link from the .csv file. (Hint: Its along the diagonal from top left to bottom right).\n",
    "* Task Two: Download the PDF from the Google Drive link (we already downloaded it for you just in case you can't download from Google Drive) and find the phone number that is in the document. Note: There are different ways of formatting a phone number!"
   ]
  },
  {
   "cell_type": "markdown",
   "metadata": {},
   "source": [
    "## Task One: Grab the Google Drive Link from .csv File"
   ]
  },
  {
   "cell_type": "code",
   "execution_count": 21,
   "metadata": {},
   "outputs": [
    {
     "data": {
      "text/plain": [
       "'https://drive.google.com/open?id=GSEggUB_xsAJJTdzrhmXiprQ'"
      ]
     },
     "execution_count": 21,
     "metadata": {},
     "output_type": "execute_result"
    }
   ],
   "source": [
    "import csv\n",
    "import re\n",
    "\n",
    "file = open('Exercise_Files/find_the_link.csv', encoding='utf-8')\n",
    "\n",
    "csv_reader = csv.reader(file)\n",
    "\n",
    "data_lines = list(csv_reader)\n",
    "\n",
    "link_list = []\n",
    "for line in data_lines:\n",
    "    for data in line:\n",
    "        letter = re.search(r'\\D', data)\n",
    "        \n",
    "        if letter != None:\n",
    "            link_list.append(letter.group())\n",
    "        \n",
    "link = ''.join(link_list)\n",
    "\n",
    "link"
   ]
  },
  {
   "cell_type": "code",
   "execution_count": 14,
   "metadata": {},
   "outputs": [
    {
     "data": {
      "text/plain": [
       "'https://drive.google.com/open?id=1G6SEgg018UB4_4xsAJJ5TdzrhmXipr4Q'"
      ]
     },
     "execution_count": 14,
     "metadata": {},
     "output_type": "execute_result"
    }
   ],
   "source": [
    "# The correct result is shown below, if you can't download from Google Drive, \n",
    "# we added the PDF file to the Exercise_Files folder already"
   ]
  },
  {
   "cell_type": "markdown",
   "metadata": {},
   "source": [
    "## Task Two: Download the PDF from the Google Drive link and find the phone number that is in the document. "
   ]
  },
  {
   "cell_type": "code",
   "execution_count": 22,
   "metadata": {},
   "outputs": [],
   "source": [
    "# You should get this phone number\n",
    "# 505 503 4455"
   ]
  },
  {
   "cell_type": "code",
   "execution_count": 30,
   "metadata": {},
   "outputs": [
    {
     "data": {
      "text/plain": [
       "[['30', '0', '0', '0', '6', '0', '3', '0'],\n",
       " [],\n",
       " [],\n",
       " [],\n",
       " [],\n",
       " ['30', '0', '0', '0'],\n",
       " ['6', '0', '3', '0'],\n",
       " [],\n",
       " [],\n",
       " [],\n",
       " [],\n",
       " ['30', '0', '0', '0', '6', '0', '3', '0'],\n",
       " [],\n",
       " ['50', '5', '5', '03', '4', '4', '5', '5'],\n",
       " [],\n",
       " [],\n",
       " []]"
      ]
     },
     "execution_count": 30,
     "metadata": {},
     "output_type": "execute_result"
    }
   ],
   "source": [
    "import PyPDF2\n",
    "\n",
    "pdf_file = open('Exercise_Files/Find_the_Phone_Number.pdf', 'rb')\n",
    "\n",
    "pdf_reader = PyPDF2.PdfReader(pdf_file)\n",
    "\n",
    "pdf_text = []\n",
    "for num in range(pdf_reader.numPages):\n",
    "    page = pdf_reader.getPage(num)\n",
    "    pdf_text.append(page.extract_text())\n",
    "\n",
    "#len(pdf_text)    \n",
    "phone_number_list = []\n",
    "\n",
    "for page_text in pdf_text:\n",
    "    number  = re.findall(r'\\d{1,}-\\d{}', page_text)\n",
    "    \n",
    "    if num != None:\n",
    "        phone_number_list.append(number)\n",
    "    \n",
    "phone_number_list"
   ]
  },
  {
   "cell_type": "code",
   "execution_count": null,
   "metadata": {},
   "outputs": [],
   "source": []
  }
 ],
 "metadata": {
  "anaconda-cloud": {},
  "kernelspec": {
   "display_name": "Python 3 (ipykernel)",
   "language": "python",
   "name": "python3"
  },
  "language_info": {
   "codemirror_mode": {
    "name": "ipython",
    "version": 3
   },
   "file_extension": ".py",
   "mimetype": "text/x-python",
   "name": "python",
   "nbconvert_exporter": "python",
   "pygments_lexer": "ipython3",
   "version": "3.9.7"
  }
 },
 "nbformat": 4,
 "nbformat_minor": 2
}
