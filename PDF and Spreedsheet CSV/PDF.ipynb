{
 "cells": [
  {
   "cell_type": "code",
   "execution_count": 5,
   "id": "b567113d",
   "metadata": {},
   "outputs": [],
   "source": [
    "import PyPDF2"
   ]
  },
  {
   "cell_type": "code",
   "execution_count": 6,
   "id": "5af0447a",
   "metadata": {},
   "outputs": [],
   "source": [
    "f = open('Working_Business_Proposal.pdf', 'rb') # mode = read binary"
   ]
  },
  {
   "cell_type": "code",
   "execution_count": 7,
   "id": "51ba3811",
   "metadata": {},
   "outputs": [],
   "source": [
    "pdf_reader = PyPDF2.PdfReader(f)"
   ]
  },
  {
   "cell_type": "code",
   "execution_count": 8,
   "id": "3852ef1b",
   "metadata": {},
   "outputs": [
    {
     "data": {
      "text/plain": [
       "5"
      ]
     },
     "execution_count": 8,
     "metadata": {},
     "output_type": "execute_result"
    }
   ],
   "source": [
    "pdf_reader.numPages"
   ]
  },
  {
   "cell_type": "code",
   "execution_count": 11,
   "id": "2387610a",
   "metadata": {},
   "outputs": [
    {
     "name": "stdout",
     "output_type": "stream",
     "text": [
      "Bus in es s  Propos al\n",
      " \n",
      "The Revolution is Coming\n",
      " \n",
      "Leverage agile frameworks to provide a robust synopsis for high level \n",
      "overviews. Iterative approaches to corporate strategy foster collaborative \n",
      "thinking to fur ther the overall value proposition. Organically grow the \n",
      "holistic world view of disruptive innovation via workplace diversity and \n",
      "empower ment. \n",
      "Bring to the table win-win survival strategies to ensure proactive \n",
      "domination. At the end of the day, going forward, a new nor mal that has \n",
      "evolved from generation X is on the runway heading towards a streamlined \n",
      "cloud solution. User generated content in real-time will have multiple \n",
      "touchpoints for offshoring. \n",
      "Capitalize on low hanging fruit to identify a ballpark value added activity to \n",
      "beta test. Override the digital divide with additional clickthroughs from \n",
      "DevOps. Nanotechnology immersion along the infor mation highway will \n",
      "close the loop on focusing solely on the bottom line. \n",
      "Podcasting operational change management inside of workßows to \n",
      "establish a framework. Taking seamless key per for mance indicators ofßine \n",
      "to maximise the long tail. Keeping your eye on the ball while per for ming a \n",
      "deep dive on the star t-up mentality to derive convergence on cross-\n",
      "platfor m integration. \n",
      "C o l l a b o r a t i v e l y a d m i n i s t r a t e e m p o w e re d m a r k e t s v i a p l u g - a n d - p l a y \n",
      "networks. Dynamically procrastinate B2C users after installed base \n",
      "beneÞts. Dramatically visualize customer directed convergence without \n",
      "revolutionar y ROI. \n",
      "EfÞciently unleash cross-media infor mation without cross-media value. \n",
      "Quickly maximize timely deliverables for real-time schemas. Dramatically \n",
      "maintain clicks-and-mor tar solutions without functional solutions. \n",
      "BUSINESS PROPOSAL\n",
      "!\n",
      "1\n",
      "\n"
     ]
    }
   ],
   "source": [
    "# Extracting Text from the pdf file\n",
    "page_one = pdf_reader.getPage(0)\n",
    "\n",
    "page_one_text = page_one.extract_text()\n",
    "\n",
    "# page_one_text\n",
    "\n",
    "print(page_one_text)"
   ]
  },
  {
   "cell_type": "code",
   "execution_count": 12,
   "id": "1e229487",
   "metadata": {},
   "outputs": [],
   "source": [
    "f.close()"
   ]
  },
  {
   "cell_type": "markdown",
   "id": "82df9a64",
   "metadata": {},
   "source": [
    "> When writing with pdf, we can only write a new pdf page but not inside the written text"
   ]
  },
  {
   "cell_type": "code",
   "execution_count": 14,
   "id": "65277b27",
   "metadata": {},
   "outputs": [],
   "source": [
    "f = open('Working_Business_Proposal.pdf', 'rb')\n",
    "pdf_reader = PyPDF2.PdfFileReader(f)"
   ]
  },
  {
   "cell_type": "code",
   "execution_count": 16,
   "id": "929f228c",
   "metadata": {},
   "outputs": [],
   "source": [
    "first_page = pdf_reader.getPage(0)"
   ]
  },
  {
   "cell_type": "code",
   "execution_count": 17,
   "id": "5202b1ab",
   "metadata": {},
   "outputs": [],
   "source": [
    "pdf_writer = PyPDF2.PdfFileWriter()"
   ]
  },
  {
   "cell_type": "code",
   "execution_count": 18,
   "id": "dbf2970f",
   "metadata": {},
   "outputs": [],
   "source": [
    "pdf_writer.addPage(first_page)"
   ]
  },
  {
   "cell_type": "code",
   "execution_count": 19,
   "id": "090a0922",
   "metadata": {},
   "outputs": [],
   "source": [
    "pdf_output  = open('Some_BrandNew_Doc2.pdf', 'wb') # mode =write binary"
   ]
  },
  {
   "cell_type": "code",
   "execution_count": 20,
   "id": "e6f4a3df",
   "metadata": {},
   "outputs": [],
   "source": [
    "pdf_writer.write(pdf_output)"
   ]
  },
  {
   "cell_type": "code",
   "execution_count": 21,
   "id": "70ad3799",
   "metadata": {},
   "outputs": [],
   "source": [
    "f.close()"
   ]
  },
  {
   "cell_type": "code",
   "execution_count": null,
   "id": "8b3fed45",
   "metadata": {},
   "outputs": [],
   "source": []
  },
  {
   "cell_type": "code",
   "execution_count": null,
   "id": "ba5d7e51",
   "metadata": {},
   "outputs": [],
   "source": []
  },
  {
   "cell_type": "code",
   "execution_count": null,
   "id": "376cafb0",
   "metadata": {},
   "outputs": [],
   "source": []
  },
  {
   "cell_type": "code",
   "execution_count": 26,
   "id": "58e8eccc",
   "metadata": {},
   "outputs": [],
   "source": [
    "# Abstracting all data from a pdf file\n",
    "file = open('Working_Business_Proposal.pdf', 'rb')\n",
    "\n",
    "pdf_text = []\n",
    "\n",
    "pdf_reader = PyPDF2.PdfFileReader(file)\n",
    "\n",
    "for num in range(pdf_reader.numPages):\n",
    "    page = pdf_reader.getPage(num)\n",
    "    pdf_text.append(page.extract_text())"
   ]
  },
  {
   "cell_type": "code",
   "execution_count": 29,
   "id": "23626429",
   "metadata": {},
   "outputs": [
    {
     "name": "stdout",
     "output_type": "stream",
     "text": [
      "Page # 1\n",
      "\n",
      "Bus in es s  Propos al\n",
      " \n",
      "The Revolution is Coming\n",
      " \n",
      "Leverage agile frameworks to provide a robust synopsis for high level \n",
      "overviews. Iterative approaches to corporate strategy foster collaborative \n",
      "thinking to fur ther the overall value proposition. Organically grow the \n",
      "holistic world view of disruptive innovation via workplace diversity and \n",
      "empower ment. \n",
      "Bring to the table win-win survival strategies to ensure proactive \n",
      "domination. At the end of the day, going forward, a new nor mal that has \n",
      "evolved from generation X is on the runway heading towards a streamlined \n",
      "cloud solution. User generated content in real-time will have multiple \n",
      "touchpoints for offshoring. \n",
      "Capitalize on low hanging fruit to identify a ballpark value added activity to \n",
      "beta test. Override the digital divide with additional clickthroughs from \n",
      "DevOps. Nanotechnology immersion along the infor mation highway will \n",
      "close the loop on focusing solely on the bottom line. \n",
      "Podcasting operational change management inside of workßows to \n",
      "establish a framework. Taking seamless key per for mance indicators ofßine \n",
      "to maximise the long tail. Keeping your eye on the ball while per for ming a \n",
      "deep dive on the star t-up mentality to derive convergence on cross-\n",
      "platfor m integration. \n",
      "C o l l a b o r a t i v e l y a d m i n i s t r a t e e m p o w e re d m a r k e t s v i a p l u g - a n d - p l a y \n",
      "networks. Dynamically procrastinate B2C users after installed base \n",
      "beneÞts. Dramatically visualize customer directed convergence without \n",
      "revolutionar y ROI. \n",
      "EfÞciently unleash cross-media infor mation without cross-media value. \n",
      "Quickly maximize timely deliverables for real-time schemas. Dramatically \n",
      "maintain clicks-and-mor tar solutions without functional solutions. \n",
      "BUSINESS PROPOSAL\n",
      "!\n",
      "1\n",
      "\n",
      "Page # 2\n",
      "\n",
      "Completely synergize resource taxing relationships via premier niche \n",
      "markets. Professionally cultivate one-to-one customer service with robust \n",
      "ideas. Dynamically innovate resource-leveling customer service for state of \n",
      "the ar t customer service. \n",
      "Objectively innovate empowered manufactured products whereas parallel \n",
      "platfor ms. Holisticly predominate extensible testing procedures for reliable \n",
      "supply chains. Dramatically engage top-line web services vis-a-vis \n",
      "cutting-edge deliverables. \n",
      "Proactively envisioned multimedia based exper tise and cross-media \n",
      "growth strategies. Seamlessly visualize quality intellectual capital without \n",
      "superior collaboration and idea-sharing. Holistically pontiÞcate installed \n",
      "base por tals after maintainable products. \n",
      "Phosßuorescently engage worldwide methodologies with web-enabled \n",
      "technology. Interactively coordinate proactive e-commerce via process-\n",
      "centric \"outside the box\" thinking. Completely pursue scalable customer \n",
      "service through sustainable potentialities. \n",
      "Collaboratively administrate tur nkey channels whereas vir tual e-tailers. \n",
      "O b j e c t i v e l y s e i z e s c a l a b l e m e t r i c s w h e r e a s p r o a c t i v e e - s e r v i c e s . \n",
      "Seamlessly empower fully researched growth strategies and interoperable \n",
      "inter nal or \"organic\" sources. \n",
      "Credibly innovate granular inter nal or \"organic\" sources whereas high \n",
      "s t a n d a r d s i n w e b - r e a d i n e s s . E n e r g i s t i c a l l y s c a l e f u t u r e - p r o o f c o r e \n",
      "competencies vis-a-vis impactful experiences. Dramatically synthesize \n",
      "integrated schemas with optimal networks. \n",
      "Interactively procrastinate high-payoff content without backward-\n",
      "compatible data. Quickly cultivate optimal processes and tactical \n",
      "architectures. Completely iterate covalent strategic theme areas via \n",
      "accurate e-markets. \n",
      "Globally incubate standards compliant channels before scalable beneÞts. \n",
      "Quickly disseminate superior deliverables whereas web-enabled \n",
      "BUSINESS PROPOSAL\n",
      "!\n",
      "2\n",
      "\n",
      "Page # 3\n",
      "\n",
      "applications. Quickly drive clicks-and-mor tar catalysts for change before \n",
      "ver tical architectures. \n",
      "Credibly reintermediate backend ideas for cross-platform models. \n",
      "Continually reinter mediate integrated processes through technically sound \n",
      "intellectual capital. Holistically foster superior methodologies without \n",
      "market-driven best practices. \n",
      "Distinctively exploit optimal alignments for intuitive bandwidth. Quickly \n",
      "coordinate e-business applications through revolutionar y catalysts for \n",
      "change. Seamlessly underwhelm optimal testing procedures whereas \n",
      "bricks-and-clicks processes. \n",
      "Synergistically evolve 2.0 technologies rather than just in time initiatives. \n",
      "Quickly deploy strategic networks with compelling e-business. Credibly \n",
      "pontiÞcate highly efÞcient manufactured products and enabled data. \n",
      "Dynamically target high-payoff intellectual capital for customized \n",
      "technologies. Objectively integrate emerging core competencies before \n",
      "process-centric communities. Dramatically evisculate holistic innovation \n",
      "rather than client-centric data. \n",
      "Progressively maintain extensive infomediaries via extensible niches. \n",
      "Dramatically disseminate standardized metrics after resource-leveling \n",
      "processes. Objectively pursue diverse catalysts for change for \n",
      "interoperable meta-services. \n",
      "Proactively fabricate one-to-one materials via effective e-business. \n",
      "Completely synergize scalable e-commerce rather than high standards in \n",
      "e-services. Asser tively iterate resource maximizing products after leading-\n",
      "edge intellectual capital. \n",
      "Distinctively re-engineer revolutionary meta-services and premium \n",
      "architectures. Intrinsically incubate intuitive oppor tunities and real-time \n",
      "potentialities. Appropriately communicate one-to-one technology after \n",
      "plug-and-play networks. \n",
      "Quickly aggregate B2B users and worldwide potentialities. Progressively \n",
      "plagiarize resource-leveling e-commerce through resource-leveling core \n",
      "BUSINESS PROPOSAL\n",
      "!\n",
      "3\n",
      "\n",
      "Page # 4\n",
      "\n",
      "competencies. Dramatically mesh low-risk high-yield alignments before \n",
      "transparent e-tailers. \n",
      "Appropriately empower dynamic leadership skills after business por tals. \n",
      "Globally myocardinate interactive supply chains with distinctive quality \n",
      "vectors. Globally revolutionize global sources through interoperable \n",
      "services. \n",
      "Enthusiastically mesh long-term high-impact infrastructures vis-a-vis \n",
      "efÞcient customer service. Professionally fashion wireless leadership rather \n",
      "than prospective experiences. Energistically myocardinate clicks-and-\n",
      "mortar testing procedures whereas next-generation manufactured \n",
      "products. \n",
      "Dynamically reinvent market-driven opportunities and ubiquitous \n",
      "inter faces. Energistically fabricate an expanded array of niche markets \n",
      "through robust products. Appropriately implement visionar y e-services vis-\n",
      "a-vis strategic web-readiness. \n",
      "Compellingly embrace empowered e-business after user friendly \n",
      "i n t e l l e c t u a l c a p i t a l . I n t e r a c t i v e l y a c t u a l i z e f ro n t - e n d p ro c e s s e s w i t h \n",
      "effective convergence. Synergistically deliver performance based \n",
      "methods of empower ment whereas distributed exper tise. \n",
      "EfÞciently enable enabled sources and cost effective products. \n",
      "Completely synthesize principle-centered information after ethical \n",
      "communities. EfÞciently innovate open-source infrastructures via \n",
      "inexpensive materials. \n",
      "Objectively integrate enterprise-wide strategic theme areas with \n",
      "f u n c t i o n a l i z e d i n f r a s t r u c t u r e s . I n t e r a c t i v e l y p r o d u c t i z e p r e m i u m \n",
      "technologies whereas interdependent quality vectors. Rapaciously utilize \n",
      "enterprise experiences via 24/7 markets. \n",
      "Uniquely matrix economically sound value through cooperative \n",
      "technology. Competently parallel task fully researched data and enterprise \n",
      "process improvements. Collaboratively expedite quality manufactured \n",
      "products via client-focused results. \n",
      "BUSINESS PROPOSAL\n",
      "!\n",
      "4\n",
      "\n",
      "Page # 5\n",
      "\n",
      "Quickly communicate enabled technology and tur nkey leadership skills. \n",
      "U n i q u e l y e n a b l e a c c u r a t e s u p p l y c h a i n s r a t h e r t h a n f r i c t i o n l e s s \n",
      "technology. Globally network focused materials vis-a-vis cost effective \n",
      "manufactured products. \n",
      "BUSINESS PROPOSAL\n",
      "!\n",
      "5\n",
      "\n"
     ]
    }
   ],
   "source": [
    "page = 1\n",
    "for text in pdf_text:\n",
    "    print(f'Page # {page}')\n",
    "    print(f'\\n{text}')\n",
    "    page += 1"
   ]
  },
  {
   "cell_type": "code",
   "execution_count": null,
   "id": "4207c7ca",
   "metadata": {},
   "outputs": [],
   "source": []
  }
 ],
 "metadata": {
  "kernelspec": {
   "display_name": "Python 3 (ipykernel)",
   "language": "python",
   "name": "python3"
  },
  "language_info": {
   "codemirror_mode": {
    "name": "ipython",
    "version": 3
   },
   "file_extension": ".py",
   "mimetype": "text/x-python",
   "name": "python",
   "nbconvert_exporter": "python",
   "pygments_lexer": "ipython3",
   "version": "3.9.7"
  }
 },
 "nbformat": 4,
 "nbformat_minor": 5
}
