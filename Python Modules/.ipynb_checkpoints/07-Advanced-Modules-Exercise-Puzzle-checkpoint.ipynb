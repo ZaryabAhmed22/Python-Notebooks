{
 "cells": [
  {
   "cell_type": "markdown",
   "metadata": {},
   "source": [
    "___\n",
    "\n",
    "<a href='https://www.udemy.com/user/joseportilla/'><img src='../../Pierian_Data_Logo.png'/></a>\n",
    "___\n",
    "<center><em>Content Copyright by Pierian Data</em></center>"
   ]
  },
  {
   "cell_type": "markdown",
   "metadata": {},
   "source": [
    "# Advanced Modules Exercise Puzzle\n",
    "\n",
    "It's time to test your new skills, this puzzle project will combine multiple skills sets, including unzipping files with Python, using os module to automatically search through lots of files.\n",
    "\n",
    "## Your Goal\n",
    "\n",
    "This is a puzzle, so we don't want to give you too much guidance and instead have you figure out things on your own.\n",
    "\n",
    "There is a .zip file called 'unzip_me_for_instructions.zip', unzip it, open the .txt file with Python, read the instructions and see if you can figure out what you need to do!\n",
    "\n",
    "**If you get stuck or don't know where to start, here is a [guide/hints](https://docs.google.com/document/d/1JxydUr4n4fSR0EwwuwT-aHia-yPK6r-oTBuVT2sqheo/edit?usp=sharing)**"
   ]
  },
  {
   "cell_type": "code",
   "execution_count": 1,
   "metadata": {},
   "outputs": [],
   "source": [
    "# Unzipping the instructions Zip file\n",
    "import shutil"
   ]
  },
  {
   "cell_type": "code",
   "execution_count": 2,
   "metadata": {},
   "outputs": [
    {
     "data": {
      "text/plain": [
       "'C:\\\\Users\\\\Zaryab\\\\Desktop\\\\Python Notebooks\\\\Python Modules'"
      ]
     },
     "execution_count": 2,
     "metadata": {},
     "output_type": "execute_result"
    }
   ],
   "source": [
    "pwd"
   ]
  },
  {
   "cell_type": "code",
   "execution_count": 3,
   "metadata": {},
   "outputs": [],
   "source": [
    "# Params\n",
    "# 1. File to be unzipped\n",
    "# 2. Name of the unzipped version\n",
    "# 3. Type/Format of the file\n",
    "\n",
    "shutil.unpack_archive('C:\\\\Users\\\\Zaryab\\\\Desktop\\\\Python Notebooks\\\\Python Modules\\\\unzip_me_for_instructions.zip', 'unzip_instruction')"
   ]
  },
  {
   "cell_type": "code",
   "execution_count": 4,
   "metadata": {},
   "outputs": [],
   "source": [
    "import os\n",
    "import regex\n",
    "import re"
   ]
  },
  {
   "cell_type": "code",
   "execution_count": 5,
   "metadata": {},
   "outputs": [],
   "source": [
    "file_path = os.getcwd()"
   ]
  },
  {
   "cell_type": "code",
   "execution_count": 6,
   "metadata": {},
   "outputs": [
    {
     "data": {
      "text/plain": [
       "'C:\\\\Users\\\\Zaryab\\\\Desktop\\\\Python Notebooks\\\\Python Modules'"
      ]
     },
     "execution_count": 6,
     "metadata": {},
     "output_type": "execute_result"
    }
   ],
   "source": [
    "file_path"
   ]
  },
  {
   "cell_type": "code",
   "execution_count": 7,
   "metadata": {},
   "outputs": [
    {
     "data": {
      "text/plain": [
       "'unzip_instruction'"
      ]
     },
     "execution_count": 7,
     "metadata": {},
     "output_type": "execute_result"
    }
   ],
   "source": [
    " os.listdir()[12]"
   ]
  },
  {
   "cell_type": "code",
   "execution_count": 8,
   "metadata": {},
   "outputs": [],
   "source": [
    "file_path = 'C:\\\\Users\\\\Zaryab\\\\Desktop\\\\Python Notebooks\\\\Python Modules\\\\unzip_instruction\\\\extracted_content'"
   ]
  },
  {
   "cell_type": "code",
   "execution_count": 9,
   "metadata": {},
   "outputs": [
    {
     "data": {
      "text/plain": [
       "'C:\\\\Users\\\\Zaryab\\\\Desktop\\\\Python Notebooks\\\\Python Modules\\\\unzip_instruction\\\\extracted_content'"
      ]
     },
     "execution_count": 9,
     "metadata": {},
     "output_type": "execute_result"
    }
   ],
   "source": [
    "file_path.format()"
   ]
  },
  {
   "cell_type": "code",
   "execution_count": 10,
   "metadata": {
    "scrolled": true
   },
   "outputs": [
    {
     "ename": "FileNotFoundError",
     "evalue": "[Errno 2] No such file or directory: 'C:\\\\Users\\\\Zaryab\\\\Desktop\\\\Python Notebooks\\\\Python Modules\\\\unzip_instruction\\\\extracted_content\\\\AEITMYIRQLP.txt'",
     "output_type": "error",
     "traceback": [
      "\u001b[1;31m---------------------------------------------------------------------------\u001b[0m",
      "\u001b[1;31mFileNotFoundError\u001b[0m                         Traceback (most recent call last)",
      "\u001b[1;32m~\\AppData\\Local\\Temp/ipykernel_6680/3510331347.py\u001b[0m in \u001b[0;36m<module>\u001b[1;34m\u001b[0m\n\u001b[0;32m      5\u001b[0m         \u001b[1;32melse\u001b[0m\u001b[1;33m:\u001b[0m\u001b[1;33m\u001b[0m\u001b[1;33m\u001b[0m\u001b[0m\n\u001b[0;32m      6\u001b[0m             \u001b[0mfh\u001b[0m \u001b[1;33m=\u001b[0m \u001b[0mos\u001b[0m\u001b[1;33m.\u001b[0m\u001b[0mpath\u001b[0m\u001b[1;33m.\u001b[0m\u001b[0mjoin\u001b[0m\u001b[1;33m(\u001b[0m\u001b[0mfile_path\u001b[0m\u001b[1;33m,\u001b[0m \u001b[0mfile\u001b[0m\u001b[1;33m)\u001b[0m\u001b[1;33m\u001b[0m\u001b[1;33m\u001b[0m\u001b[0m\n\u001b[1;32m----> 7\u001b[1;33m             \u001b[0mfile_open\u001b[0m \u001b[1;33m=\u001b[0m \u001b[0mopen\u001b[0m\u001b[1;33m(\u001b[0m\u001b[0mfh\u001b[0m\u001b[1;33m)\u001b[0m\u001b[1;33m\u001b[0m\u001b[1;33m\u001b[0m\u001b[0m\n\u001b[0m\u001b[0;32m      8\u001b[0m             \u001b[1;32mfor\u001b[0m \u001b[0mline\u001b[0m \u001b[1;32min\u001b[0m \u001b[0mfile_open\u001b[0m\u001b[1;33m:\u001b[0m\u001b[1;33m\u001b[0m\u001b[1;33m\u001b[0m\u001b[0m\n\u001b[0;32m      9\u001b[0m                 \u001b[1;31m#print(line)\u001b[0m\u001b[1;33m\u001b[0m\u001b[1;33m\u001b[0m\u001b[0m\n",
      "\u001b[1;31mFileNotFoundError\u001b[0m: [Errno 2] No such file or directory: 'C:\\\\Users\\\\Zaryab\\\\Desktop\\\\Python Notebooks\\\\Python Modules\\\\unzip_instruction\\\\extracted_content\\\\AEITMYIRQLP.txt'"
     ]
    }
   ],
   "source": [
    "for folders, subfolders, files in os.walk(file_path):\n",
    "    for file in files:\n",
    "        if file == 'Instructions.txt':\n",
    "            pass\n",
    "        else:\n",
    "            fh = os.path.join(file_path, file)\n",
    "            file_open = open(fh)\n",
    "            for line in file_open:\n",
    "                #print(line)\n",
    "                re.search(r'(\\d{3})-(\\d{3})-(\\d{4})', line) \n",
    "    "
   ]
  },
  {
   "cell_type": "code",
   "execution_count": 11,
   "metadata": {},
   "outputs": [
    {
     "name": "stdout",
     "output_type": "stream",
     "text": [
      "Currently looking at C:\\Users\\Zaryab\\Desktop\\Python Notebooks\\Python Modules\\unzip_instruction\\extracted_content\n",
      "\n",
      "\n",
      "The subfolders are: \n",
      "Subfolder: Five\n",
      "Subfolder: Four\n",
      "Subfolder: One\n",
      "Subfolder: Three\n",
      "Subfolder: Two\n",
      "\n",
      "\n",
      "The files are: \n",
      "\t File: Instructions.txt\n",
      "C:\\Users\\Zaryab\\Desktop\\Python Notebooks\\Python Modules\\unzip_instruction\\extracted_content\\Instructions.txt\n",
      "\n",
      "\n",
      "////////////////////////////\n",
      "Currently looking at C:\\Users\\Zaryab\\Desktop\\Python Notebooks\\Python Modules\\unzip_instruction\\extracted_content\\Five\n",
      "\n",
      "\n",
      "The subfolders are: \n",
      "\n",
      "\n",
      "The files are: \n",
      "\t File: AEITMYIRQLP.txt\n",
      "C:\\Users\\Zaryab\\Desktop\\Python Notebooks\\Python Modules\\unzip_instruction\\extracted_content\\Five\\AEITMYIRQLP.txt\n",
      "\t File: APJKSRITGGX.txt\n",
      "C:\\Users\\Zaryab\\Desktop\\Python Notebooks\\Python Modules\\unzip_instruction\\extracted_content\\Five\\APJKSRITGGX.txt\n",
      "\t File: AQKATDFGXTS.txt\n",
      "C:\\Users\\Zaryab\\Desktop\\Python Notebooks\\Python Modules\\unzip_instruction\\extracted_content\\Five\\AQKATDFGXTS.txt\n",
      "\t File: ARLKFCWIAJE.txt\n",
      "C:\\Users\\Zaryab\\Desktop\\Python Notebooks\\Python Modules\\unzip_instruction\\extracted_content\\Five\\ARLKFCWIAJE.txt\n",
      "\t File: AXJGVPVEFAS.txt\n",
      "C:\\Users\\Zaryab\\Desktop\\Python Notebooks\\Python Modules\\unzip_instruction\\extracted_content\\Five\\AXJGVPVEFAS.txt\n",
      "\t File: BNUQEHCFRTG.txt\n",
      "C:\\Users\\Zaryab\\Desktop\\Python Notebooks\\Python Modules\\unzip_instruction\\extracted_content\\Five\\BNUQEHCFRTG.txt\n",
      "\t File: BSKJDRNEZQM.txt\n",
      "C:\\Users\\Zaryab\\Desktop\\Python Notebooks\\Python Modules\\unzip_instruction\\extracted_content\\Five\\BSKJDRNEZQM.txt\n",
      "\t File: BTYWAHLHKBM.txt\n",
      "C:\\Users\\Zaryab\\Desktop\\Python Notebooks\\Python Modules\\unzip_instruction\\extracted_content\\Five\\BTYWAHLHKBM.txt\n",
      "\t File: BUGKBZWRRVI.txt\n",
      "C:\\Users\\Zaryab\\Desktop\\Python Notebooks\\Python Modules\\unzip_instruction\\extracted_content\\Five\\BUGKBZWRRVI.txt\n",
      "\t File: BVBURZZCAPR.txt\n",
      "C:\\Users\\Zaryab\\Desktop\\Python Notebooks\\Python Modules\\unzip_instruction\\extracted_content\\Five\\BVBURZZCAPR.txt\n",
      "\t File: CAHBEVSVDDN.txt\n",
      "C:\\Users\\Zaryab\\Desktop\\Python Notebooks\\Python Modules\\unzip_instruction\\extracted_content\\Five\\CAHBEVSVDDN.txt\n",
      "\t File: COMGMZBJAYE.txt\n",
      "C:\\Users\\Zaryab\\Desktop\\Python Notebooks\\Python Modules\\unzip_instruction\\extracted_content\\Five\\COMGMZBJAYE.txt\n",
      "\t File: CRFSDGYFSHA.txt\n",
      "C:\\Users\\Zaryab\\Desktop\\Python Notebooks\\Python Modules\\unzip_instruction\\extracted_content\\Five\\CRFSDGYFSHA.txt\n",
      "\t File: CSCLFZCDYYC.txt\n",
      "C:\\Users\\Zaryab\\Desktop\\Python Notebooks\\Python Modules\\unzip_instruction\\extracted_content\\Five\\CSCLFZCDYYC.txt\n",
      "\t File: CXBVCTRBBIE.txt\n",
      "C:\\Users\\Zaryab\\Desktop\\Python Notebooks\\Python Modules\\unzip_instruction\\extracted_content\\Five\\CXBVCTRBBIE.txt\n",
      "\t File: DDLASODUVPX.txt\n",
      "C:\\Users\\Zaryab\\Desktop\\Python Notebooks\\Python Modules\\unzip_instruction\\extracted_content\\Five\\DDLASODUVPX.txt\n",
      "\t File: DHZBAAYEADM.txt\n",
      "C:\\Users\\Zaryab\\Desktop\\Python Notebooks\\Python Modules\\unzip_instruction\\extracted_content\\Five\\DHZBAAYEADM.txt\n",
      "\t File: DQPZQLBCJYP.txt\n",
      "C:\\Users\\Zaryab\\Desktop\\Python Notebooks\\Python Modules\\unzip_instruction\\extracted_content\\Five\\DQPZQLBCJYP.txt\n",
      "\t File: DYOPIIVMZOO.txt\n",
      "C:\\Users\\Zaryab\\Desktop\\Python Notebooks\\Python Modules\\unzip_instruction\\extracted_content\\Five\\DYOPIIVMZOO.txt\n",
      "\t File: DZUWWXYIAEL.txt\n",
      "C:\\Users\\Zaryab\\Desktop\\Python Notebooks\\Python Modules\\unzip_instruction\\extracted_content\\Five\\DZUWWXYIAEL.txt\n",
      "\t File: EAAOEPSAWMQ.txt\n",
      "C:\\Users\\Zaryab\\Desktop\\Python Notebooks\\Python Modules\\unzip_instruction\\extracted_content\\Five\\EAAOEPSAWMQ.txt\n",
      "\t File: EIPWXMQZJKU.txt\n",
      "C:\\Users\\Zaryab\\Desktop\\Python Notebooks\\Python Modules\\unzip_instruction\\extracted_content\\Five\\EIPWXMQZJKU.txt\n",
      "\t File: ESIZWBHMGDP.txt\n",
      "C:\\Users\\Zaryab\\Desktop\\Python Notebooks\\Python Modules\\unzip_instruction\\extracted_content\\Five\\ESIZWBHMGDP.txt\n",
      "\t File: ETCUEXWNBCF.txt\n",
      "C:\\Users\\Zaryab\\Desktop\\Python Notebooks\\Python Modules\\unzip_instruction\\extracted_content\\Five\\ETCUEXWNBCF.txt\n",
      "\t File: EYTCGIOYWIW.txt\n",
      "C:\\Users\\Zaryab\\Desktop\\Python Notebooks\\Python Modules\\unzip_instruction\\extracted_content\\Five\\EYTCGIOYWIW.txt\n",
      "\n",
      "\n",
      "////////////////////////////\n",
      "Currently looking at C:\\Users\\Zaryab\\Desktop\\Python Notebooks\\Python Modules\\unzip_instruction\\extracted_content\\Four\n",
      "\n",
      "\n",
      "The subfolders are: \n",
      "\n",
      "\n",
      "The files are: \n",
      "\t File: ECIOBYCDVFI.txt\n",
      "C:\\Users\\Zaryab\\Desktop\\Python Notebooks\\Python Modules\\unzip_instruction\\extracted_content\\Four\\ECIOBYCDVFI.txt\n",
      "\t File: EMTGPSXQEJX.txt\n",
      "C:\\Users\\Zaryab\\Desktop\\Python Notebooks\\Python Modules\\unzip_instruction\\extracted_content\\Four\\EMTGPSXQEJX.txt\n",
      "\t File: EPRNUHRSESC.txt\n",
      "C:\\Users\\Zaryab\\Desktop\\Python Notebooks\\Python Modules\\unzip_instruction\\extracted_content\\Four\\EPRNUHRSESC.txt\n",
      "\t File: ESDIZXHYCVY.txt\n",
      "C:\\Users\\Zaryab\\Desktop\\Python Notebooks\\Python Modules\\unzip_instruction\\extracted_content\\Four\\ESDIZXHYCVY.txt\n",
      "\t File: EXVQSVBQQQH.txt\n",
      "C:\\Users\\Zaryab\\Desktop\\Python Notebooks\\Python Modules\\unzip_instruction\\extracted_content\\Four\\EXVQSVBQQQH.txt\n",
      "\t File: QCTCKDIBBVG.txt\n",
      "C:\\Users\\Zaryab\\Desktop\\Python Notebooks\\Python Modules\\unzip_instruction\\extracted_content\\Four\\QCTCKDIBBVG.txt\n",
      "\t File: QCWCFLKNZMN.txt\n",
      "C:\\Users\\Zaryab\\Desktop\\Python Notebooks\\Python Modules\\unzip_instruction\\extracted_content\\Four\\QCWCFLKNZMN.txt\n",
      "\t File: QDDETWBHJYC.txt\n",
      "C:\\Users\\Zaryab\\Desktop\\Python Notebooks\\Python Modules\\unzip_instruction\\extracted_content\\Four\\QDDETWBHJYC.txt\n",
      "\t File: QTDYYIFPHAU.txt\n",
      "C:\\Users\\Zaryab\\Desktop\\Python Notebooks\\Python Modules\\unzip_instruction\\extracted_content\\Four\\QTDYYIFPHAU.txt\n",
      "\t File: QVNJULGXNUM.txt\n",
      "C:\\Users\\Zaryab\\Desktop\\Python Notebooks\\Python Modules\\unzip_instruction\\extracted_content\\Four\\QVNJULGXNUM.txt\n",
      "\t File: REAXWSOIQDY.txt\n",
      "C:\\Users\\Zaryab\\Desktop\\Python Notebooks\\Python Modules\\unzip_instruction\\extracted_content\\Four\\REAXWSOIQDY.txt\n",
      "\t File: ROICPTWKXDX.txt\n",
      "C:\\Users\\Zaryab\\Desktop\\Python Notebooks\\Python Modules\\unzip_instruction\\extracted_content\\Four\\ROICPTWKXDX.txt\n",
      "\t File: RSXOTNGKBML.txt\n",
      "C:\\Users\\Zaryab\\Desktop\\Python Notebooks\\Python Modules\\unzip_instruction\\extracted_content\\Four\\RSXOTNGKBML.txt\n",
      "\t File: RXDARIDGKBF.txt\n",
      "C:\\Users\\Zaryab\\Desktop\\Python Notebooks\\Python Modules\\unzip_instruction\\extracted_content\\Four\\RXDARIDGKBF.txt\n",
      "\t File: RYNXFYXMKHG.txt\n",
      "C:\\Users\\Zaryab\\Desktop\\Python Notebooks\\Python Modules\\unzip_instruction\\extracted_content\\Four\\RYNXFYXMKHG.txt\n",
      "\t File: TAKNAVDMZKV.txt\n",
      "C:\\Users\\Zaryab\\Desktop\\Python Notebooks\\Python Modules\\unzip_instruction\\extracted_content\\Four\\TAKNAVDMZKV.txt\n",
      "\t File: THPNEGKTJWI.txt\n",
      "C:\\Users\\Zaryab\\Desktop\\Python Notebooks\\Python Modules\\unzip_instruction\\extracted_content\\Four\\THPNEGKTJWI.txt\n",
      "\t File: TJFMLJODVAD.txt\n",
      "C:\\Users\\Zaryab\\Desktop\\Python Notebooks\\Python Modules\\unzip_instruction\\extracted_content\\Four\\TJFMLJODVAD.txt\n",
      "\t File: TKCZSFQNJTX.txt\n",
      "C:\\Users\\Zaryab\\Desktop\\Python Notebooks\\Python Modules\\unzip_instruction\\extracted_content\\Four\\TKCZSFQNJTX.txt\n",
      "\t File: TWUOYFCCYBQ.txt\n",
      "C:\\Users\\Zaryab\\Desktop\\Python Notebooks\\Python Modules\\unzip_instruction\\extracted_content\\Four\\TWUOYFCCYBQ.txt\n",
      "\t File: WFSKPTXPFCH.txt\n",
      "C:\\Users\\Zaryab\\Desktop\\Python Notebooks\\Python Modules\\unzip_instruction\\extracted_content\\Four\\WFSKPTXPFCH.txt\n",
      "\t File: WHTOHQUWXIN.txt\n",
      "C:\\Users\\Zaryab\\Desktop\\Python Notebooks\\Python Modules\\unzip_instruction\\extracted_content\\Four\\WHTOHQUWXIN.txt\n",
      "\t File: WNJISWPEBRS.txt\n",
      "C:\\Users\\Zaryab\\Desktop\\Python Notebooks\\Python Modules\\unzip_instruction\\extracted_content\\Four\\WNJISWPEBRS.txt\n",
      "\t File: WXDJDOGZEHN.txt\n",
      "C:\\Users\\Zaryab\\Desktop\\Python Notebooks\\Python Modules\\unzip_instruction\\extracted_content\\Four\\WXDJDOGZEHN.txt\n",
      "\t File: WYDLGSGGXKV.txt\n",
      "C:\\Users\\Zaryab\\Desktop\\Python Notebooks\\Python Modules\\unzip_instruction\\extracted_content\\Four\\WYDLGSGGXKV.txt\n",
      "\n",
      "\n",
      "////////////////////////////\n",
      "Currently looking at C:\\Users\\Zaryab\\Desktop\\Python Notebooks\\Python Modules\\unzip_instruction\\extracted_content\\One\n",
      "\n",
      "\n",
      "The subfolders are: \n",
      "\n",
      "\n",
      "The files are: \n",
      "\t File: HDOHZHFSTTK.txt\n",
      "C:\\Users\\Zaryab\\Desktop\\Python Notebooks\\Python Modules\\unzip_instruction\\extracted_content\\One\\HDOHZHFSTTK.txt\n",
      "\t File: HFUTPPAXDIS.txt\n",
      "C:\\Users\\Zaryab\\Desktop\\Python Notebooks\\Python Modules\\unzip_instruction\\extracted_content\\One\\HFUTPPAXDIS.txt\n",
      "\t File: HMNZTLIFGPD.txt\n",
      "C:\\Users\\Zaryab\\Desktop\\Python Notebooks\\Python Modules\\unzip_instruction\\extracted_content\\One\\HMNZTLIFGPD.txt\n",
      "\t File: HRQFTHKVJTL.txt\n",
      "C:\\Users\\Zaryab\\Desktop\\Python Notebooks\\Python Modules\\unzip_instruction\\extracted_content\\One\\HRQFTHKVJTL.txt\n",
      "\t File: HVUTZEVMSBW.txt\n",
      "C:\\Users\\Zaryab\\Desktop\\Python Notebooks\\Python Modules\\unzip_instruction\\extracted_content\\One\\HVUTZEVMSBW.txt\n",
      "\t File: JDLRVFCXYLU.txt\n",
      "C:\\Users\\Zaryab\\Desktop\\Python Notebooks\\Python Modules\\unzip_instruction\\extracted_content\\One\\JDLRVFCXYLU.txt\n",
      "\t File: JEHBLZPUPSP.txt\n",
      "C:\\Users\\Zaryab\\Desktop\\Python Notebooks\\Python Modules\\unzip_instruction\\extracted_content\\One\\JEHBLZPUPSP.txt\n",
      "\t File: JLTXKIGCWDL.txt\n",
      "C:\\Users\\Zaryab\\Desktop\\Python Notebooks\\Python Modules\\unzip_instruction\\extracted_content\\One\\JLTXKIGCWDL.txt\n",
      "\t File: JQUOBKFUACN.txt\n",
      "C:\\Users\\Zaryab\\Desktop\\Python Notebooks\\Python Modules\\unzip_instruction\\extracted_content\\One\\JQUOBKFUACN.txt\n",
      "\t File: JTHSNBNPQSE.txt\n",
      "C:\\Users\\Zaryab\\Desktop\\Python Notebooks\\Python Modules\\unzip_instruction\\extracted_content\\One\\JTHSNBNPQSE.txt\n",
      "\t File: KCXGNQCZBLO.txt\n",
      "C:\\Users\\Zaryab\\Desktop\\Python Notebooks\\Python Modules\\unzip_instruction\\extracted_content\\One\\KCXGNQCZBLO.txt\n",
      "\t File: KFIUZFERLET.txt\n",
      "C:\\Users\\Zaryab\\Desktop\\Python Notebooks\\Python Modules\\unzip_instruction\\extracted_content\\One\\KFIUZFERLET.txt\n",
      "\t File: KMMLGJOWLGI.txt\n",
      "C:\\Users\\Zaryab\\Desktop\\Python Notebooks\\Python Modules\\unzip_instruction\\extracted_content\\One\\KMMLGJOWLGI.txt\n",
      "\t File: KNBSKDREHQU.txt\n",
      "C:\\Users\\Zaryab\\Desktop\\Python Notebooks\\Python Modules\\unzip_instruction\\extracted_content\\One\\KNBSKDREHQU.txt\n",
      "\t File: KTXDHIOKAUI.txt\n",
      "C:\\Users\\Zaryab\\Desktop\\Python Notebooks\\Python Modules\\unzip_instruction\\extracted_content\\One\\KTXDHIOKAUI.txt\n",
      "\t File: LDGOCUQJNNS.txt\n",
      "C:\\Users\\Zaryab\\Desktop\\Python Notebooks\\Python Modules\\unzip_instruction\\extracted_content\\One\\LDGOCUQJNNS.txt\n",
      "\t File: LFEATJAAYDC.txt\n",
      "C:\\Users\\Zaryab\\Desktop\\Python Notebooks\\Python Modules\\unzip_instruction\\extracted_content\\One\\LFEATJAAYDC.txt\n",
      "\t File: LHODFIKVTQA.txt\n",
      "C:\\Users\\Zaryab\\Desktop\\Python Notebooks\\Python Modules\\unzip_instruction\\extracted_content\\One\\LHODFIKVTQA.txt\n",
      "\t File: LIFDHOFKWOI.txt\n",
      "C:\\Users\\Zaryab\\Desktop\\Python Notebooks\\Python Modules\\unzip_instruction\\extracted_content\\One\\LIFDHOFKWOI.txt\n",
      "\t File: LPNDVDXPZIG.txt\n",
      "C:\\Users\\Zaryab\\Desktop\\Python Notebooks\\Python Modules\\unzip_instruction\\extracted_content\\One\\LPNDVDXPZIG.txt\n",
      "\t File: PDJMSMNKIRM.txt\n",
      "C:\\Users\\Zaryab\\Desktop\\Python Notebooks\\Python Modules\\unzip_instruction\\extracted_content\\One\\PDJMSMNKIRM.txt\n",
      "\t File: PHWAVPEKAER.txt\n",
      "C:\\Users\\Zaryab\\Desktop\\Python Notebooks\\Python Modules\\unzip_instruction\\extracted_content\\One\\PHWAVPEKAER.txt\n",
      "\t File: PLYCGPVEAWO.txt\n",
      "C:\\Users\\Zaryab\\Desktop\\Python Notebooks\\Python Modules\\unzip_instruction\\extracted_content\\One\\PLYCGPVEAWO.txt\n",
      "\t File: PQNVCVJINAR.txt\n",
      "C:\\Users\\Zaryab\\Desktop\\Python Notebooks\\Python Modules\\unzip_instruction\\extracted_content\\One\\PQNVCVJINAR.txt\n",
      "\t File: PTOBBCJYURJ.txt\n",
      "C:\\Users\\Zaryab\\Desktop\\Python Notebooks\\Python Modules\\unzip_instruction\\extracted_content\\One\\PTOBBCJYURJ.txt\n",
      "\n",
      "\n",
      "////////////////////////////\n",
      "Currently looking at C:\\Users\\Zaryab\\Desktop\\Python Notebooks\\Python Modules\\unzip_instruction\\extracted_content\\Three\n",
      "\n",
      "\n",
      "The subfolders are: \n",
      "\n",
      "\n",
      "The files are: \n",
      "\t File: VAQIJTDOFUJ.txt\n",
      "C:\\Users\\Zaryab\\Desktop\\Python Notebooks\\Python Modules\\unzip_instruction\\extracted_content\\Three\\VAQIJTDOFUJ.txt\n",
      "\t File: VCFJCGJFBIH.txt\n",
      "C:\\Users\\Zaryab\\Desktop\\Python Notebooks\\Python Modules\\unzip_instruction\\extracted_content\\Three\\VCFJCGJFBIH.txt\n",
      "\t File: VSXFSTABZDY.txt\n",
      "C:\\Users\\Zaryab\\Desktop\\Python Notebooks\\Python Modules\\unzip_instruction\\extracted_content\\Three\\VSXFSTABZDY.txt\n",
      "\t File: VVHFVZUNLOO.txt\n",
      "C:\\Users\\Zaryab\\Desktop\\Python Notebooks\\Python Modules\\unzip_instruction\\extracted_content\\Three\\VVHFVZUNLOO.txt\n",
      "\t File: VVKGWLRMHLU.txt\n",
      "C:\\Users\\Zaryab\\Desktop\\Python Notebooks\\Python Modules\\unzip_instruction\\extracted_content\\Three\\VVKGWLRMHLU.txt\n",
      "\t File: XAJMCPEWFNI.txt\n",
      "C:\\Users\\Zaryab\\Desktop\\Python Notebooks\\Python Modules\\unzip_instruction\\extracted_content\\Three\\XAJMCPEWFNI.txt\n",
      "\t File: XFHJOTNPEJG.txt\n",
      "C:\\Users\\Zaryab\\Desktop\\Python Notebooks\\Python Modules\\unzip_instruction\\extracted_content\\Three\\XFHJOTNPEJG.txt\n",
      "\t File: XHZPVUQTXIO.txt\n",
      "C:\\Users\\Zaryab\\Desktop\\Python Notebooks\\Python Modules\\unzip_instruction\\extracted_content\\Three\\XHZPVUQTXIO.txt\n",
      "\t File: XJCWENFFGHB.txt\n",
      "C:\\Users\\Zaryab\\Desktop\\Python Notebooks\\Python Modules\\unzip_instruction\\extracted_content\\Three\\XJCWENFFGHB.txt\n",
      "\t File: XVMPVSVYKFR.txt\n",
      "C:\\Users\\Zaryab\\Desktop\\Python Notebooks\\Python Modules\\unzip_instruction\\extracted_content\\Three\\XVMPVSVYKFR.txt\n",
      "\t File: YCESZHJDBXH.txt\n",
      "C:\\Users\\Zaryab\\Desktop\\Python Notebooks\\Python Modules\\unzip_instruction\\extracted_content\\Three\\YCESZHJDBXH.txt\n",
      "\t File: YDQFMWXOUMW.txt\n",
      "C:\\Users\\Zaryab\\Desktop\\Python Notebooks\\Python Modules\\unzip_instruction\\extracted_content\\Three\\YDQFMWXOUMW.txt\n",
      "\t File: YQBIUHSUEVW.txt\n",
      "C:\\Users\\Zaryab\\Desktop\\Python Notebooks\\Python Modules\\unzip_instruction\\extracted_content\\Three\\YQBIUHSUEVW.txt\n",
      "\t File: YQRNCMNFFHW.txt\n",
      "C:\\Users\\Zaryab\\Desktop\\Python Notebooks\\Python Modules\\unzip_instruction\\extracted_content\\Three\\YQRNCMNFFHW.txt\n",
      "\t File: YYIZGBTQHZP.txt\n",
      "C:\\Users\\Zaryab\\Desktop\\Python Notebooks\\Python Modules\\unzip_instruction\\extracted_content\\Three\\YYIZGBTQHZP.txt\n",
      "\t File: ZEZKKRBIZEB.txt\n",
      "C:\\Users\\Zaryab\\Desktop\\Python Notebooks\\Python Modules\\unzip_instruction\\extracted_content\\Three\\ZEZKKRBIZEB.txt\n",
      "\t File: ZKQJXAYKPVD.txt\n",
      "C:\\Users\\Zaryab\\Desktop\\Python Notebooks\\Python Modules\\unzip_instruction\\extracted_content\\Three\\ZKQJXAYKPVD.txt\n",
      "\t File: ZOWVXWPOGWP.txt\n",
      "C:\\Users\\Zaryab\\Desktop\\Python Notebooks\\Python Modules\\unzip_instruction\\extracted_content\\Three\\ZOWVXWPOGWP.txt\n",
      "\t File: ZXEZRQXZNPG.txt\n",
      "C:\\Users\\Zaryab\\Desktop\\Python Notebooks\\Python Modules\\unzip_instruction\\extracted_content\\Three\\ZXEZRQXZNPG.txt\n",
      "\t File: ZXIBJMPROKW.txt\n",
      "C:\\Users\\Zaryab\\Desktop\\Python Notebooks\\Python Modules\\unzip_instruction\\extracted_content\\Three\\ZXIBJMPROKW.txt\n",
      "\n",
      "\n",
      "////////////////////////////\n",
      "Currently looking at C:\\Users\\Zaryab\\Desktop\\Python Notebooks\\Python Modules\\unzip_instruction\\extracted_content\\Two\n",
      "\n",
      "\n",
      "The subfolders are: \n",
      "\n",
      "\n",
      "The files are: \n",
      "\t File: GKQBQRCTNNK.txt\n",
      "C:\\Users\\Zaryab\\Desktop\\Python Notebooks\\Python Modules\\unzip_instruction\\extracted_content\\Two\\GKQBQRCTNNK.txt\n",
      "\t File: GMMQQUBMJNR.txt\n",
      "C:\\Users\\Zaryab\\Desktop\\Python Notebooks\\Python Modules\\unzip_instruction\\extracted_content\\Two\\GMMQQUBMJNR.txt\n",
      "\t File: GQTJJORZBXY.txt\n",
      "C:\\Users\\Zaryab\\Desktop\\Python Notebooks\\Python Modules\\unzip_instruction\\extracted_content\\Two\\GQTJJORZBXY.txt\n",
      "\t File: GTOTCIWMDBY.txt\n",
      "C:\\Users\\Zaryab\\Desktop\\Python Notebooks\\Python Modules\\unzip_instruction\\extracted_content\\Two\\GTOTCIWMDBY.txt\n",
      "\t File: GXYSEPAFRTP.txt\n",
      "C:\\Users\\Zaryab\\Desktop\\Python Notebooks\\Python Modules\\unzip_instruction\\extracted_content\\Two\\GXYSEPAFRTP.txt\n",
      "\t File: HARDNJGDRBC.txt\n",
      "C:\\Users\\Zaryab\\Desktop\\Python Notebooks\\Python Modules\\unzip_instruction\\extracted_content\\Two\\HARDNJGDRBC.txt\n",
      "\t File: HEORIXOTANT.txt\n",
      "C:\\Users\\Zaryab\\Desktop\\Python Notebooks\\Python Modules\\unzip_instruction\\extracted_content\\Two\\HEORIXOTANT.txt\n",
      "\t File: HMUTDOVNYTV.txt\n",
      "C:\\Users\\Zaryab\\Desktop\\Python Notebooks\\Python Modules\\unzip_instruction\\extracted_content\\Two\\HMUTDOVNYTV.txt\n",
      "\t File: HMZXPBOPRAE.txt\n",
      "C:\\Users\\Zaryab\\Desktop\\Python Notebooks\\Python Modules\\unzip_instruction\\extracted_content\\Two\\HMZXPBOPRAE.txt\n",
      "\t File: HTOHSTYXTCO.txt\n",
      "C:\\Users\\Zaryab\\Desktop\\Python Notebooks\\Python Modules\\unzip_instruction\\extracted_content\\Two\\HTOHSTYXTCO.txt\n",
      "\t File: LCJZYDHBFRM.txt\n",
      "C:\\Users\\Zaryab\\Desktop\\Python Notebooks\\Python Modules\\unzip_instruction\\extracted_content\\Two\\LCJZYDHBFRM.txt\n",
      "\t File: LSQSTGPIGIY.txt\n",
      "C:\\Users\\Zaryab\\Desktop\\Python Notebooks\\Python Modules\\unzip_instruction\\extracted_content\\Two\\LSQSTGPIGIY.txt\n",
      "\t File: LULTNYAQEJG.txt\n",
      "C:\\Users\\Zaryab\\Desktop\\Python Notebooks\\Python Modules\\unzip_instruction\\extracted_content\\Two\\LULTNYAQEJG.txt\n",
      "\t File: LVMBINRBJXL.txt\n",
      "C:\\Users\\Zaryab\\Desktop\\Python Notebooks\\Python Modules\\unzip_instruction\\extracted_content\\Two\\LVMBINRBJXL.txt\n",
      "\t File: LYZEQCVYNEZ.txt\n",
      "C:\\Users\\Zaryab\\Desktop\\Python Notebooks\\Python Modules\\unzip_instruction\\extracted_content\\Two\\LYZEQCVYNEZ.txt\n",
      "\t File: OHZOUOSFJQC.txt\n",
      "C:\\Users\\Zaryab\\Desktop\\Python Notebooks\\Python Modules\\unzip_instruction\\extracted_content\\Two\\OHZOUOSFJQC.txt\n",
      "\t File: OIHMLGMWTHL.txt\n",
      "C:\\Users\\Zaryab\\Desktop\\Python Notebooks\\Python Modules\\unzip_instruction\\extracted_content\\Two\\OIHMLGMWTHL.txt\n",
      "\t File: OKWFOOYTXFU.txt\n",
      "C:\\Users\\Zaryab\\Desktop\\Python Notebooks\\Python Modules\\unzip_instruction\\extracted_content\\Two\\OKWFOOYTXFU.txt\n",
      "\t File: OMWIMVRCMYM.txt\n",
      "C:\\Users\\Zaryab\\Desktop\\Python Notebooks\\Python Modules\\unzip_instruction\\extracted_content\\Two\\OMWIMVRCMYM.txt\n",
      "\t File: OYMAGXAGWHJ.txt\n",
      "C:\\Users\\Zaryab\\Desktop\\Python Notebooks\\Python Modules\\unzip_instruction\\extracted_content\\Two\\OYMAGXAGWHJ.txt\n",
      "\t File: SIKFPPLCJDN.txt\n",
      "C:\\Users\\Zaryab\\Desktop\\Python Notebooks\\Python Modules\\unzip_instruction\\extracted_content\\Two\\SIKFPPLCJDN.txt\n",
      "\t File: SJMJLDGPBSJ.txt\n",
      "C:\\Users\\Zaryab\\Desktop\\Python Notebooks\\Python Modules\\unzip_instruction\\extracted_content\\Two\\SJMJLDGPBSJ.txt\n",
      "\t File: SOFUJYXTIMK.txt\n",
      "C:\\Users\\Zaryab\\Desktop\\Python Notebooks\\Python Modules\\unzip_instruction\\extracted_content\\Two\\SOFUJYXTIMK.txt\n",
      "\t File: SPDZYGDHEWO.txt\n",
      "C:\\Users\\Zaryab\\Desktop\\Python Notebooks\\Python Modules\\unzip_instruction\\extracted_content\\Two\\SPDZYGDHEWO.txt\n",
      "\t File: SWOFXREEHWA.txt\n",
      "C:\\Users\\Zaryab\\Desktop\\Python Notebooks\\Python Modules\\unzip_instruction\\extracted_content\\Two\\SWOFXREEHWA.txt\n",
      "\n",
      "\n",
      "////////////////////////////\n"
     ]
    }
   ],
   "source": [
    "for folder, subfolders, files in os.walk(file_path):\n",
    "    print(f\"Currently looking at {folder}\")\n",
    "    print('\\n')\n",
    "    print('The subfolders are: ')\n",
    "    for sub_fold in subfolders:\n",
    "        print(f\"Subfolder: {sub_fold}\")\n",
    "        \n",
    "    print('\\n')\n",
    "    print('The files are: ')\n",
    "    for f in files:\n",
    "        print(f\"\\t File: {f}\")\n",
    "        path = os.path.join(folder, f)\n",
    "        print(path)\n",
    "    print('\\n')\n",
    "    \n",
    "    print('////////////////////////////')"
   ]
  },
  {
   "cell_type": "code",
   "execution_count": 13,
   "metadata": {},
   "outputs": [],
   "source": [
    "for folder, subfolders, files in os.walk(file_path):\n",
    "    for f in files:\n",
    "        if f == 'Instructions.txt':\n",
    "            pass\n",
    "        else:\n",
    "            file_path = os.path.join(folder, f)\n",
    "            \n",
    "            file_open = open(file_path)\n",
    "            for line in file_open:\n",
    "                #print('\\n')\n",
    "                #print(line)\n",
    "                number = re.search(r'(\\d{3})-(\\d{3})-(\\d{4})', line) \n",
    "                print(number)\n",
    "            \n",
    "            #print(path)\n",
    "    "
   ]
  },
  {
   "cell_type": "code",
   "execution_count": null,
   "metadata": {},
   "outputs": [],
   "source": [
    "for folders, subfolders, files in os.walk(file_path):\n",
    "    "
   ]
  },
  {
   "cell_type": "code",
   "execution_count": null,
   "metadata": {},
   "outputs": [],
   "source": [
    "file = os.path.join(file_path,'Instruction.txt')"
   ]
  },
  {
   "cell_type": "code",
   "execution_count": null,
   "metadata": {},
   "outputs": [],
   "source": [
    "file"
   ]
  },
  {
   "cell_type": "code",
   "execution_count": null,
   "metadata": {},
   "outputs": [],
   "source": [
    "fh =open('C:\\\\Users\\\\Zaryab\\\\Desktop\\\\Python Notebooks\\\\Python Modules\\\\unzip_instruction\\\\extracted_content\\\\Instructions.txt')"
   ]
  },
  {
   "cell_type": "code",
   "execution_count": null,
   "metadata": {},
   "outputs": [],
   "source": [
    "fh = open(file)\n",
    "for line in fh:\n",
    "    print(line)"
   ]
  },
  {
   "cell_type": "code",
   "execution_count": null,
   "metadata": {},
   "outputs": [],
   "source": []
  },
  {
   "cell_type": "code",
   "execution_count": null,
   "metadata": {},
   "outputs": [],
   "source": []
  }
 ],
 "metadata": {
  "anaconda-cloud": {},
  "kernelspec": {
   "display_name": "Python 3 (ipykernel)",
   "language": "python",
   "name": "python3"
  },
  "language_info": {
   "codemirror_mode": {
    "name": "ipython",
    "version": 3
   },
   "file_extension": ".py",
   "mimetype": "text/x-python",
   "name": "python",
   "nbconvert_exporter": "python",
   "pygments_lexer": "ipython3",
   "version": "3.9.7"
  }
 },
 "nbformat": 4,
 "nbformat_minor": 2
}
