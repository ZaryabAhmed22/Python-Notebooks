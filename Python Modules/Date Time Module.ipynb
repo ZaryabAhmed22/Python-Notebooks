{
 "cells": [
  {
   "cell_type": "code",
   "execution_count": 1,
   "id": "35d4e70f",
   "metadata": {},
   "outputs": [],
   "source": [
    "import datetime"
   ]
  },
  {
   "cell_type": "code",
   "execution_count": 2,
   "id": "48a0f997",
   "metadata": {},
   "outputs": [],
   "source": [
    "my_time = datetime.time(2, 20)"
   ]
  },
  {
   "cell_type": "code",
   "execution_count": 4,
   "id": "99cc71d9",
   "metadata": {},
   "outputs": [
    {
     "data": {
      "text/plain": [
       "20"
      ]
     },
     "execution_count": 4,
     "metadata": {},
     "output_type": "execute_result"
    }
   ],
   "source": [
    "my_time.minute"
   ]
  },
  {
   "cell_type": "code",
   "execution_count": 5,
   "id": "1bd1425f",
   "metadata": {},
   "outputs": [
    {
     "name": "stdout",
     "output_type": "stream",
     "text": [
      "02:20:00\n"
     ]
    }
   ],
   "source": [
    "print(my_time)"
   ]
  },
  {
   "cell_type": "code",
   "execution_count": 6,
   "id": "3a76c82d",
   "metadata": {},
   "outputs": [
    {
     "data": {
      "text/plain": [
       "datetime.time"
      ]
     },
     "execution_count": 6,
     "metadata": {},
     "output_type": "execute_result"
    }
   ],
   "source": [
    "type(my_time)"
   ]
  },
  {
   "cell_type": "code",
   "execution_count": 7,
   "id": "e7508298",
   "metadata": {},
   "outputs": [],
   "source": [
    "today = datetime.date.today()"
   ]
  },
  {
   "cell_type": "code",
   "execution_count": 8,
   "id": "c5d72cbc",
   "metadata": {},
   "outputs": [
    {
     "name": "stdout",
     "output_type": "stream",
     "text": [
      "2022-05-21\n"
     ]
    }
   ],
   "source": [
    "print(today)"
   ]
  },
  {
   "cell_type": "code",
   "execution_count": 9,
   "id": "c1e7e04f",
   "metadata": {},
   "outputs": [
    {
     "data": {
      "text/plain": [
       "21"
      ]
     },
     "execution_count": 9,
     "metadata": {},
     "output_type": "execute_result"
    }
   ],
   "source": [
    "today.day\n"
   ]
  },
  {
   "cell_type": "code",
   "execution_count": 10,
   "id": "844c8a5c",
   "metadata": {},
   "outputs": [
    {
     "data": {
      "text/plain": [
       "2022"
      ]
     },
     "execution_count": 10,
     "metadata": {},
     "output_type": "execute_result"
    }
   ],
   "source": [
    "today.year"
   ]
  },
  {
   "cell_type": "code",
   "execution_count": 11,
   "id": "a86e7ec6",
   "metadata": {},
   "outputs": [
    {
     "data": {
      "text/plain": [
       "5"
      ]
     },
     "execution_count": 11,
     "metadata": {},
     "output_type": "execute_result"
    }
   ],
   "source": [
    "today.month"
   ]
  },
  {
   "cell_type": "code",
   "execution_count": 12,
   "id": "601a620e",
   "metadata": {},
   "outputs": [
    {
     "data": {
      "text/plain": [
       "'Sat May 21 00:00:00 2022'"
      ]
     },
     "execution_count": 12,
     "metadata": {},
     "output_type": "execute_result"
    }
   ],
   "source": [
    "# ctime format\n",
    "today.ctime()"
   ]
  },
  {
   "cell_type": "code",
   "execution_count": 13,
   "id": "0b7a4f36",
   "metadata": {},
   "outputs": [],
   "source": [
    "from datetime import datetime"
   ]
  },
  {
   "cell_type": "code",
   "execution_count": 14,
   "id": "c87bba94",
   "metadata": {},
   "outputs": [],
   "source": [
    "my_datetime = datetime(2021,10,3,14,20,1)"
   ]
  },
  {
   "cell_type": "code",
   "execution_count": 15,
   "id": "0f4008eb",
   "metadata": {},
   "outputs": [
    {
     "name": "stdout",
     "output_type": "stream",
     "text": [
      "2021-10-03 14:20:01\n"
     ]
    }
   ],
   "source": [
    "print(my_datetime)"
   ]
  },
  {
   "cell_type": "code",
   "execution_count": 16,
   "id": "6780b446",
   "metadata": {},
   "outputs": [],
   "source": [
    "# We can mutate the datetime using the replace() method\n",
    "my_datetime = my_datetime.replace(year = 2022)"
   ]
  },
  {
   "cell_type": "code",
   "execution_count": 17,
   "id": "98e6cc3d",
   "metadata": {},
   "outputs": [
    {
     "name": "stdout",
     "output_type": "stream",
     "text": [
      "2022-10-03 14:20:01\n"
     ]
    }
   ],
   "source": [
    "print(my_datetime)"
   ]
  },
  {
   "cell_type": "code",
   "execution_count": 18,
   "id": "2090254f",
   "metadata": {},
   "outputs": [],
   "source": [
    "# Simple arithmatic on datetime"
   ]
  },
  {
   "cell_type": "code",
   "execution_count": 19,
   "id": "98b21537",
   "metadata": {},
   "outputs": [],
   "source": [
    "from datetime import date"
   ]
  },
  {
   "cell_type": "code",
   "execution_count": 20,
   "id": "6e03492e",
   "metadata": {},
   "outputs": [],
   "source": [
    "date1 = date(2021, 11, 3)\n",
    "date2 = date(2020, 11, 3)"
   ]
  },
  {
   "cell_type": "code",
   "execution_count": 22,
   "id": "49bf761b",
   "metadata": {},
   "outputs": [],
   "source": [
    "result = date1 -date2"
   ]
  },
  {
   "cell_type": "code",
   "execution_count": 23,
   "id": "b79f7f3a",
   "metadata": {},
   "outputs": [
    {
     "data": {
      "text/plain": [
       "datetime.timedelta"
      ]
     },
     "execution_count": 23,
     "metadata": {},
     "output_type": "execute_result"
    }
   ],
   "source": [
    "type(result)"
   ]
  },
  {
   "cell_type": "code",
   "execution_count": 24,
   "id": "aacda663",
   "metadata": {},
   "outputs": [
    {
     "name": "stdout",
     "output_type": "stream",
     "text": [
      "365 days, 0:00:00\n"
     ]
    }
   ],
   "source": [
    "print(result)"
   ]
  },
  {
   "cell_type": "code",
   "execution_count": null,
   "id": "bda3653a",
   "metadata": {},
   "outputs": [],
   "source": [
    "datetime1 = datetime(2021, 11, 3, 22, 34, 45)\n",
    "datetime2 = "
   ]
  }
 ],
 "metadata": {
  "kernelspec": {
   "display_name": "Python 3 (ipykernel)",
   "language": "python",
   "name": "python3"
  },
  "language_info": {
   "codemirror_mode": {
    "name": "ipython",
    "version": 3
   },
   "file_extension": ".py",
   "mimetype": "text/x-python",
   "name": "python",
   "nbconvert_exporter": "python",
   "pygments_lexer": "ipython3",
   "version": "3.9.7"
  }
 },
 "nbformat": 4,
 "nbformat_minor": 5
}
