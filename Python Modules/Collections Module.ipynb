{
 "cells": [
  {
   "cell_type": "markdown",
   "id": "a6e22109",
   "metadata": {},
   "source": [
    "# Collections Class\n",
    "    The Python collection module is defined as a container that is used to store collections of data, for example - list, dict, set, and tuple, etc. It was introduced to improve the functionalities of the built-in collection containers. Python collection module was first introduced in its 2.4 release."
   ]
  },
  {
   "cell_type": "code",
   "execution_count": 4,
   "id": "605bc01d",
   "metadata": {},
   "outputs": [],
   "source": [
    "from collections import Counter"
   ]
  },
  {
   "cell_type": "code",
   "execution_count": 5,
   "id": "f9e22139",
   "metadata": {},
   "outputs": [],
   "source": [
    "my_list = [1,1,1,2,3,4,3,2,2,2,4,1]"
   ]
  },
  {
   "cell_type": "code",
   "execution_count": 6,
   "id": "1c5b7f0a",
   "metadata": {},
   "outputs": [
    {
     "data": {
      "text/plain": [
       "Counter({1: 4, 2: 4, 3: 2, 4: 2})"
      ]
     },
     "execution_count": 6,
     "metadata": {},
     "output_type": "execute_result"
    }
   ],
   "source": [
    "# To count the number of certain elements\n",
    "Counter(my_list)"
   ]
  },
  {
   "cell_type": "code",
   "execution_count": 7,
   "id": "7f71002d",
   "metadata": {},
   "outputs": [],
   "source": [
    "# Works with string lists also\n",
    "myList = ['a', 'a', 'c', 'b']"
   ]
  },
  {
   "cell_type": "code",
   "execution_count": 8,
   "id": "df17853c",
   "metadata": {},
   "outputs": [
    {
     "data": {
      "text/plain": [
       "Counter({'a': 2, 'c': 1, 'b': 1})"
      ]
     },
     "execution_count": 8,
     "metadata": {},
     "output_type": "execute_result"
    }
   ],
   "source": [
    "Counter(myList)"
   ]
  },
  {
   "cell_type": "code",
   "execution_count": 9,
   "id": "e7b5ad42",
   "metadata": {},
   "outputs": [
    {
     "data": {
      "text/plain": [
       "Counter({'d': 4, 'g': 5, 'h': 3})"
      ]
     },
     "execution_count": 9,
     "metadata": {},
     "output_type": "execute_result"
    }
   ],
   "source": [
    "# Works with strings also\n",
    "Counter('dgdghdggdghh')"
   ]
  },
  {
   "cell_type": "code",
   "execution_count": 10,
   "id": "8a1b8a90",
   "metadata": {},
   "outputs": [],
   "source": [
    "# Works with sentnces\n",
    "sentence = 'The Python collection module is defined as a container that is used to store collections of data, for example - list, dict, set, and tuple, etc. It was introduced to improve the functionalities of the built-in collection containers. Python collection module was first introduced in its 2.4 release.'"
   ]
  },
  {
   "cell_type": "code",
   "execution_count": 12,
   "id": "6a5441a3",
   "metadata": {},
   "outputs": [
    {
     "data": {
      "text/plain": [
       "Counter({'The': 1,\n",
       "         'Python': 2,\n",
       "         'collection': 3,\n",
       "         'module': 2,\n",
       "         'is': 2,\n",
       "         'defined': 1,\n",
       "         'as': 1,\n",
       "         'a': 1,\n",
       "         'container': 1,\n",
       "         'that': 1,\n",
       "         'used': 1,\n",
       "         'to': 2,\n",
       "         'store': 1,\n",
       "         'collections': 1,\n",
       "         'of': 2,\n",
       "         'data,': 1,\n",
       "         'for': 1,\n",
       "         'example': 1,\n",
       "         '-': 1,\n",
       "         'list,': 1,\n",
       "         'dict,': 1,\n",
       "         'set,': 1,\n",
       "         'and': 1,\n",
       "         'tuple,': 1,\n",
       "         'etc.': 1,\n",
       "         'It': 1,\n",
       "         'was': 2,\n",
       "         'introduced': 2,\n",
       "         'improve': 1,\n",
       "         'the': 2,\n",
       "         'functionalities': 1,\n",
       "         'built-in': 1,\n",
       "         'containers.': 1,\n",
       "         'first': 1,\n",
       "         'in': 1,\n",
       "         'its': 1,\n",
       "         '2.4': 1,\n",
       "         'release.': 1})"
      ]
     },
     "execution_count": 12,
     "metadata": {},
     "output_type": "execute_result"
    }
   ],
   "source": [
    "Counter(sentence.split())"
   ]
  },
  {
   "cell_type": "code",
   "execution_count": 15,
   "id": "180b4139",
   "metadata": {},
   "outputs": [
    {
     "name": "stdout",
     "output_type": "stream",
     "text": [
      "///////////////////\n"
     ]
    },
    {
     "data": {
      "text/plain": [
       "[('d', 8), ('g', 4)]"
      ]
     },
     "execution_count": 15,
     "metadata": {},
     "output_type": "execute_result"
    }
   ],
   "source": [
    "# Determining the most common or repeated letters\n",
    "letter = 'dgsdjkgdgdddjkvcjvnadgad'\n",
    "\n",
    "c = Counter(letter)\n",
    "\n",
    "#Returns a list of tupples with the precedence of most common to the least common\n",
    "c.most_common()\n",
    "\n",
    "print('///////////////////')\n",
    "c.most_common(2)"
   ]
  },
  {
   "cell_type": "code",
   "execution_count": 16,
   "id": "1ef818c6",
   "metadata": {},
   "outputs": [
    {
     "data": {
      "text/plain": [
       "Counter({'d': 8,\n",
       "         'g': 4,\n",
       "         's': 1,\n",
       "         'j': 3,\n",
       "         'k': 2,\n",
       "         'v': 2,\n",
       "         'c': 1,\n",
       "         'n': 1,\n",
       "         'a': 2})"
      ]
     },
     "execution_count": 16,
     "metadata": {},
     "output_type": "execute_result"
    }
   ],
   "source": [
    "c\n"
   ]
  },
  {
   "cell_type": "code",
   "execution_count": 17,
   "id": "a917475d",
   "metadata": {},
   "outputs": [
    {
     "data": {
      "text/plain": [
       "['d', 'g', 's', 'j', 'k', 'v', 'c', 'n', 'a']"
      ]
     },
     "execution_count": 17,
     "metadata": {},
     "output_type": "execute_result"
    }
   ],
   "source": [
    "# We can convert it into list of keys\n",
    "list(c)\n"
   ]
  },
  {
   "cell_type": "markdown",
   "id": "f0b263ba",
   "metadata": {},
   "source": [
    "# Defaultdict"
   ]
  },
  {
   "cell_type": "code",
   "execution_count": 18,
   "id": "912e86bf",
   "metadata": {},
   "outputs": [],
   "source": [
    "from collections import defaultdict "
   ]
  },
  {
   "cell_type": "code",
   "execution_count": 20,
   "id": "a3c17011",
   "metadata": {},
   "outputs": [],
   "source": [
    "d = {'a': 5, 'b': 6}"
   ]
  },
  {
   "cell_type": "code",
   "execution_count": 21,
   "id": "fd5accee",
   "metadata": {},
   "outputs": [
    {
     "data": {
      "text/plain": [
       "5"
      ]
     },
     "execution_count": 21,
     "metadata": {},
     "output_type": "execute_result"
    }
   ],
   "source": [
    "d['a']"
   ]
  },
  {
   "cell_type": "code",
   "execution_count": 22,
   "id": "05b4e7a0",
   "metadata": {},
   "outputs": [
    {
     "ename": "KeyError",
     "evalue": "'WRONG'",
     "output_type": "error",
     "traceback": [
      "\u001b[1;31m---------------------------------------------------------------------------\u001b[0m",
      "\u001b[1;31mKeyError\u001b[0m                                  Traceback (most recent call last)",
      "\u001b[1;32m~\\AppData\\Local\\Temp/ipykernel_21432/1483143541.py\u001b[0m in \u001b[0;36m<module>\u001b[1;34m\u001b[0m\n\u001b[1;32m----> 1\u001b[1;33m \u001b[0md\u001b[0m\u001b[1;33m[\u001b[0m\u001b[1;34m'WRONG'\u001b[0m\u001b[1;33m]\u001b[0m\u001b[1;33m\u001b[0m\u001b[1;33m\u001b[0m\u001b[0m\n\u001b[0m",
      "\u001b[1;31mKeyError\u001b[0m: 'WRONG'"
     ]
    }
   ],
   "source": [
    "d['WRONG']"
   ]
  },
  {
   "cell_type": "code",
   "execution_count": 23,
   "id": "7807c9cb",
   "metadata": {},
   "outputs": [],
   "source": [
    "d = defaultdict(lambda: 0)"
   ]
  },
  {
   "cell_type": "code",
   "execution_count": 24,
   "id": "7499092f",
   "metadata": {},
   "outputs": [
    {
     "data": {
      "text/plain": [
       "defaultdict(<function __main__.<lambda>()>, {})"
      ]
     },
     "execution_count": 24,
     "metadata": {},
     "output_type": "execute_result"
    }
   ],
   "source": [
    "d"
   ]
  },
  {
   "cell_type": "code",
   "execution_count": 25,
   "id": "8ce4e82c",
   "metadata": {},
   "outputs": [
    {
     "data": {
      "text/plain": [
       "0"
      ]
     },
     "execution_count": 25,
     "metadata": {},
     "output_type": "execute_result"
    }
   ],
   "source": [
    "d['a']"
   ]
  },
  {
   "cell_type": "code",
   "execution_count": 26,
   "id": "8c6c28c4",
   "metadata": {},
   "outputs": [],
   "source": [
    "d['correct'] = 100"
   ]
  },
  {
   "cell_type": "code",
   "execution_count": 27,
   "id": "7534d141",
   "metadata": {},
   "outputs": [
    {
     "data": {
      "text/plain": [
       "100"
      ]
     },
     "execution_count": 27,
     "metadata": {},
     "output_type": "execute_result"
    }
   ],
   "source": [
    "d['correct']"
   ]
  },
  {
   "cell_type": "code",
   "execution_count": 28,
   "id": "4723ad54",
   "metadata": {},
   "outputs": [
    {
     "data": {
      "text/plain": [
       "0"
      ]
     },
     "execution_count": 28,
     "metadata": {},
     "output_type": "execute_result"
    }
   ],
   "source": [
    "d['g']"
   ]
  },
  {
   "cell_type": "code",
   "execution_count": 29,
   "id": "504ed2b4",
   "metadata": {},
   "outputs": [
    {
     "data": {
      "text/plain": [
       "defaultdict(<function __main__.<lambda>()>, {'a': 0, 'correct': 100, 'g': 0})"
      ]
     },
     "execution_count": 29,
     "metadata": {},
     "output_type": "execute_result"
    }
   ],
   "source": [
    "d"
   ]
  },
  {
   "cell_type": "markdown",
   "id": "025adce4",
   "metadata": {},
   "source": [
    "# Named Tupple"
   ]
  },
  {
   "cell_type": "code",
   "execution_count": 30,
   "id": "2a112e6a",
   "metadata": {},
   "outputs": [],
   "source": [
    "my_tup = (10, 20, 30)"
   ]
  },
  {
   "cell_type": "code",
   "execution_count": 31,
   "id": "e9521f6c",
   "metadata": {},
   "outputs": [
    {
     "data": {
      "text/plain": [
       "10"
      ]
     },
     "execution_count": 31,
     "metadata": {},
     "output_type": "execute_result"
    }
   ],
   "source": [
    "my_tup[0]"
   ]
  },
  {
   "cell_type": "code",
   "execution_count": 32,
   "id": "d8046bab",
   "metadata": {},
   "outputs": [],
   "source": [
    "from collections import namedtuple"
   ]
  },
  {
   "cell_type": "code",
   "execution_count": 35,
   "id": "131a1b30",
   "metadata": {},
   "outputs": [],
   "source": [
    "#tuppleName = namedtuple(typeName, fieldName)\n",
    "Dog = namedtuple('Dog', ['age', 'breed', 'name'])"
   ]
  },
  {
   "cell_type": "code",
   "execution_count": 36,
   "id": "da0dec89",
   "metadata": {},
   "outputs": [],
   "source": [
    "sammy = Dog(age=5, breed='Husky', name='Sammy')"
   ]
  },
  {
   "cell_type": "code",
   "execution_count": 37,
   "id": "9e67d9cc",
   "metadata": {},
   "outputs": [
    {
     "data": {
      "text/plain": [
       "__main__.Dog"
      ]
     },
     "execution_count": 37,
     "metadata": {},
     "output_type": "execute_result"
    }
   ],
   "source": [
    "type(sammy)"
   ]
  },
  {
   "cell_type": "code",
   "execution_count": 38,
   "id": "a790826c",
   "metadata": {},
   "outputs": [
    {
     "data": {
      "text/plain": [
       "Dog(age=5, breed='Husky', name='Sammy')"
      ]
     },
     "execution_count": 38,
     "metadata": {},
     "output_type": "execute_result"
    }
   ],
   "source": [
    "sammy"
   ]
  },
  {
   "cell_type": "code",
   "execution_count": 39,
   "id": "6a67f7c1",
   "metadata": {},
   "outputs": [
    {
     "data": {
      "text/plain": [
       "'Sammy'"
      ]
     },
     "execution_count": 39,
     "metadata": {},
     "output_type": "execute_result"
    }
   ],
   "source": [
    "sammy.name"
   ]
  },
  {
   "cell_type": "code",
   "execution_count": 40,
   "id": "abd4e1f0",
   "metadata": {},
   "outputs": [
    {
     "data": {
      "text/plain": [
       "5"
      ]
     },
     "execution_count": 40,
     "metadata": {},
     "output_type": "execute_result"
    }
   ],
   "source": [
    "sammy[0]"
   ]
  },
  {
   "cell_type": "code",
   "execution_count": null,
   "id": "d3115be9",
   "metadata": {},
   "outputs": [],
   "source": []
  }
 ],
 "metadata": {
  "kernelspec": {
   "display_name": "Python 3 (ipykernel)",
   "language": "python",
   "name": "python3"
  },
  "language_info": {
   "codemirror_mode": {
    "name": "ipython",
    "version": 3
   },
   "file_extension": ".py",
   "mimetype": "text/x-python",
   "name": "python",
   "nbconvert_exporter": "python",
   "pygments_lexer": "ipython3",
   "version": "3.9.7"
  }
 },
 "nbformat": 4,
 "nbformat_minor": 5
}
