{
 "cells": [
  {
   "cell_type": "markdown",
   "id": "d697a903",
   "metadata": {},
   "source": [
    "# CARD CLASS\n"
   ]
  },
  {
   "cell_type": "markdown",
   "id": "7faa84c8",
   "metadata": {},
   "source": [
    "What should a card class must be able to do?\n",
    "1. Deterimine the card\n",
    "2. Suit, Rank, Value "
   ]
  },
  {
   "cell_type": "code",
   "execution_count": 15,
   "id": "52a26c92",
   "metadata": {},
   "outputs": [],
   "source": [
    "import random\n",
    "#Adding pr made ranks and suits tuple as we don't want to change it\n",
    "suits = ('Hearts', 'Diamonds', 'Spades', 'Clubs')\n",
    "ranks = ('Two', 'Three', 'Four', 'Five', 'Six', 'Seven', 'Eight', 'Nine', 'Ten', 'Jack', 'Queen', 'King', 'Ace')\n",
    "\n",
    "#Since the rank is a string, for the purpose of comparing, we will create a dictionary of values\n",
    "values = {'Two':2, 'Three':3, 'Four':4, 'Five':5, 'Six':6, 'Seven':7, 'Eight':8, \n",
    "            'Nine':9, 'Ten':10, 'Jack':11, 'Queen':12, 'King':13, 'Ace':14}"
   ]
  },
  {
   "cell_type": "code",
   "execution_count": 16,
   "id": "5000c730",
   "metadata": {},
   "outputs": [],
   "source": [
    "class Card:\n",
    "    def __init__(self, suit, rank):\n",
    "        self.suit = suit\n",
    "        self.rank = rank\n",
    "        self.value = values[rank]\n",
    "        \n",
    "    def __str__(self):\n",
    "        return self.rank + ' of ' + self.suit"
   ]
  },
  {
   "cell_type": "code",
   "execution_count": 17,
   "id": "1747aaa2",
   "metadata": {},
   "outputs": [],
   "source": [
    "two_hearts = Card('hearts', \"Two\")"
   ]
  },
  {
   "cell_type": "code",
   "execution_count": 18,
   "id": "5b3a1130",
   "metadata": {},
   "outputs": [
    {
     "data": {
      "text/plain": [
       "<__main__.Card at 0x2043f5e84f0>"
      ]
     },
     "execution_count": 18,
     "metadata": {},
     "output_type": "execute_result"
    }
   ],
   "source": [
    "two_hearts"
   ]
  },
  {
   "cell_type": "code",
   "execution_count": 19,
   "id": "b064dbc7",
   "metadata": {},
   "outputs": [
    {
     "name": "stdout",
     "output_type": "stream",
     "text": [
      "Two of hearts\n"
     ]
    }
   ],
   "source": [
    "print(two_hearts)"
   ]
  },
  {
   "cell_type": "code",
   "execution_count": 20,
   "id": "67fe8533",
   "metadata": {},
   "outputs": [
    {
     "data": {
      "text/plain": [
       "2"
      ]
     },
     "execution_count": 20,
     "metadata": {},
     "output_type": "execute_result"
    }
   ],
   "source": [
    "values[two_hearts.rank]"
   ]
  },
  {
   "cell_type": "markdown",
   "id": "314a9ef3",
   "metadata": {},
   "source": [
    "# Deck Class"
   ]
  },
  {
   "cell_type": "code",
   "execution_count": 28,
   "id": "63102d04",
   "metadata": {},
   "outputs": [
    {
     "name": "stdout",
     "output_type": "stream",
     "text": [
      "a: 1\n",
      "a: 2\n",
      "a: 3\n",
      "a: 4\n",
      "b: 1\n",
      "b: 2\n",
      "b: 3\n",
      "b: 4\n",
      "c: 1\n",
      "c: 2\n",
      "c: 3\n",
      "c: 4\n",
      "d: 1\n",
      "d: 2\n",
      "d: 3\n",
      "d: 4\n",
      "e: 1\n",
      "e: 2\n",
      "e: 3\n",
      "e: 4\n"
     ]
    }
   ],
   "source": [
    "list1 = ['a', 'b' , 'c', 'd', 'e']\n",
    "list2 = [1, 2, 3, 4]\n",
    "\n",
    "for let in list1:\n",
    "    for num in list2:\n",
    "        print(f'{let}: {num}')"
   ]
  },
  {
   "cell_type": "code",
   "execution_count": 73,
   "id": "7fe6b10f",
   "metadata": {},
   "outputs": [],
   "source": [
    "class Deck():\n",
    "    def __init__(self):\n",
    "        self.all_cards = []\n",
    "        \n",
    "        for suit in suits:\n",
    "            for rank in ranks:\n",
    "                #Create the card object\n",
    "                created_card = Card(suit, rank)\n",
    "                \n",
    "                #Add the created card in the deck\n",
    "                self.all_cards.append(created_card)\n",
    "    \n",
    "    #Shuffling the card\n",
    "    def shuffle_deck(self):\n",
    "        #The shuffle method doesn't return any new list, it mutates the orignal list\n",
    "        random.shuffle(self.all_cards)\n",
    "        \n",
    "    #Dealing one card\n",
    "    def deal_one(self):\n",
    "        return self.all_cards.pop()\n",
    "    \n",
    "    #Splitting in half\n",
    "    def split_half(self):\n",
    "        self.shuffle_deck()\n",
    "        deck1 = self.all_cards[:len(self.all_cards)//2]\n",
    "        deck2 = self.all_cards[(len(self.all_cards)//2):]\n",
    "        return (deck1, deck2)\n",
    "        "
   ]
  },
  {
   "cell_type": "code",
   "execution_count": 74,
   "id": "c37a9b71",
   "metadata": {},
   "outputs": [],
   "source": [
    "new_deck = Deck()"
   ]
  },
  {
   "cell_type": "code",
   "execution_count": 44,
   "id": "94e27770",
   "metadata": {},
   "outputs": [
    {
     "name": "stdout",
     "output_type": "stream",
     "text": [
      "Two of Hearts\n",
      "Three of Hearts\n",
      "Four of Hearts\n",
      "Five of Hearts\n",
      "Six of Hearts\n",
      "Seven of Hearts\n",
      "Eight of Hearts\n",
      "Nine of Hearts\n",
      "Ten of Hearts\n",
      "Jack of Hearts\n",
      "Queen of Hearts\n",
      "King of Hearts\n",
      "Ace of Hearts\n",
      "Two of Diamonds\n",
      "Three of Diamonds\n",
      "Four of Diamonds\n",
      "Five of Diamonds\n",
      "Six of Diamonds\n",
      "Seven of Diamonds\n",
      "Eight of Diamonds\n",
      "Nine of Diamonds\n",
      "Ten of Diamonds\n",
      "Jack of Diamonds\n",
      "Queen of Diamonds\n",
      "King of Diamonds\n",
      "Ace of Diamonds\n",
      "Two of Spades\n",
      "Three of Spades\n",
      "Four of Spades\n",
      "Five of Spades\n",
      "Six of Spades\n",
      "Seven of Spades\n",
      "Eight of Spades\n",
      "Nine of Spades\n",
      "Ten of Spades\n",
      "Jack of Spades\n",
      "Queen of Spades\n",
      "King of Spades\n",
      "Ace of Spades\n",
      "Two of Clubs\n",
      "Three of Clubs\n",
      "Four of Clubs\n",
      "Five of Clubs\n",
      "Six of Clubs\n",
      "Seven of Clubs\n",
      "Eight of Clubs\n",
      "Nine of Clubs\n",
      "Ten of Clubs\n",
      "Jack of Clubs\n",
      "Queen of Clubs\n",
      "King of Clubs\n",
      "Ace of Clubs\n"
     ]
    }
   ],
   "source": [
    "for card_object in new_deck.all_cards:\n",
    "    #each card_object in the deck's attribute all_cards is an instance of Card class\n",
    "    print(card_object)"
   ]
  },
  {
   "cell_type": "code",
   "execution_count": 45,
   "id": "b59e5b2d",
   "metadata": {},
   "outputs": [],
   "source": [
    "new_deck.shuffle_deck()"
   ]
  },
  {
   "cell_type": "code",
   "execution_count": 46,
   "id": "f325a41c",
   "metadata": {},
   "outputs": [
    {
     "name": "stdout",
     "output_type": "stream",
     "text": [
      "Nine of Diamonds\n",
      "Three of Spades\n",
      "Six of Diamonds\n",
      "Jack of Hearts\n",
      "Seven of Clubs\n",
      "King of Diamonds\n",
      "Three of Clubs\n",
      "Five of Clubs\n",
      "Ace of Spades\n",
      "Ace of Clubs\n",
      "Six of Hearts\n",
      "Eight of Diamonds\n",
      "Nine of Clubs\n",
      "King of Hearts\n",
      "Two of Diamonds\n",
      "Queen of Clubs\n",
      "Two of Clubs\n",
      "Three of Hearts\n",
      "Eight of Hearts\n",
      "Queen of Diamonds\n",
      "Ten of Spades\n",
      "Five of Hearts\n",
      "Eight of Clubs\n",
      "Four of Hearts\n",
      "Nine of Spades\n",
      "Nine of Hearts\n",
      "Four of Clubs\n",
      "King of Spades\n",
      "Jack of Clubs\n",
      "Queen of Spades\n",
      "Seven of Hearts\n",
      "Ten of Clubs\n",
      "Three of Diamonds\n",
      "Six of Clubs\n",
      "Ten of Diamonds\n",
      "Two of Spades\n",
      "Five of Diamonds\n",
      "King of Clubs\n",
      "Ten of Hearts\n",
      "Jack of Spades\n",
      "Ace of Diamonds\n",
      "Seven of Diamonds\n",
      "Eight of Spades\n",
      "Four of Spades\n",
      "Jack of Diamonds\n",
      "Five of Spades\n",
      "Queen of Hearts\n",
      "Ace of Hearts\n",
      "Six of Spades\n",
      "Seven of Spades\n",
      "Two of Hearts\n",
      "Four of Diamonds\n"
     ]
    }
   ],
   "source": [
    "for card_object in new_deck.all_cards:\n",
    "    #each card_object in the deck's attribute all_cards is an instance of Card class\n",
    "    print(card_object)"
   ]
  },
  {
   "cell_type": "code",
   "execution_count": 47,
   "id": "d15de165",
   "metadata": {},
   "outputs": [],
   "source": [
    "my_card = new_deck.deal_one()"
   ]
  },
  {
   "cell_type": "code",
   "execution_count": 48,
   "id": "e2d0dd39",
   "metadata": {},
   "outputs": [
    {
     "name": "stdout",
     "output_type": "stream",
     "text": [
      "Four of Diamonds\n"
     ]
    }
   ],
   "source": [
    "print(my_card)"
   ]
  },
  {
   "cell_type": "code",
   "execution_count": 50,
   "id": "b9e6d699",
   "metadata": {},
   "outputs": [
    {
     "data": {
      "text/plain": [
       "51"
      ]
     },
     "execution_count": 50,
     "metadata": {},
     "output_type": "execute_result"
    }
   ],
   "source": [
    "len(new_deck.all_cards)"
   ]
  },
  {
   "cell_type": "code",
   "execution_count": 63,
   "id": "a6295f77",
   "metadata": {},
   "outputs": [],
   "source": [
    "deck1, deck2 = new_deck.split_half()"
   ]
  },
  {
   "cell_type": "code",
   "execution_count": 67,
   "id": "54f65178",
   "metadata": {},
   "outputs": [
    {
     "name": "stdout",
     "output_type": "stream",
     "text": [
      "Deck 1 has 26 cards\n",
      "King of Spades\n",
      "Ace of Diamonds\n",
      "Eight of Hearts\n",
      "Seven of Diamonds\n",
      "Jack of Spades\n",
      "Ten of Clubs\n",
      "Queen of Spades\n",
      "Jack of Clubs\n",
      "Seven of Spades\n",
      "Ten of Hearts\n",
      "Queen of Clubs\n",
      "Nine of Hearts\n",
      "Queen of Hearts\n",
      "Five of Spades\n",
      "Two of Diamonds\n",
      "Two of Hearts\n",
      "Eight of Clubs\n",
      "Seven of Hearts\n",
      "Ace of Spades\n",
      "Six of Spades\n",
      "Two of Spades\n",
      "King of Clubs\n",
      "Three of Spades\n",
      "Seven of Clubs\n",
      "Jack of Diamonds\n",
      "Three of Hearts\n"
     ]
    }
   ],
   "source": [
    "print(f'Deck 1 has {len(deck1)} cards')\n",
    "for card in deck1:\n",
    "    print(card)"
   ]
  },
  {
   "cell_type": "markdown",
   "id": "de1f8116",
   "metadata": {},
   "source": [
    "# Player Class"
   ]
  },
  {
   "cell_type": "code",
   "execution_count": 93,
   "id": "6e411a58",
   "metadata": {},
   "outputs": [],
   "source": [
    "class Player:\n",
    "    \n",
    "    def __init__(self, name):\n",
    "        self.name = name\n",
    "        self.all_cards = []\n",
    "        \n",
    "    def remove_one(self):\n",
    "        return self.all_cards.pop(0)\n",
    "    \n",
    "    def add_card(self, new_cards):\n",
    "        if type(new_cards) == type([]):\n",
    "            return self.all_cards.extend(new_cards)\n",
    "        else:\n",
    "            return self.all_cards.append(new_cards)\n",
    "        \n",
    "    \n",
    "    def __str__(self):\n",
    "        return f'Player {self.name} has {len(self.all_cards)}'"
   ]
  },
  {
   "cell_type": "code",
   "execution_count": 94,
   "id": "25e59d97",
   "metadata": {},
   "outputs": [],
   "source": [
    "new_player = Player(\"Jose\")"
   ]
  },
  {
   "cell_type": "code",
   "execution_count": 95,
   "id": "3cb85d62",
   "metadata": {},
   "outputs": [
    {
     "name": "stdout",
     "output_type": "stream",
     "text": [
      "Player Jose has 0\n"
     ]
    }
   ],
   "source": [
    "print(new_player)"
   ]
  },
  {
   "cell_type": "code",
   "execution_count": 96,
   "id": "93cba486",
   "metadata": {},
   "outputs": [
    {
     "name": "stdout",
     "output_type": "stream",
     "text": [
      "Four of Diamonds\n"
     ]
    }
   ],
   "source": [
    "print(my_card)"
   ]
  },
  {
   "cell_type": "code",
   "execution_count": 97,
   "id": "de63e4c3",
   "metadata": {},
   "outputs": [],
   "source": [
    "new_player.add_card(my_card)"
   ]
  },
  {
   "cell_type": "code",
   "execution_count": 98,
   "id": "e295e9ad",
   "metadata": {},
   "outputs": [
    {
     "name": "stdout",
     "output_type": "stream",
     "text": [
      "Player Jose has 1\n"
     ]
    }
   ],
   "source": [
    "print(new_player)"
   ]
  },
  {
   "cell_type": "code",
   "execution_count": 99,
   "id": "66642edc",
   "metadata": {},
   "outputs": [
    {
     "name": "stdout",
     "output_type": "stream",
     "text": [
      "Four of Diamonds\n"
     ]
    }
   ],
   "source": [
    "print(new_player.all_cards[0])"
   ]
  },
  {
   "cell_type": "code",
   "execution_count": null,
   "id": "1345279b",
   "metadata": {},
   "outputs": [],
   "source": []
  }
 ],
 "metadata": {
  "kernelspec": {
   "display_name": "Python 3 (ipykernel)",
   "language": "python",
   "name": "python3"
  },
  "language_info": {
   "codemirror_mode": {
    "name": "ipython",
    "version": 3
   },
   "file_extension": ".py",
   "mimetype": "text/x-python",
   "name": "python",
   "nbconvert_exporter": "python",
   "pygments_lexer": "ipython3",
   "version": "3.9.7"
  }
 },
 "nbformat": 4,
 "nbformat_minor": 5
}
