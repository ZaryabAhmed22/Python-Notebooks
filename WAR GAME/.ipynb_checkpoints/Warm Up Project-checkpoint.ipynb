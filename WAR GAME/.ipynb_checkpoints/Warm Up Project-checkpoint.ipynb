{
 "cells": [
  {
   "cell_type": "markdown",
   "id": "57bf47b7",
   "metadata": {},
   "source": [
    "# CARD CLASS\n"
   ]
  },
  {
   "cell_type": "markdown",
   "id": "fe703e61",
   "metadata": {},
   "source": [
    "What should a card class must be able to do?\n",
    "1. Deterimine the card\n",
    "2. Suit, Rank, Value "
   ]
  },
  {
   "cell_type": "code",
   "execution_count": 15,
   "id": "297f374a",
   "metadata": {},
   "outputs": [],
   "source": [
    "import random\n",
    "#Adding pr made ranks and suits tuple as we don't want to change it\n",
    "suits = ('Hearts', 'Diamonds', 'Spades', 'Clubs')\n",
    "ranks = ('Two', 'Three', 'Four', 'Five', 'Six', 'Seven', 'Eight', 'Nine', 'Ten', 'Jack', 'Queen', 'King', 'Ace')\n",
    "\n",
    "#Since the rank is a string, for the purpose of comparing, we will create a dictionary of values\n",
    "values = {'Two':2, 'Three':3, 'Four':4, 'Five':5, 'Six':6, 'Seven':7, 'Eight':8, \n",
    "            'Nine':9, 'Ten':10, 'Jack':11, 'Queen':12, 'King':13, 'Ace':14}"
   ]
  },
  {
   "cell_type": "code",
   "execution_count": 16,
   "id": "b8473f48",
   "metadata": {},
   "outputs": [],
   "source": [
    "class Card:\n",
    "    def __init__(self, suit, rank):\n",
    "        self.suit = suit\n",
    "        self.rank = rank\n",
    "        self.value = values[rank]\n",
    "        \n",
    "    def __str__(self):\n",
    "        return self.rank + ' of ' + self.suit"
   ]
  },
  {
   "cell_type": "code",
   "execution_count": 17,
   "id": "dbc27ff4",
   "metadata": {},
   "outputs": [],
   "source": [
    "two_hearts = Card('hearts', \"Two\")"
   ]
  },
  {
   "cell_type": "code",
   "execution_count": 18,
   "id": "d9e965fa",
   "metadata": {},
   "outputs": [
    {
     "data": {
      "text/plain": [
       "<__main__.Card at 0x2043f5e84f0>"
      ]
     },
     "execution_count": 18,
     "metadata": {},
     "output_type": "execute_result"
    }
   ],
   "source": [
    "two_hearts"
   ]
  },
  {
   "cell_type": "code",
   "execution_count": 19,
   "id": "5899945d",
   "metadata": {},
   "outputs": [
    {
     "name": "stdout",
     "output_type": "stream",
     "text": [
      "Two of hearts\n"
     ]
    }
   ],
   "source": [
    "print(two_hearts)"
   ]
  },
  {
   "cell_type": "code",
   "execution_count": 20,
   "id": "ace5a73e",
   "metadata": {},
   "outputs": [
    {
     "data": {
      "text/plain": [
       "2"
      ]
     },
     "execution_count": 20,
     "metadata": {},
     "output_type": "execute_result"
    }
   ],
   "source": [
    "values[two_hearts.rank]"
   ]
  },
  {
   "cell_type": "code",
   "execution_count": null,
   "id": "2b406e20",
   "metadata": {},
   "outputs": [],
   "source": []
  }
 ],
 "metadata": {
  "kernelspec": {
   "display_name": "Python 3 (ipykernel)",
   "language": "python",
   "name": "python3"
  },
  "language_info": {
   "codemirror_mode": {
    "name": "ipython",
    "version": 3
   },
   "file_extension": ".py",
   "mimetype": "text/x-python",
   "name": "python",
   "nbconvert_exporter": "python",
   "pygments_lexer": "ipython3",
   "version": "3.9.7"
  }
 },
 "nbformat": 4,
 "nbformat_minor": 5
}
