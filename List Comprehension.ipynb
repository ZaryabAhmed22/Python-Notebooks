{
 "cells": [
  {
   "cell_type": "code",
   "execution_count": 2,
   "id": "e09b97a8",
   "metadata": {},
   "outputs": [],
   "source": [
    "my_string = 'hello'\n",
    "\n",
    "my_list = []\n",
    "\n",
    "for letter in my_string:\n",
    "    my_list.append(letter)"
   ]
  },
  {
   "cell_type": "code",
   "execution_count": 3,
   "id": "aa0a0463",
   "metadata": {},
   "outputs": [
    {
     "data": {
      "text/plain": [
       "['h', 'e', 'l', 'l', 'o']"
      ]
     },
     "execution_count": 3,
     "metadata": {},
     "output_type": "execute_result"
    }
   ],
   "source": [
    "my_list "
   ]
  },
  {
   "cell_type": "code",
   "execution_count": 8,
   "id": "4e39036a",
   "metadata": {},
   "outputs": [],
   "source": [
    "my_string2 = 'Zaryab'\n",
    "\n",
    "#List comprehension\n",
    "my_list2 = [letter for letter in my_string2]\n"
   ]
  },
  {
   "cell_type": "code",
   "execution_count": 9,
   "id": "bb42af66",
   "metadata": {},
   "outputs": [
    {
     "data": {
      "text/plain": [
       "['Z', 'a', 'r', 'y', 'a', 'b']"
      ]
     },
     "execution_count": 9,
     "metadata": {},
     "output_type": "execute_result"
    }
   ],
   "source": [
    "my_list2"
   ]
  },
  {
   "cell_type": "code",
   "execution_count": 10,
   "id": "10cac193",
   "metadata": {},
   "outputs": [],
   "source": [
    "my_list = [element for element in 'words' ]"
   ]
  },
  {
   "cell_type": "code",
   "execution_count": 11,
   "id": "30661f77",
   "metadata": {},
   "outputs": [
    {
     "data": {
      "text/plain": [
       "['w', 'o', 'r', 'd', 's']"
      ]
     },
     "execution_count": 11,
     "metadata": {},
     "output_type": "execute_result"
    }
   ],
   "source": [
    "my_list"
   ]
  },
  {
   "cell_type": "code",
   "execution_count": 12,
   "id": "8cb7643c",
   "metadata": {},
   "outputs": [],
   "source": [
    "my_list = [num for num in range(0, 13, 3)]"
   ]
  },
  {
   "cell_type": "code",
   "execution_count": 13,
   "id": "9cbffdc1",
   "metadata": {},
   "outputs": [
    {
     "data": {
      "text/plain": [
       "[0, 3, 6, 9, 12]"
      ]
     },
     "execution_count": 13,
     "metadata": {},
     "output_type": "execute_result"
    }
   ],
   "source": [
    "my_list"
   ]
  },
  {
   "cell_type": "code",
   "execution_count": 14,
   "id": "49f64441",
   "metadata": {},
   "outputs": [],
   "source": [
    "my_list = [num**2 for num in range(0, 13, 3)]"
   ]
  },
  {
   "cell_type": "code",
   "execution_count": 15,
   "id": "01bd85c8",
   "metadata": {},
   "outputs": [
    {
     "data": {
      "text/plain": [
       "[0, 9, 36, 81, 144]"
      ]
     },
     "execution_count": 15,
     "metadata": {},
     "output_type": "execute_result"
    }
   ],
   "source": [
    "my_list"
   ]
  },
  {
   "cell_type": "markdown",
   "id": "a7e60dd0",
   "metadata": {},
   "source": [
    "we can also add if statements"
   ]
  },
  {
   "cell_type": "code",
   "execution_count": 17,
   "id": "64d10d63",
   "metadata": {},
   "outputs": [],
   "source": [
    "my_list = [num**2 for num in range(0, 13, 3) if num%2 == 0]"
   ]
  },
  {
   "cell_type": "code",
   "execution_count": 18,
   "id": "a356bda5",
   "metadata": {},
   "outputs": [
    {
     "data": {
      "text/plain": [
       "[0, 36, 144]"
      ]
     },
     "execution_count": 18,
     "metadata": {},
     "output_type": "execute_result"
    }
   ],
   "source": [
    "my_list"
   ]
  },
  {
   "cell_type": "code",
   "execution_count": 19,
   "id": "b088da9e",
   "metadata": {},
   "outputs": [],
   "source": [
    "celcius = [10,30,40,55.5]\n",
    "\n",
    "farenhiet = [((9/5)*temp + 32) for temp in celcius]"
   ]
  },
  {
   "cell_type": "code",
   "execution_count": 20,
   "id": "9677c297",
   "metadata": {},
   "outputs": [
    {
     "data": {
      "text/plain": [
       "[50.0, 86.0, 104.0, 131.9]"
      ]
     },
     "execution_count": 20,
     "metadata": {},
     "output_type": "execute_result"
    }
   ],
   "source": [
    "farenhiet"
   ]
  },
  {
   "cell_type": "code",
   "execution_count": 21,
   "id": "75249712",
   "metadata": {},
   "outputs": [
    {
     "name": "stdout",
     "output_type": "stream",
     "text": [
      "[2, 60, 2000, 4, 120, 4000, 5, 150, 5000]\n"
     ]
    }
   ],
   "source": [
    "my_list = []\n",
    "\n",
    "for x in [2,4,5]:\n",
    "    for y in [1, 30, 1000]:\n",
    "        my_list.append(x*y)\n",
    "print(my_list)"
   ]
  },
  {
   "cell_type": "markdown",
   "id": "dd4569a5",
   "metadata": {},
   "source": [
    "The above nested for loop can be done by list comprehension"
   ]
  },
  {
   "cell_type": "code",
   "execution_count": 22,
   "id": "60089825",
   "metadata": {},
   "outputs": [],
   "source": [
    "my_list = [x*y for x in [2,4,6] for y in [1, 10, 100]]"
   ]
  },
  {
   "cell_type": "code",
   "execution_count": 24,
   "id": "746123f6",
   "metadata": {},
   "outputs": [
    {
     "data": {
      "text/plain": [
       "[2, 60, 2000, 4, 120, 4000, 5, 150, 5000]"
      ]
     },
     "execution_count": 24,
     "metadata": {},
     "output_type": "execute_result"
    }
   ],
   "source": [
    "my_list"
   ]
  },
  {
   "cell_type": "code",
   "execution_count": null,
   "id": "d8901a44",
   "metadata": {},
   "outputs": [],
   "source": []
  }
 ],
 "metadata": {
  "kernelspec": {
   "display_name": "Python 3 (ipykernel)",
   "language": "python",
   "name": "python3"
  },
  "language_info": {
   "codemirror_mode": {
    "name": "ipython",
    "version": 3
   },
   "file_extension": ".py",
   "mimetype": "text/x-python",
   "name": "python",
   "nbconvert_exporter": "python",
   "pygments_lexer": "ipython3",
   "version": "3.9.7"
  }
 },
 "nbformat": 4,
 "nbformat_minor": 5
}
