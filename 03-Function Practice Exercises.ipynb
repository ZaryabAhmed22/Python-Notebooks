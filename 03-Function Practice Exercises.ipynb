{
 "cells": [
  {
   "cell_type": "markdown",
   "metadata": {},
   "source": [
    "___\n",
    "\n",
    "<a href='https://www.udemy.com/user/joseportilla/'><img src='../Pierian_Data_Logo.png'/></a>\n",
    "___\n",
    "<center><em>Content Copyright by Pierian Data</em></center>"
   ]
  },
  {
   "cell_type": "markdown",
   "metadata": {},
   "source": [
    "# Function Practice Exercises\n",
    "\n",
    "Problems are arranged in increasing difficulty:\n",
    "* Warmup - these can be solved using basic comparisons and methods\n",
    "* Level 1 - these may involve if/then conditional statements and simple methods\n",
    "* Level 2 - these may require iterating over sequences, usually with some kind of loop\n",
    "* Challenging - these will take some creativity to solve"
   ]
  },
  {
   "cell_type": "markdown",
   "metadata": {},
   "source": [
    "## WARMUP SECTION:"
   ]
  },
  {
   "cell_type": "markdown",
   "metadata": {},
   "source": [
    "#### LESSER OF TWO EVENS: Write a function that returns the lesser of two given numbers *if* both numbers are even, but returns the greater if one or both numbers are odd\n",
    "    lesser_of_two_evens(2,4) --> 2\n",
    "    lesser_of_two_evens(2,5) --> 5"
   ]
  },
  {
   "cell_type": "code",
   "execution_count": 1,
   "metadata": {},
   "outputs": [],
   "source": [
    "def lesser_of_two_evens(a,b):\n",
    "    if a%2==0 and b%2==0:\n",
    "        if a<b:\n",
    "            return a\n",
    "        else: \n",
    "            return b\n",
    "    else:\n",
    "        if a<b:\n",
    "            return b\n",
    "        else:\n",
    "            return a"
   ]
  },
  {
   "cell_type": "code",
   "execution_count": 2,
   "metadata": {},
   "outputs": [
    {
     "data": {
      "text/plain": [
       "2"
      ]
     },
     "execution_count": 2,
     "metadata": {},
     "output_type": "execute_result"
    }
   ],
   "source": [
    "# Check\n",
    "lesser_of_two_evens(2,4)"
   ]
  },
  {
   "cell_type": "code",
   "execution_count": 3,
   "metadata": {},
   "outputs": [
    {
     "data": {
      "text/plain": [
       "5"
      ]
     },
     "execution_count": 3,
     "metadata": {},
     "output_type": "execute_result"
    }
   ],
   "source": [
    "# Check\n",
    "lesser_of_two_evens(2,5)"
   ]
  },
  {
   "cell_type": "markdown",
   "metadata": {},
   "source": [
    "#### ANIMAL CRACKERS: Write a function takes a two-word string and returns True if both words begin with same letter\n",
    "    animal_crackers('Levelheaded Llama') --> True\n",
    "    animal_crackers('Crazy Kangaroo') --> False"
   ]
  },
  {
   "cell_type": "code",
   "execution_count": 6,
   "metadata": {},
   "outputs": [],
   "source": [
    "def animal_crackers(text):\n",
    "    words = text.split(' ')\n",
    "    if words[0][0] == words[1][0]:\n",
    "        return True\n",
    "    else:\n",
    "        return False"
   ]
  },
  {
   "cell_type": "code",
   "execution_count": 7,
   "metadata": {},
   "outputs": [
    {
     "data": {
      "text/plain": [
       "True"
      ]
     },
     "execution_count": 7,
     "metadata": {},
     "output_type": "execute_result"
    }
   ],
   "source": [
    "# Check\n",
    "animal_crackers('Levelheaded Llama')"
   ]
  },
  {
   "cell_type": "code",
   "execution_count": 8,
   "metadata": {},
   "outputs": [
    {
     "data": {
      "text/plain": [
       "False"
      ]
     },
     "execution_count": 8,
     "metadata": {},
     "output_type": "execute_result"
    }
   ],
   "source": [
    "# Check\n",
    "animal_crackers('Crazy Kangaroo')"
   ]
  },
  {
   "cell_type": "markdown",
   "metadata": {},
   "source": [
    "#### MAKES TWENTY: Given two integers, return True if the sum of the integers is 20 *or* if one of the integers is 20. If not, return False\n",
    "\n",
    "    makes_twenty(20,10) --> True\n",
    "    makes_twenty(12,8) --> True\n",
    "    makes_twenty(2,3) --> False"
   ]
  },
  {
   "cell_type": "code",
   "execution_count": 14,
   "metadata": {},
   "outputs": [],
   "source": [
    "def makes_twenty(n1,n2):\n",
    "    if sum((n1,n2)) == 20 or n1 == 20 or n2 == 20:\n",
    "        return True\n",
    "    else:\n",
    "        return False"
   ]
  },
  {
   "cell_type": "code",
   "execution_count": 15,
   "metadata": {},
   "outputs": [
    {
     "data": {
      "text/plain": [
       "True"
      ]
     },
     "execution_count": 15,
     "metadata": {},
     "output_type": "execute_result"
    }
   ],
   "source": [
    "# Check\n",
    "makes_twenty(20,10)"
   ]
  },
  {
   "cell_type": "code",
   "execution_count": 16,
   "metadata": {},
   "outputs": [
    {
     "data": {
      "text/plain": [
       "False"
      ]
     },
     "execution_count": 16,
     "metadata": {},
     "output_type": "execute_result"
    }
   ],
   "source": [
    "# Check\n",
    "makes_twenty(2,3)"
   ]
  },
  {
   "cell_type": "markdown",
   "metadata": {},
   "source": [
    "# LEVEL 1 PROBLEMS"
   ]
  },
  {
   "cell_type": "markdown",
   "metadata": {},
   "source": [
    "#### OLD MACDONALD: Write a function that capitalizes the first and fourth letters of a name\n",
    "     \n",
    "    old_macdonald('macdonald') --> MacDonald\n",
    "    \n",
    "Note: `'macdonald'.capitalize()` returns `'Macdonald'`"
   ]
  },
  {
   "cell_type": "code",
   "execution_count": 27,
   "metadata": {},
   "outputs": [],
   "source": [
    "def old_macdonald(name):\n",
    "    output = []\n",
    "    for i in range(len(name)):\n",
    "        if i == 0 or i == 3:\n",
    "            output.append(name[i].upper())\n",
    "        else:\n",
    "            output.append(name[i].lower())\n",
    "    return ''.join(output)\n",
    "            \n",
    "        "
   ]
  },
  {
   "cell_type": "code",
   "execution_count": 28,
   "metadata": {},
   "outputs": [
    {
     "data": {
      "text/plain": [
       "'MacDonald'"
      ]
     },
     "execution_count": 28,
     "metadata": {},
     "output_type": "execute_result"
    }
   ],
   "source": [
    "# Check\n",
    "old_macdonald('macdonald')"
   ]
  },
  {
   "cell_type": "markdown",
   "metadata": {},
   "source": [
    "#### MASTER YODA: Given a sentence, return a sentence with the words reversed\n",
    "\n",
    "    master_yoda('I am home') --> 'home am I'\n",
    "    master_yoda('We are ready') --> 'ready are We'\n",
    "    \n",
    "Note: The .join() method may be useful here. The .join() method allows you to join together strings in a list with some connector string. For example, some uses of the .join() method:\n",
    "\n",
    "    >>> \"--\".join(['a','b','c'])\n",
    "    >>> 'a--b--c'\n",
    "\n",
    "This means if you had a list of words you wanted to turn back into a sentence, you could just join them with a single space string:\n",
    "\n",
    "    >>> \" \".join(['Hello','world'])\n",
    "    >>> \"Hello world\""
   ]
  },
  {
   "cell_type": "code",
   "execution_count": 36,
   "metadata": {},
   "outputs": [],
   "source": [
    "def master_yoda(text):\n",
    "    text_list = text.split(' ')\n",
    "    text_list.reverse()\n",
    "    return \" \".join(text_list)\n",
    "    "
   ]
  },
  {
   "cell_type": "code",
   "execution_count": 37,
   "metadata": {},
   "outputs": [
    {
     "data": {
      "text/plain": [
       "'home am I'"
      ]
     },
     "execution_count": 37,
     "metadata": {},
     "output_type": "execute_result"
    }
   ],
   "source": [
    "# Check\n",
    "master_yoda('I am home')"
   ]
  },
  {
   "cell_type": "code",
   "execution_count": 38,
   "metadata": {},
   "outputs": [
    {
     "data": {
      "text/plain": [
       "'ready are We'"
      ]
     },
     "execution_count": 38,
     "metadata": {},
     "output_type": "execute_result"
    }
   ],
   "source": [
    "# Check\n",
    "master_yoda('We are ready')"
   ]
  },
  {
   "cell_type": "markdown",
   "metadata": {},
   "source": [
    "#### ALMOST THERE: Given an integer n, return True if n is within 10 of either 100 or 200\n",
    "\n",
    "    almost_there(90) --> True\n",
    "    almost_there(104) --> True\n",
    "    almost_there(150) --> False\n",
    "    almost_there(209) --> True\n",
    "    \n",
    "NOTE: `abs(num)` returns the absolute value of a number"
   ]
  },
  {
   "cell_type": "code",
   "execution_count": null,
   "metadata": {
    "collapsed": true
   },
   "outputs": [],
   "source": [
    "def almost_there(n):\n",
    "    pass"
   ]
  },
  {
   "cell_type": "code",
   "execution_count": null,
   "metadata": {
    "collapsed": true
   },
   "outputs": [],
   "source": [
    "# Check\n",
    "almost_there(104)"
   ]
  },
  {
   "cell_type": "code",
   "execution_count": null,
   "metadata": {
    "collapsed": true
   },
   "outputs": [],
   "source": [
    "# Check\n",
    "almost_there(150)"
   ]
  },
  {
   "cell_type": "code",
   "execution_count": null,
   "metadata": {
    "collapsed": true
   },
   "outputs": [],
   "source": [
    "# Check\n",
    "almost_there(209)"
   ]
  },
  {
   "cell_type": "markdown",
   "metadata": {},
   "source": [
    "# LEVEL 2 PROBLEMS"
   ]
  },
  {
   "cell_type": "markdown",
   "metadata": {},
   "source": [
    "#### FIND 33: \n",
    "\n",
    "Given a list of ints, return True if the array contains a 3 next to a 3 somewhere.\n",
    "\n",
    "    has_33([1, 3, 3]) → True\n",
    "    has_33([1, 3, 1, 3]) → False\n",
    "    has_33([3, 1, 3]) → False"
   ]
  },
  {
   "cell_type": "code",
   "execution_count": 129,
   "metadata": {},
   "outputs": [],
   "source": [
    "def has_33(nums):\n",
    "    for i in range(len(nums)):\n",
    "        if i+1 <= len(nums):\n",
    "            if nums[i] == 3 and nums[i+1] == 3:\n",
    "                return True\n",
    "            else:\n",
    "                pass\n",
    "    return False\n"
   ]
  },
  {
   "cell_type": "code",
   "execution_count": 130,
   "metadata": {},
   "outputs": [
    {
     "data": {
      "text/plain": [
       "True"
      ]
     },
     "execution_count": 130,
     "metadata": {},
     "output_type": "execute_result"
    }
   ],
   "source": [
    "# Check\n",
    "has_33([1, 3, 3])"
   ]
  },
  {
   "cell_type": "code",
   "execution_count": 131,
   "metadata": {},
   "outputs": [
    {
     "data": {
      "text/plain": [
       "True"
      ]
     },
     "execution_count": 131,
     "metadata": {},
     "output_type": "execute_result"
    }
   ],
   "source": [
    "# Check\n",
    "has_33([1, 3, 1, 1, 3, 3])"
   ]
  },
  {
   "cell_type": "code",
   "execution_count": 54,
   "metadata": {},
   "outputs": [
    {
     "data": {
      "text/plain": [
       "False"
      ]
     },
     "execution_count": 54,
     "metadata": {},
     "output_type": "execute_result"
    }
   ],
   "source": [
    "# Check\n",
    "has_33([1, 3, 1, 3])"
   ]
  },
  {
   "cell_type": "code",
   "execution_count": 55,
   "metadata": {},
   "outputs": [
    {
     "data": {
      "text/plain": [
       "False"
      ]
     },
     "execution_count": 55,
     "metadata": {},
     "output_type": "execute_result"
    }
   ],
   "source": [
    "# Check\n",
    "has_33([3, 1, 3])"
   ]
  },
  {
   "cell_type": "markdown",
   "metadata": {},
   "source": [
    "#### PAPER DOLL: Given a string, return a string where for every character in the original there are three characters\n",
    "    paper_doll('Hello') --> 'HHHeeellllllooo'\n",
    "    paper_doll('Mississippi') --> 'MMMiiissssssiiippppppiii'"
   ]
  },
  {
   "cell_type": "code",
   "execution_count": 59,
   "metadata": {},
   "outputs": [],
   "source": [
    "def paper_doll(text):\n",
    "    out = []\n",
    "    for i in range(len(text)):\n",
    "        out.append(text[i]*3)\n",
    "    return \"\".join(out)"
   ]
  },
  {
   "cell_type": "code",
   "execution_count": 60,
   "metadata": {},
   "outputs": [
    {
     "data": {
      "text/plain": [
       "'HHHeeellllllooo'"
      ]
     },
     "execution_count": 60,
     "metadata": {},
     "output_type": "execute_result"
    }
   ],
   "source": [
    "# Check\n",
    "paper_doll('Hello')"
   ]
  },
  {
   "cell_type": "code",
   "execution_count": 61,
   "metadata": {},
   "outputs": [
    {
     "data": {
      "text/plain": [
       "'MMMiiissssssiiissssssiiippppppiii'"
      ]
     },
     "execution_count": 61,
     "metadata": {},
     "output_type": "execute_result"
    }
   ],
   "source": [
    "# Check\n",
    "paper_doll('Mississippi')"
   ]
  },
  {
   "cell_type": "markdown",
   "metadata": {},
   "source": [
    "#### BLACKJACK: Given three integers between 1 and 11, if their sum is less than or equal to 21, return their sum. If their sum exceeds 21 *and* there's an eleven, reduce the total sum by 10. Finally, if the sum (even after adjustment) exceeds 21, return 'BUST'\n",
    "    blackjack(5,6,7) --> 18\n",
    "    blackjack(9,9,9) --> 'BUST'\n",
    "    blackjack(9,9,11) --> 19"
   ]
  },
  {
   "cell_type": "code",
   "execution_count": 67,
   "metadata": {},
   "outputs": [],
   "source": [
    "def blackjack(a,b,c):\n",
    "    if 11 in [a,b,c] and sum((a,b,c)) > 21:\n",
    "        return sum((a,b,c))-10\n",
    "    elif sum((a,b,c)) <= 21:\n",
    "        return sum((a,b,c))\n",
    "    else:\n",
    "        return 'BUST'"
   ]
  },
  {
   "cell_type": "code",
   "execution_count": 64,
   "metadata": {},
   "outputs": [
    {
     "data": {
      "text/plain": [
       "18"
      ]
     },
     "execution_count": 64,
     "metadata": {},
     "output_type": "execute_result"
    }
   ],
   "source": [
    "# Check\n",
    "blackjack(5,6,7)"
   ]
  },
  {
   "cell_type": "code",
   "execution_count": 65,
   "metadata": {},
   "outputs": [
    {
     "data": {
      "text/plain": [
       "'BUST'"
      ]
     },
     "execution_count": 65,
     "metadata": {},
     "output_type": "execute_result"
    }
   ],
   "source": [
    "# Check\n",
    "blackjack(9,9,9)"
   ]
  },
  {
   "cell_type": "code",
   "execution_count": 68,
   "metadata": {},
   "outputs": [
    {
     "data": {
      "text/plain": [
       "19"
      ]
     },
     "execution_count": 68,
     "metadata": {},
     "output_type": "execute_result"
    }
   ],
   "source": [
    "# Check\n",
    "blackjack(9,9,11)"
   ]
  },
  {
   "cell_type": "markdown",
   "metadata": {},
   "source": [
    "#### SUMMER OF '69: Return the sum of the numbers in the array, except ignore sections of numbers starting with a 6 and extending to the next 9 (every 6 will be followed by at least one 9). Return 0 for no numbers.\n",
    " \n",
    "    summer_69([1, 3, 5]) --> 9\n",
    "    summer_69([4, 5, 6, 7, 8, 9]) --> 9\n",
    "    summer_69([2, 1, 6, 9, 11]) --> 14"
   ]
  },
  {
   "cell_type": "code",
   "execution_count": 127,
   "metadata": {},
   "outputs": [],
   "source": [
    "def summer_69(arr):\n",
    "    count = 0\n",
    "    for i in range(len(arr)):\n",
    "        if 6 not in arr:\n",
    "            count = count + arr[i]\n",
    "        elif 6 in arr:\n",
    "            if i >= arr.index(6) and i <= arr.index(9):\n",
    "                count = count \n",
    "            else:\n",
    "                count = count + arr[i] \n",
    "    return count"
   ]
  },
  {
   "cell_type": "code",
   "execution_count": 158,
   "metadata": {},
   "outputs": [
    {
     "data": {
      "text/plain": [
       "9"
      ]
     },
     "execution_count": 158,
     "metadata": {},
     "output_type": "execute_result"
    }
   ],
   "source": [
    "# Check\n",
    "summer_69([1, 3, 5])"
   ]
  },
  {
   "cell_type": "code",
   "execution_count": 122,
   "metadata": {},
   "outputs": [
    {
     "data": {
      "text/plain": [
       "9"
      ]
     },
     "execution_count": 122,
     "metadata": {},
     "output_type": "execute_result"
    }
   ],
   "source": [
    "# Check\n",
    "summer_69([4, 5, 6, 7, 8, 9])"
   ]
  },
  {
   "cell_type": "code",
   "execution_count": 123,
   "metadata": {},
   "outputs": [
    {
     "data": {
      "text/plain": [
       "14"
      ]
     },
     "execution_count": 123,
     "metadata": {},
     "output_type": "execute_result"
    }
   ],
   "source": [
    "# Check\n",
    "summer_69([2, 1, 6, 9, 11])"
   ]
  },
  {
   "cell_type": "markdown",
   "metadata": {},
   "source": [
    "# CHALLENGING PROBLEMS"
   ]
  },
  {
   "cell_type": "markdown",
   "metadata": {},
   "source": [
    "#### SPY GAME: Write a function that takes in a list of integers and returns True if it contains 007 in order\n",
    "\n",
    "     spy_game([1,2,4,0,0,7,5]) --> True\n",
    "     spy_game([1,0,2,4,0,5,7]) --> True\n",
    "     spy_game([1,7,2,0,4,5,0]) --> False\n"
   ]
  },
  {
   "cell_type": "code",
   "execution_count": 168,
   "metadata": {},
   "outputs": [],
   "source": [
    "def spy_game_my(nums):\n",
    "    for i in range (len(nums)):\n",
    "        if i+2 <= len(nums):\n",
    "            if nums[i] == 0 and nums[i+1] == 0 and nums[i+2] == 7:\n",
    "                return True\n",
    "            else:\n",
    "                pass\n",
    "    return False\n",
    "\n",
    "#Course Method\n",
    "def spy_game(nums):\n",
    "    code = [0, 0, 7, 'x']\n",
    "    #if the num is zero code = [0, 7, 'x']\n",
    "    #if again the num is zero code = [0, 7, 'x']\n",
    "    #if the num is 7, only 'x' is left now code = ['x']\n",
    "    \n",
    "    for num in nums:\n",
    "       if num == code[0]:\n",
    "        code.pop(0)\n",
    "    \n",
    "    return len(code) == 1\n",
    "\n",
    "# One more correct Method\n",
    "def spy_game(nums):\n",
    "    code = []\n",
    "    \n",
    "    for num in nums:\n",
    "        if num == 0:\n",
    "            code.append(num)\n",
    "        elif num == 7 and len(code) == 2:\n",
    "            if code[0] == 0 and code[1] == 0:\n",
    "                code.append(7)\n",
    "        else:\n",
    "            pass\n",
    "    if len(code) == 3:\n",
    "        return True\n",
    "    else:\n",
    "        return False"
   ]
  },
  {
   "cell_type": "code",
   "execution_count": 160,
   "metadata": {},
   "outputs": [
    {
     "data": {
      "text/plain": [
       "True"
      ]
     },
     "execution_count": 160,
     "metadata": {},
     "output_type": "execute_result"
    }
   ],
   "source": [
    "# Check\n",
    "spy_game([1,2,4,0,0,7,5])"
   ]
  },
  {
   "cell_type": "code",
   "execution_count": 161,
   "metadata": {},
   "outputs": [
    {
     "data": {
      "text/plain": [
       "True"
      ]
     },
     "execution_count": 161,
     "metadata": {},
     "output_type": "execute_result"
    }
   ],
   "source": [
    "# Check\n",
    "spy_game([1,0,2,4,0,5,7])"
   ]
  },
  {
   "cell_type": "code",
   "execution_count": 169,
   "metadata": {},
   "outputs": [
    {
     "data": {
      "text/plain": [
       "False"
      ]
     },
     "execution_count": 169,
     "metadata": {},
     "output_type": "execute_result"
    }
   ],
   "source": [
    "# Check\n",
    "spy_game([1,7,2,0,4,5,0])"
   ]
  },
  {
   "cell_type": "markdown",
   "metadata": {},
   "source": [
    "#### COUNT PRIMES: Write a function that returns the *number* of prime numbers that exist up to and including a given number\n",
    "    count_primes(100) --> 25\n",
    "\n",
    "By convention, 0 and 1 are not prime."
   ]
  },
  {
   "cell_type": "code",
   "execution_count": 176,
   "metadata": {},
   "outputs": [],
   "source": [
    "def count_primes(num):\n",
    "    \n",
    "    #check for 0 and 1\n",
    "    if num < 2:\n",
    "        return 0\n",
    "    \n",
    "    ##############\n",
    "    # 2 or greater\n",
    "    ##############\n",
    "    \n",
    "    #Store our Prime Numbers\n",
    "    primes = [2]\n",
    "    \n",
    "    # Counter going up to the input num\n",
    "    counter = 3\n",
    "    \n",
    "    #counter is going through every num up to the input num\n",
    "    while counter <= num:\n",
    "        #check if the counter is prime\n",
    "        for y in range(3, counter, 2):\n",
    "            print(f'y: {y} and counter: {counter}')\n",
    "            if counter%y == 0:\n",
    "                counter += 2\n",
    "                break\n",
    "        else:\n",
    "            primes.append(counter)\n",
    "            counter += 2\n",
    "    print(primes)\n",
    "    print(len(primes))\n",
    "            \n",
    "    \n",
    "                "
   ]
  },
  {
   "cell_type": "code",
   "execution_count": 177,
   "metadata": {},
   "outputs": [
    {
     "name": "stdout",
     "output_type": "stream",
     "text": [
      "y: 3 and counter: 5\n",
      "y: 3 and counter: 7\n",
      "y: 5 and counter: 7\n",
      "y: 3 and counter: 9\n",
      "y: 3 and counter: 11\n",
      "y: 5 and counter: 11\n",
      "y: 7 and counter: 11\n",
      "y: 9 and counter: 11\n",
      "y: 3 and counter: 13\n",
      "y: 5 and counter: 13\n",
      "y: 7 and counter: 13\n",
      "y: 9 and counter: 13\n",
      "y: 11 and counter: 13\n",
      "y: 3 and counter: 15\n",
      "y: 3 and counter: 17\n",
      "y: 5 and counter: 17\n",
      "y: 7 and counter: 17\n",
      "y: 9 and counter: 17\n",
      "y: 11 and counter: 17\n",
      "y: 13 and counter: 17\n",
      "y: 15 and counter: 17\n",
      "y: 3 and counter: 19\n",
      "y: 5 and counter: 19\n",
      "y: 7 and counter: 19\n",
      "y: 9 and counter: 19\n",
      "y: 11 and counter: 19\n",
      "y: 13 and counter: 19\n",
      "y: 15 and counter: 19\n",
      "y: 17 and counter: 19\n",
      "y: 3 and counter: 21\n",
      "y: 3 and counter: 23\n",
      "y: 5 and counter: 23\n",
      "y: 7 and counter: 23\n",
      "y: 9 and counter: 23\n",
      "y: 11 and counter: 23\n",
      "y: 13 and counter: 23\n",
      "y: 15 and counter: 23\n",
      "y: 17 and counter: 23\n",
      "y: 19 and counter: 23\n",
      "y: 21 and counter: 23\n",
      "y: 3 and counter: 25\n",
      "y: 5 and counter: 25\n",
      "y: 3 and counter: 27\n",
      "y: 3 and counter: 29\n",
      "y: 5 and counter: 29\n",
      "y: 7 and counter: 29\n",
      "y: 9 and counter: 29\n",
      "y: 11 and counter: 29\n",
      "y: 13 and counter: 29\n",
      "y: 15 and counter: 29\n",
      "y: 17 and counter: 29\n",
      "y: 19 and counter: 29\n",
      "y: 21 and counter: 29\n",
      "y: 23 and counter: 29\n",
      "y: 25 and counter: 29\n",
      "y: 27 and counter: 29\n",
      "y: 3 and counter: 31\n",
      "y: 5 and counter: 31\n",
      "y: 7 and counter: 31\n",
      "y: 9 and counter: 31\n",
      "y: 11 and counter: 31\n",
      "y: 13 and counter: 31\n",
      "y: 15 and counter: 31\n",
      "y: 17 and counter: 31\n",
      "y: 19 and counter: 31\n",
      "y: 21 and counter: 31\n",
      "y: 23 and counter: 31\n",
      "y: 25 and counter: 31\n",
      "y: 27 and counter: 31\n",
      "y: 29 and counter: 31\n",
      "y: 3 and counter: 33\n",
      "y: 3 and counter: 35\n",
      "y: 5 and counter: 35\n",
      "y: 3 and counter: 37\n",
      "y: 5 and counter: 37\n",
      "y: 7 and counter: 37\n",
      "y: 9 and counter: 37\n",
      "y: 11 and counter: 37\n",
      "y: 13 and counter: 37\n",
      "y: 15 and counter: 37\n",
      "y: 17 and counter: 37\n",
      "y: 19 and counter: 37\n",
      "y: 21 and counter: 37\n",
      "y: 23 and counter: 37\n",
      "y: 25 and counter: 37\n",
      "y: 27 and counter: 37\n",
      "y: 29 and counter: 37\n",
      "y: 31 and counter: 37\n",
      "y: 33 and counter: 37\n",
      "y: 35 and counter: 37\n",
      "y: 3 and counter: 39\n",
      "y: 3 and counter: 41\n",
      "y: 5 and counter: 41\n",
      "y: 7 and counter: 41\n",
      "y: 9 and counter: 41\n",
      "y: 11 and counter: 41\n",
      "y: 13 and counter: 41\n",
      "y: 15 and counter: 41\n",
      "y: 17 and counter: 41\n",
      "y: 19 and counter: 41\n",
      "y: 21 and counter: 41\n",
      "y: 23 and counter: 41\n",
      "y: 25 and counter: 41\n",
      "y: 27 and counter: 41\n",
      "y: 29 and counter: 41\n",
      "y: 31 and counter: 41\n",
      "y: 33 and counter: 41\n",
      "y: 35 and counter: 41\n",
      "y: 37 and counter: 41\n",
      "y: 39 and counter: 41\n",
      "y: 3 and counter: 43\n",
      "y: 5 and counter: 43\n",
      "y: 7 and counter: 43\n",
      "y: 9 and counter: 43\n",
      "y: 11 and counter: 43\n",
      "y: 13 and counter: 43\n",
      "y: 15 and counter: 43\n",
      "y: 17 and counter: 43\n",
      "y: 19 and counter: 43\n",
      "y: 21 and counter: 43\n",
      "y: 23 and counter: 43\n",
      "y: 25 and counter: 43\n",
      "y: 27 and counter: 43\n",
      "y: 29 and counter: 43\n",
      "y: 31 and counter: 43\n",
      "y: 33 and counter: 43\n",
      "y: 35 and counter: 43\n",
      "y: 37 and counter: 43\n",
      "y: 39 and counter: 43\n",
      "y: 41 and counter: 43\n",
      "y: 3 and counter: 45\n",
      "y: 3 and counter: 47\n",
      "y: 5 and counter: 47\n",
      "y: 7 and counter: 47\n",
      "y: 9 and counter: 47\n",
      "y: 11 and counter: 47\n",
      "y: 13 and counter: 47\n",
      "y: 15 and counter: 47\n",
      "y: 17 and counter: 47\n",
      "y: 19 and counter: 47\n",
      "y: 21 and counter: 47\n",
      "y: 23 and counter: 47\n",
      "y: 25 and counter: 47\n",
      "y: 27 and counter: 47\n",
      "y: 29 and counter: 47\n",
      "y: 31 and counter: 47\n",
      "y: 33 and counter: 47\n",
      "y: 35 and counter: 47\n",
      "y: 37 and counter: 47\n",
      "y: 39 and counter: 47\n",
      "y: 41 and counter: 47\n",
      "y: 43 and counter: 47\n",
      "y: 45 and counter: 47\n",
      "y: 3 and counter: 49\n",
      "y: 5 and counter: 49\n",
      "y: 7 and counter: 49\n",
      "y: 3 and counter: 51\n",
      "y: 3 and counter: 53\n",
      "y: 5 and counter: 53\n",
      "y: 7 and counter: 53\n",
      "y: 9 and counter: 53\n",
      "y: 11 and counter: 53\n",
      "y: 13 and counter: 53\n",
      "y: 15 and counter: 53\n",
      "y: 17 and counter: 53\n",
      "y: 19 and counter: 53\n",
      "y: 21 and counter: 53\n",
      "y: 23 and counter: 53\n",
      "y: 25 and counter: 53\n",
      "y: 27 and counter: 53\n",
      "y: 29 and counter: 53\n",
      "y: 31 and counter: 53\n",
      "y: 33 and counter: 53\n",
      "y: 35 and counter: 53\n",
      "y: 37 and counter: 53\n",
      "y: 39 and counter: 53\n",
      "y: 41 and counter: 53\n",
      "y: 43 and counter: 53\n",
      "y: 45 and counter: 53\n",
      "y: 47 and counter: 53\n",
      "y: 49 and counter: 53\n",
      "y: 51 and counter: 53\n",
      "y: 3 and counter: 55\n",
      "y: 5 and counter: 55\n",
      "y: 3 and counter: 57\n",
      "y: 3 and counter: 59\n",
      "y: 5 and counter: 59\n",
      "y: 7 and counter: 59\n",
      "y: 9 and counter: 59\n",
      "y: 11 and counter: 59\n",
      "y: 13 and counter: 59\n",
      "y: 15 and counter: 59\n",
      "y: 17 and counter: 59\n",
      "y: 19 and counter: 59\n",
      "y: 21 and counter: 59\n",
      "y: 23 and counter: 59\n",
      "y: 25 and counter: 59\n",
      "y: 27 and counter: 59\n",
      "y: 29 and counter: 59\n",
      "y: 31 and counter: 59\n",
      "y: 33 and counter: 59\n",
      "y: 35 and counter: 59\n",
      "y: 37 and counter: 59\n",
      "y: 39 and counter: 59\n",
      "y: 41 and counter: 59\n",
      "y: 43 and counter: 59\n",
      "y: 45 and counter: 59\n",
      "y: 47 and counter: 59\n",
      "y: 49 and counter: 59\n",
      "y: 51 and counter: 59\n",
      "y: 53 and counter: 59\n",
      "y: 55 and counter: 59\n",
      "y: 57 and counter: 59\n",
      "y: 3 and counter: 61\n",
      "y: 5 and counter: 61\n",
      "y: 7 and counter: 61\n",
      "y: 9 and counter: 61\n",
      "y: 11 and counter: 61\n",
      "y: 13 and counter: 61\n",
      "y: 15 and counter: 61\n",
      "y: 17 and counter: 61\n",
      "y: 19 and counter: 61\n",
      "y: 21 and counter: 61\n",
      "y: 23 and counter: 61\n",
      "y: 25 and counter: 61\n",
      "y: 27 and counter: 61\n",
      "y: 29 and counter: 61\n",
      "y: 31 and counter: 61\n",
      "y: 33 and counter: 61\n",
      "y: 35 and counter: 61\n",
      "y: 37 and counter: 61\n",
      "y: 39 and counter: 61\n",
      "y: 41 and counter: 61\n",
      "y: 43 and counter: 61\n",
      "y: 45 and counter: 61\n",
      "y: 47 and counter: 61\n",
      "y: 49 and counter: 61\n",
      "y: 51 and counter: 61\n",
      "y: 53 and counter: 61\n",
      "y: 55 and counter: 61\n",
      "y: 57 and counter: 61\n",
      "y: 59 and counter: 61\n",
      "y: 3 and counter: 63\n",
      "y: 3 and counter: 65\n",
      "y: 5 and counter: 65\n",
      "y: 3 and counter: 67\n",
      "y: 5 and counter: 67\n",
      "y: 7 and counter: 67\n",
      "y: 9 and counter: 67\n",
      "y: 11 and counter: 67\n",
      "y: 13 and counter: 67\n",
      "y: 15 and counter: 67\n",
      "y: 17 and counter: 67\n",
      "y: 19 and counter: 67\n",
      "y: 21 and counter: 67\n",
      "y: 23 and counter: 67\n",
      "y: 25 and counter: 67\n",
      "y: 27 and counter: 67\n",
      "y: 29 and counter: 67\n",
      "y: 31 and counter: 67\n",
      "y: 33 and counter: 67\n",
      "y: 35 and counter: 67\n",
      "y: 37 and counter: 67\n",
      "y: 39 and counter: 67\n",
      "y: 41 and counter: 67\n",
      "y: 43 and counter: 67\n",
      "y: 45 and counter: 67\n",
      "y: 47 and counter: 67\n",
      "y: 49 and counter: 67\n",
      "y: 51 and counter: 67\n",
      "y: 53 and counter: 67\n",
      "y: 55 and counter: 67\n",
      "y: 57 and counter: 67\n",
      "y: 59 and counter: 67\n",
      "y: 61 and counter: 67\n",
      "y: 63 and counter: 67\n",
      "y: 65 and counter: 67\n",
      "y: 3 and counter: 69\n",
      "y: 3 and counter: 71\n",
      "y: 5 and counter: 71\n",
      "y: 7 and counter: 71\n",
      "y: 9 and counter: 71\n",
      "y: 11 and counter: 71\n",
      "y: 13 and counter: 71\n",
      "y: 15 and counter: 71\n",
      "y: 17 and counter: 71\n",
      "y: 19 and counter: 71\n",
      "y: 21 and counter: 71\n",
      "y: 23 and counter: 71\n",
      "y: 25 and counter: 71\n",
      "y: 27 and counter: 71\n",
      "y: 29 and counter: 71\n",
      "y: 31 and counter: 71\n",
      "y: 33 and counter: 71\n",
      "y: 35 and counter: 71\n",
      "y: 37 and counter: 71\n",
      "y: 39 and counter: 71\n",
      "y: 41 and counter: 71\n",
      "y: 43 and counter: 71\n",
      "y: 45 and counter: 71\n",
      "y: 47 and counter: 71\n",
      "y: 49 and counter: 71\n",
      "y: 51 and counter: 71\n",
      "y: 53 and counter: 71\n",
      "y: 55 and counter: 71\n",
      "y: 57 and counter: 71\n",
      "y: 59 and counter: 71\n",
      "y: 61 and counter: 71\n",
      "y: 63 and counter: 71\n",
      "y: 65 and counter: 71\n",
      "y: 67 and counter: 71\n",
      "y: 69 and counter: 71\n",
      "y: 3 and counter: 73\n",
      "y: 5 and counter: 73\n",
      "y: 7 and counter: 73\n",
      "y: 9 and counter: 73\n",
      "y: 11 and counter: 73\n",
      "y: 13 and counter: 73\n",
      "y: 15 and counter: 73\n",
      "y: 17 and counter: 73\n",
      "y: 19 and counter: 73\n",
      "y: 21 and counter: 73\n",
      "y: 23 and counter: 73\n",
      "y: 25 and counter: 73\n",
      "y: 27 and counter: 73\n",
      "y: 29 and counter: 73\n",
      "y: 31 and counter: 73\n",
      "y: 33 and counter: 73\n",
      "y: 35 and counter: 73\n",
      "y: 37 and counter: 73\n",
      "y: 39 and counter: 73\n",
      "y: 41 and counter: 73\n",
      "y: 43 and counter: 73\n",
      "y: 45 and counter: 73\n",
      "y: 47 and counter: 73\n",
      "y: 49 and counter: 73\n",
      "y: 51 and counter: 73\n",
      "y: 53 and counter: 73\n",
      "y: 55 and counter: 73\n",
      "y: 57 and counter: 73\n",
      "y: 59 and counter: 73\n",
      "y: 61 and counter: 73\n",
      "y: 63 and counter: 73\n",
      "y: 65 and counter: 73\n",
      "y: 67 and counter: 73\n",
      "y: 69 and counter: 73\n",
      "y: 71 and counter: 73\n",
      "y: 3 and counter: 75\n",
      "y: 3 and counter: 77\n",
      "y: 5 and counter: 77\n",
      "y: 7 and counter: 77\n",
      "y: 3 and counter: 79\n",
      "y: 5 and counter: 79\n",
      "y: 7 and counter: 79\n",
      "y: 9 and counter: 79\n",
      "y: 11 and counter: 79\n",
      "y: 13 and counter: 79\n",
      "y: 15 and counter: 79\n",
      "y: 17 and counter: 79\n",
      "y: 19 and counter: 79\n",
      "y: 21 and counter: 79\n",
      "y: 23 and counter: 79\n",
      "y: 25 and counter: 79\n",
      "y: 27 and counter: 79\n",
      "y: 29 and counter: 79\n",
      "y: 31 and counter: 79\n",
      "y: 33 and counter: 79\n",
      "y: 35 and counter: 79\n",
      "y: 37 and counter: 79\n",
      "y: 39 and counter: 79\n",
      "y: 41 and counter: 79\n",
      "y: 43 and counter: 79\n",
      "y: 45 and counter: 79\n",
      "y: 47 and counter: 79\n",
      "y: 49 and counter: 79\n",
      "y: 51 and counter: 79\n",
      "y: 53 and counter: 79\n",
      "y: 55 and counter: 79\n",
      "y: 57 and counter: 79\n",
      "y: 59 and counter: 79\n",
      "y: 61 and counter: 79\n",
      "y: 63 and counter: 79\n",
      "y: 65 and counter: 79\n",
      "y: 67 and counter: 79\n",
      "y: 69 and counter: 79\n",
      "y: 71 and counter: 79\n",
      "y: 73 and counter: 79\n",
      "y: 75 and counter: 79\n",
      "y: 77 and counter: 79\n",
      "y: 3 and counter: 81\n",
      "y: 3 and counter: 83\n",
      "y: 5 and counter: 83\n",
      "y: 7 and counter: 83\n",
      "y: 9 and counter: 83\n",
      "y: 11 and counter: 83\n",
      "y: 13 and counter: 83\n",
      "y: 15 and counter: 83\n",
      "y: 17 and counter: 83\n",
      "y: 19 and counter: 83\n",
      "y: 21 and counter: 83\n",
      "y: 23 and counter: 83\n",
      "y: 25 and counter: 83\n",
      "y: 27 and counter: 83\n",
      "y: 29 and counter: 83\n",
      "y: 31 and counter: 83\n",
      "y: 33 and counter: 83\n",
      "y: 35 and counter: 83\n",
      "y: 37 and counter: 83\n",
      "y: 39 and counter: 83\n",
      "y: 41 and counter: 83\n",
      "y: 43 and counter: 83\n",
      "y: 45 and counter: 83\n",
      "y: 47 and counter: 83\n",
      "y: 49 and counter: 83\n",
      "y: 51 and counter: 83\n",
      "y: 53 and counter: 83\n",
      "y: 55 and counter: 83\n",
      "y: 57 and counter: 83\n",
      "y: 59 and counter: 83\n",
      "y: 61 and counter: 83\n",
      "y: 63 and counter: 83\n",
      "y: 65 and counter: 83\n",
      "y: 67 and counter: 83\n",
      "y: 69 and counter: 83\n",
      "y: 71 and counter: 83\n",
      "y: 73 and counter: 83\n",
      "y: 75 and counter: 83\n",
      "y: 77 and counter: 83\n",
      "y: 79 and counter: 83\n",
      "y: 81 and counter: 83\n",
      "y: 3 and counter: 85\n",
      "y: 5 and counter: 85\n",
      "y: 3 and counter: 87\n",
      "y: 3 and counter: 89\n",
      "y: 5 and counter: 89\n",
      "y: 7 and counter: 89\n",
      "y: 9 and counter: 89\n",
      "y: 11 and counter: 89\n",
      "y: 13 and counter: 89\n",
      "y: 15 and counter: 89\n",
      "y: 17 and counter: 89\n",
      "y: 19 and counter: 89\n",
      "y: 21 and counter: 89\n",
      "y: 23 and counter: 89\n",
      "y: 25 and counter: 89\n",
      "y: 27 and counter: 89\n",
      "y: 29 and counter: 89\n",
      "y: 31 and counter: 89\n",
      "y: 33 and counter: 89\n",
      "y: 35 and counter: 89\n",
      "y: 37 and counter: 89\n",
      "y: 39 and counter: 89\n",
      "y: 41 and counter: 89\n",
      "y: 43 and counter: 89\n",
      "y: 45 and counter: 89\n",
      "y: 47 and counter: 89\n",
      "y: 49 and counter: 89\n",
      "y: 51 and counter: 89\n",
      "y: 53 and counter: 89\n",
      "y: 55 and counter: 89\n",
      "y: 57 and counter: 89\n",
      "y: 59 and counter: 89\n",
      "y: 61 and counter: 89\n",
      "y: 63 and counter: 89\n",
      "y: 65 and counter: 89\n",
      "y: 67 and counter: 89\n",
      "y: 69 and counter: 89\n",
      "y: 71 and counter: 89\n",
      "y: 73 and counter: 89\n",
      "y: 75 and counter: 89\n",
      "y: 77 and counter: 89\n",
      "y: 79 and counter: 89\n",
      "y: 81 and counter: 89\n",
      "y: 83 and counter: 89\n",
      "y: 85 and counter: 89\n",
      "y: 87 and counter: 89\n",
      "y: 3 and counter: 91\n",
      "y: 5 and counter: 91\n",
      "y: 7 and counter: 91\n",
      "y: 3 and counter: 93\n",
      "y: 3 and counter: 95\n",
      "y: 5 and counter: 95\n",
      "y: 3 and counter: 97\n",
      "y: 5 and counter: 97\n",
      "y: 7 and counter: 97\n",
      "y: 9 and counter: 97\n",
      "y: 11 and counter: 97\n",
      "y: 13 and counter: 97\n",
      "y: 15 and counter: 97\n",
      "y: 17 and counter: 97\n",
      "y: 19 and counter: 97\n",
      "y: 21 and counter: 97\n",
      "y: 23 and counter: 97\n",
      "y: 25 and counter: 97\n",
      "y: 27 and counter: 97\n",
      "y: 29 and counter: 97\n",
      "y: 31 and counter: 97\n",
      "y: 33 and counter: 97\n",
      "y: 35 and counter: 97\n",
      "y: 37 and counter: 97\n",
      "y: 39 and counter: 97\n",
      "y: 41 and counter: 97\n",
      "y: 43 and counter: 97\n",
      "y: 45 and counter: 97\n",
      "y: 47 and counter: 97\n",
      "y: 49 and counter: 97\n",
      "y: 51 and counter: 97\n",
      "y: 53 and counter: 97\n",
      "y: 55 and counter: 97\n",
      "y: 57 and counter: 97\n",
      "y: 59 and counter: 97\n",
      "y: 61 and counter: 97\n",
      "y: 63 and counter: 97\n",
      "y: 65 and counter: 97\n",
      "y: 67 and counter: 97\n",
      "y: 69 and counter: 97\n",
      "y: 71 and counter: 97\n",
      "y: 73 and counter: 97\n",
      "y: 75 and counter: 97\n",
      "y: 77 and counter: 97\n",
      "y: 79 and counter: 97\n",
      "y: 81 and counter: 97\n",
      "y: 83 and counter: 97\n",
      "y: 85 and counter: 97\n",
      "y: 87 and counter: 97\n",
      "y: 89 and counter: 97\n",
      "y: 91 and counter: 97\n",
      "y: 93 and counter: 97\n",
      "y: 95 and counter: 97\n",
      "y: 3 and counter: 99\n",
      "[2, 3, 5, 7, 11, 13, 17, 19, 23, 29, 31, 37, 41, 43, 47, 53, 59, 61, 67, 71, 73, 79, 83, 89, 97]\n",
      "25\n"
     ]
    }
   ],
   "source": [
    "# Check\n",
    "count_primes(100)"
   ]
  },
  {
   "cell_type": "markdown",
   "metadata": {},
   "source": [
    "### Just for fun:\n",
    "#### PRINT BIG: Write a function that takes in a single letter, and returns a 5x5 representation of that letter\n",
    "    print_big('a')\n",
    "    \n",
    "    out:   *  \n",
    "          * *\n",
    "         *****\n",
    "         *   *\n",
    "         *   *\n",
    "HINT: Consider making a dictionary of possible patterns, and mapping the alphabet to specific 5-line combinations of patterns. <br>For purposes of this exercise, it's ok if your dictionary stops at \"E\"."
   ]
  },
  {
   "cell_type": "code",
   "execution_count": 179,
   "metadata": {},
   "outputs": [],
   "source": [
    "def print_big(letter):\n",
    "    patterns = {1:'  *  ',2:' * * ',3:'*   *',4:'*****',5:'**** ',6:'   * ',7:' *   ',8:'*   * ',9:'*    '}\n",
    "    alphabet = {'A':[1,2,4,3,3],'B':[5,3,5,3,5],'C':[4,9,9,9,4],'D':[5,3,3,3,5],'E':[4,9,4,9,4]}\n",
    "    for pattern in alphabet[letter.upper()]:\n",
    "        print(patterns[pattern])"
   ]
  },
  {
   "cell_type": "code",
   "execution_count": 180,
   "metadata": {},
   "outputs": [
    {
     "name": "stdout",
     "output_type": "stream",
     "text": [
      "  *  \n",
      " * * \n",
      "*****\n",
      "*   *\n",
      "*   *\n"
     ]
    }
   ],
   "source": [
    "print_big('a')"
   ]
  },
  {
   "cell_type": "markdown",
   "metadata": {},
   "source": [
    "## Great Job!"
   ]
  }
 ],
 "metadata": {
  "kernelspec": {
   "display_name": "Python 3 (ipykernel)",
   "language": "python",
   "name": "python3"
  },
  "language_info": {
   "codemirror_mode": {
    "name": "ipython",
    "version": 3
   },
   "file_extension": ".py",
   "mimetype": "text/x-python",
   "name": "python",
   "nbconvert_exporter": "python",
   "pygments_lexer": "ipython3",
   "version": "3.9.7"
  }
 },
 "nbformat": 4,
 "nbformat_minor": 2
}
