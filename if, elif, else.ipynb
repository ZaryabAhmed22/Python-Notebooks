{
 "cells": [
  {
   "cell_type": "markdown",
   "id": "c91ac3e0",
   "metadata": {},
   "source": [
    "# Control Flow"
   ]
  },
  {
   "cell_type": "markdown",
   "id": "de3b9e55",
   "metadata": {},
   "source": [
    "A program's control flow is the order in which the program's code executes. The control flow of a Python program is regulated by conditional statements, loops, and function calls."
   ]
  },
  {
   "cell_type": "markdown",
   "id": "40e623d5",
   "metadata": {},
   "source": [
    "# if elif and else "
   ]
  },
  {
   "cell_type": "markdown",
   "id": "352cc7e3",
   "metadata": {},
   "source": [
    "if some_condition: <br>\n",
    "    # execute some code <br>\n",
    "elif some_other_condition: <br>\n",
    "    # Do something different <br>\n",
    "else: <br>\n",
    "    # do something else <br>"
   ]
  },
  {
   "cell_type": "code",
   "execution_count": 2,
   "id": "8ad65dc9",
   "metadata": {},
   "outputs": [
    {
     "name": "stdout",
     "output_type": "stream",
     "text": [
      "It is true\n"
     ]
    }
   ],
   "source": [
    "if True:\n",
    "    print('It is true')"
   ]
  },
  {
   "cell_type": "code",
   "execution_count": 3,
   "id": "2d738955",
   "metadata": {},
   "outputs": [
    {
     "name": "stdout",
     "output_type": "stream",
     "text": [
      "# is greater than 2\n"
     ]
    }
   ],
   "source": [
    "if 3>2:\n",
    "    print('# is greater than 2')"
   ]
  },
  {
   "cell_type": "code",
   "execution_count": 4,
   "id": "018fb624",
   "metadata": {},
   "outputs": [
    {
     "name": "stdout",
     "output_type": "stream",
     "text": [
      "feed me!\n"
     ]
    }
   ],
   "source": [
    "hungry = True\n",
    "if hungry:\n",
    "    print('feed me!')\n",
    "else:\n",
    "    print('Im not hungry')"
   ]
  },
  {
   "cell_type": "code",
   "execution_count": 5,
   "id": "836a7aa0",
   "metadata": {},
   "outputs": [
    {
     "name": "stdout",
     "output_type": "stream",
     "text": [
      "Money is cool\n"
     ]
    }
   ],
   "source": [
    "loc = 'Bank'\n",
    "\n",
    "if loc == 'Auto Shop':\n",
    "    print('It is a cool place')\n",
    "elif loc == 'Bank':\n",
    "    print('Money is cool')\n",
    "else: \n",
    "    print('I do not know much')"
   ]
  },
  {
   "cell_type": "code",
   "execution_count": null,
   "id": "c86ad7d6",
   "metadata": {},
   "outputs": [],
   "source": []
  }
 ],
 "metadata": {
  "kernelspec": {
   "display_name": "Python 3 (ipykernel)",
   "language": "python",
   "name": "python3"
  },
  "language_info": {
   "codemirror_mode": {
    "name": "ipython",
    "version": 3
   },
   "file_extension": ".py",
   "mimetype": "text/x-python",
   "name": "python",
   "nbconvert_exporter": "python",
   "pygments_lexer": "ipython3",
   "version": "3.9.7"
  }
 },
 "nbformat": 4,
 "nbformat_minor": 5
}
