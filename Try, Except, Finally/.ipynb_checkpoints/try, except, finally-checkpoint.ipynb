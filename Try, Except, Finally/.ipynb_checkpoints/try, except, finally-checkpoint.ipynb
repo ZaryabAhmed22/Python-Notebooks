{
 "cells": [
  {
   "cell_type": "code",
   "execution_count": 2,
   "id": "0574b1fd",
   "metadata": {},
   "outputs": [],
   "source": [
    "def add(n1, n2):\n",
    "    print(n1+n2)"
   ]
  },
  {
   "cell_type": "code",
   "execution_count": 4,
   "id": "bc17ef53",
   "metadata": {},
   "outputs": [
    {
     "name": "stdout",
     "output_type": "stream",
     "text": [
      "30\n"
     ]
    }
   ],
   "source": [
    "add(10,20)"
   ]
  },
  {
   "cell_type": "code",
   "execution_count": 5,
   "id": "dc81862d",
   "metadata": {},
   "outputs": [],
   "source": [
    "num1 = 10"
   ]
  },
  {
   "cell_type": "code",
   "execution_count": 6,
   "id": "65c2af02",
   "metadata": {},
   "outputs": [
    {
     "name": "stdout",
     "output_type": "stream",
     "text": [
      "Enter a number20\n"
     ]
    }
   ],
   "source": [
    "num2 = input('Enter a number')"
   ]
  },
  {
   "cell_type": "code",
   "execution_count": 7,
   "id": "1ff8ee9b",
   "metadata": {},
   "outputs": [
    {
     "ename": "TypeError",
     "evalue": "unsupported operand type(s) for +: 'int' and 'str'",
     "output_type": "error",
     "traceback": [
      "\u001b[1;31m---------------------------------------------------------------------------\u001b[0m",
      "\u001b[1;31mTypeError\u001b[0m                                 Traceback (most recent call last)",
      "\u001b[1;32m~\\AppData\\Local\\Temp/ipykernel_15924/1129061303.py\u001b[0m in \u001b[0;36m<module>\u001b[1;34m\u001b[0m\n\u001b[1;32m----> 1\u001b[1;33m \u001b[0madd\u001b[0m\u001b[1;33m(\u001b[0m\u001b[0mnum1\u001b[0m\u001b[1;33m,\u001b[0m \u001b[0mnum2\u001b[0m\u001b[1;33m)\u001b[0m\u001b[1;33m\u001b[0m\u001b[1;33m\u001b[0m\u001b[0m\n\u001b[0m",
      "\u001b[1;32m~\\AppData\\Local\\Temp/ipykernel_15924/3074967343.py\u001b[0m in \u001b[0;36madd\u001b[1;34m(n1, n2)\u001b[0m\n\u001b[0;32m      1\u001b[0m \u001b[1;32mdef\u001b[0m \u001b[0madd\u001b[0m\u001b[1;33m(\u001b[0m\u001b[0mn1\u001b[0m\u001b[1;33m,\u001b[0m \u001b[0mn2\u001b[0m\u001b[1;33m)\u001b[0m\u001b[1;33m:\u001b[0m\u001b[1;33m\u001b[0m\u001b[1;33m\u001b[0m\u001b[0m\n\u001b[1;32m----> 2\u001b[1;33m     \u001b[0mprint\u001b[0m\u001b[1;33m(\u001b[0m\u001b[0mn1\u001b[0m\u001b[1;33m+\u001b[0m\u001b[0mn2\u001b[0m\u001b[1;33m)\u001b[0m\u001b[1;33m\u001b[0m\u001b[1;33m\u001b[0m\u001b[0m\n\u001b[0m",
      "\u001b[1;31mTypeError\u001b[0m: unsupported operand type(s) for +: 'int' and 'str'"
     ]
    }
   ],
   "source": [
    "add(num1, num2)\n",
    "#gives an error because the num2 was a string"
   ]
  },
  {
   "cell_type": "markdown",
   "id": "233660d0",
   "metadata": {},
   "source": [
    "When there's as in error in the code the python will give a traceback and no other line of code will run after it. To avoid the stopping of the program we use the try-except block"
   ]
  },
  {
   "cell_type": "markdown",
   "id": "1edef608",
   "metadata": {},
   "source": [
    "**Try-Except block in action**"
   ]
  },
  {
   "cell_type": "code",
   "execution_count": 8,
   "id": "580696e2",
   "metadata": {},
   "outputs": [
    {
     "name": "stdout",
     "output_type": "stream",
     "text": [
      "added well\n",
      "20\n"
     ]
    }
   ],
   "source": [
    "try:\n",
    "    #WANT TO ATTEMPT THIS CODE\n",
    "    #MAY HAVE AN ERROR\n",
    "    result = 10 + 10\n",
    "except:\n",
    "    print('May b you are not adding the numbers cprrectly')\n",
    "else:\n",
    "    print('added well')\n",
    "    print(result)"
   ]
  },
  {
   "cell_type": "markdown",
   "id": "dbb2e165",
   "metadata": {},
   "source": [
    "**Try-Except_finally in action**"
   ]
  },
  {
   "cell_type": "code",
   "execution_count": 12,
   "id": "4e0a251f",
   "metadata": {},
   "outputs": [
    {
     "name": "stdout",
     "output_type": "stream",
     "text": [
      "I always run\n"
     ]
    }
   ],
   "source": [
    "try:\n",
    "    f = open('testfile', 'w')\n",
    "    f.write('Write a test line')\n",
    "except TypeError:\n",
    "    print('There was a type error!')\n",
    "except OSError:\n",
    "    print('Hey you have an OS error')\n",
    "finally:\n",
    "    print(\"I always run\")"
   ]
  },
  {
   "cell_type": "code",
   "execution_count": 15,
   "id": "7c36bcd6",
   "metadata": {},
   "outputs": [
    {
     "name": "stdout",
     "output_type": "stream",
     "text": [
      "Hey you have an OS error\n",
      "I always run\n"
     ]
    }
   ],
   "source": [
    "try:\n",
    "    f = open('testfile', 'r') # created an error by swtiching r with w\n",
    "    f.write('Write a test line')\n",
    "except TypeError:\n",
    "    print('There was a type error!')\n",
    "except OSError:\n",
    "    print('Hey you have an OS error')\n",
    "except: #for all kinf of errors\n",
    "    print('All other exceptions')\n",
    "finally:\n",
    "    print(\"I always run\")"
   ]
  },
  {
   "cell_type": "code",
   "execution_count": 17,
   "id": "fb3a42dd",
   "metadata": {},
   "outputs": [],
   "source": [
    "#one more example\n",
    "def ask_for_integer():\n",
    "    try:\n",
    "        integer = int(input('Please enter an integer: '))\n",
    "    except:\n",
    "        print('Please enter a digit only')\n",
    "    finally:\n",
    "        print('End of try/except/finally block')\n",
    "\n",
    "    "
   ]
  },
  {
   "cell_type": "code",
   "execution_count": 18,
   "id": "c927e0cc",
   "metadata": {},
   "outputs": [
    {
     "name": "stdout",
     "output_type": "stream",
     "text": [
      "Please enter an integer: 5\n",
      "End of try/except/finally block\n"
     ]
    }
   ],
   "source": [
    "ask_for_integer()"
   ]
  },
  {
   "cell_type": "code",
   "execution_count": 19,
   "id": "36a9c2bf",
   "metadata": {},
   "outputs": [
    {
     "name": "stdout",
     "output_type": "stream",
     "text": [
      "Please enter an integer: f\n",
      "Please enter a digit only\n",
      "End of try/except/finally block\n"
     ]
    }
   ],
   "source": [
    "ask_for_integer()"
   ]
  },
  {
   "cell_type": "code",
   "execution_count": 21,
   "id": "514c2a0e",
   "metadata": {},
   "outputs": [],
   "source": [
    "#one more example >> adding a wgile block\n",
    "def ask_for_integer():\n",
    "    while True:\n",
    "        try:\n",
    "            integer = int(input('Please enter an integer: '))\n",
    "        except:\n",
    "            print('Please enter a digit only')\n",
    "            continue\n",
    "        else:\n",
    "            print('Yes thank you!')\n",
    "            break\n",
    "        finally:\n",
    "            print('End of try/except/finally block >> I will always run at the end')"
   ]
  },
  {
   "cell_type": "code",
   "execution_count": 22,
   "id": "af3d2a1d",
   "metadata": {},
   "outputs": [
    {
     "name": "stdout",
     "output_type": "stream",
     "text": [
      "Please enter an integer: 4\n",
      "Yes thank you!\n",
      "End of try/except/finally block >> I will always run at the end\n"
     ]
    }
   ],
   "source": [
    "ask_for_integer()"
   ]
  },
  {
   "cell_type": "code",
   "execution_count": 23,
   "id": "3519577a",
   "metadata": {},
   "outputs": [
    {
     "name": "stdout",
     "output_type": "stream",
     "text": [
      "Please enter an integer: r\n",
      "Please enter a digit only\n",
      "End of try/except/finally block >> I will always run at the end\n",
      "Please enter an integer: r\n",
      "Please enter a digit only\n",
      "End of try/except/finally block >> I will always run at the end\n",
      "Please enter an integer: g\n",
      "Please enter a digit only\n",
      "End of try/except/finally block >> I will always run at the end\n",
      "Please enter an integer: 4\n",
      "Yes thank you!\n",
      "End of try/except/finally block >> I will always run at the end\n"
     ]
    }
   ],
   "source": [
    "ask_for_integer()"
   ]
  },
  {
   "cell_type": "code",
   "execution_count": null,
   "id": "ded62903",
   "metadata": {},
   "outputs": [],
   "source": []
  }
 ],
 "metadata": {
  "kernelspec": {
   "display_name": "Python 3 (ipykernel)",
   "language": "python",
   "name": "python3"
  },
  "language_info": {
   "codemirror_mode": {
    "name": "ipython",
    "version": 3
   },
   "file_extension": ".py",
   "mimetype": "text/x-python",
   "name": "python",
   "nbconvert_exporter": "python",
   "pygments_lexer": "ipython3",
   "version": "3.9.7"
  }
 },
 "nbformat": 4,
 "nbformat_minor": 5
}
