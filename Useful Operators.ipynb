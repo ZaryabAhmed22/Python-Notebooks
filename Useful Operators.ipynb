{
 "cells": [
  {
   "cell_type": "code",
   "execution_count": 1,
   "id": "67ad4a8e",
   "metadata": {},
   "outputs": [],
   "source": [
    "my_list = [1,2,3,4,5,6]"
   ]
  },
  {
   "cell_type": "markdown",
   "id": "593c7224",
   "metadata": {},
   "source": [
    "Range generator: range(starting, upto, jump)"
   ]
  },
  {
   "cell_type": "code",
   "execution_count": 2,
   "id": "b02bd552",
   "metadata": {},
   "outputs": [
    {
     "name": "stdout",
     "output_type": "stream",
     "text": [
      "0\n",
      "1\n",
      "2\n",
      "3\n",
      "4\n",
      "5\n",
      "6\n",
      "7\n",
      "8\n",
      "9\n"
     ]
    }
   ],
   "source": [
    "for num in range(10): #will print upto 10, not including 10\n",
    "    print(num)"
   ]
  },
  {
   "cell_type": "code",
   "execution_count": 3,
   "id": "2dfa4db9",
   "metadata": {},
   "outputs": [
    {
     "name": "stdout",
     "output_type": "stream",
     "text": [
      "0\n",
      "2\n",
      "4\n",
      "6\n",
      "8\n",
      "10\n"
     ]
    }
   ],
   "source": [
    "for num in range(0,11,2): #will print upto 10, not including 10\n",
    "    print(num)"
   ]
  },
  {
   "cell_type": "markdown",
   "id": "100a67f6",
   "metadata": {},
   "source": [
    "enumerate operator"
   ]
  },
  {
   "cell_type": "code",
   "execution_count": 6,
   "id": "41e6ec67",
   "metadata": {},
   "outputs": [
    {
     "name": "stdout",
     "output_type": "stream",
     "text": [
      "At index 0 the letter is a\n",
      "At index 1 the letter is b\n",
      "At index 2 the letter is c\n",
      "At index 3 the letter is d\n",
      "At index 4 the letter is e\n"
     ]
    }
   ],
   "source": [
    "index_count = 0\n",
    "word = 'abcde'\n",
    "for letter in word:\n",
    "    print('At index {} the letter is {}'.format(index_count, letter))\n",
    "    index_count = index_count+1"
   ]
  },
  {
   "cell_type": "code",
   "execution_count": 7,
   "id": "d44a419e",
   "metadata": {},
   "outputs": [
    {
     "name": "stdout",
     "output_type": "stream",
     "text": [
      "(0, 'a')\n",
      "(1, 'b')\n",
      "(2, 'c')\n",
      "(3, 'd')\n",
      "(4, 'e')\n"
     ]
    }
   ],
   "source": [
    "word = 'abcde'\n",
    "for letter in enumerate(word): #returns a tupple with the index of the element\n",
    "    print(letter)"
   ]
  },
  {
   "cell_type": "code",
   "execution_count": 8,
   "id": "9bca8bd8",
   "metadata": {},
   "outputs": [
    {
     "name": "stdout",
     "output_type": "stream",
     "text": [
      "index: 0, letter: a\n",
      "index: 1, letter: b\n",
      "index: 2, letter: c\n",
      "index: 3, letter: d\n",
      "index: 4, letter: e\n"
     ]
    }
   ],
   "source": [
    "word = 'abcde'\n",
    "for index,letter in enumerate(word): #returns a tupple with the index of the element\n",
    "    print(f'index: {index}, letter: {letter}')"
   ]
  },
  {
   "cell_type": "code",
   "execution_count": 10,
   "id": "4b105343",
   "metadata": {},
   "outputs": [
    {
     "name": "stdout",
     "output_type": "stream",
     "text": [
      "index: 0, letter: a\n",
      "index: 1, letter: b\n",
      "index: 2, letter: c\n",
      "index: 3, letter: d\n",
      "index: 4, letter: e\n",
      "index: 5, letter: f\n"
     ]
    }
   ],
   "source": [
    "my_word_list = ['a','b','c','d','e','f']\n",
    "\n",
    "for index,letter in enumerate(my_word_list): #returns a tupple with the index of the element, can also work with lists\n",
    "    print(f'index: {index}, letter: {letter}')"
   ]
  },
  {
   "cell_type": "markdown",
   "id": "37847ca9",
   "metadata": {},
   "source": [
    "Zip function: Opposite of inumerate"
   ]
  },
  {
   "cell_type": "code",
   "execution_count": 11,
   "id": "c8fadf83",
   "metadata": {},
   "outputs": [
    {
     "name": "stdout",
     "output_type": "stream",
     "text": [
      "(1, 'a', 'apple')\n",
      "(2, 'b', 'mango')\n",
      "(3, 'c', 'orange')\n",
      "(4, 'd', 'banana')\n",
      "(5, 'e', 'pineapple')\n"
     ]
    }
   ],
   "source": [
    "my_list1 = [1,2,3,4,5]\n",
    "my_list2 = ['a', 'b', 'c', 'd', 'e']\n",
    "my_list3 = ['apple', 'mango', 'orange', 'banana', 'pineapple']\n",
    "\n",
    "for item in zip(my_list1, my_list2, my_list3):\n",
    "    print(item)"
   ]
  },
  {
   "cell_type": "code",
   "execution_count": 12,
   "id": "9f5b85df",
   "metadata": {},
   "outputs": [
    {
     "name": "stdout",
     "output_type": "stream",
     "text": [
      "(1, 'a', 'apple')\n",
      "(2, 'b', 'mango')\n",
      "(3, 'c', 'orange')\n",
      "(4, 'd', 'banana')\n",
      "(5, 'e', 'pineapple')\n"
     ]
    }
   ],
   "source": [
    "my_list1 = [1,2,3,4,5,6,7,8] #if lists are unequal \n",
    "my_list2 = ['a', 'b', 'c', 'd', 'e']\n",
    "my_list3 = ['apple', 'mango', 'orange', 'banana', 'pineapple']\n",
    "\n",
    "for item in zip(my_list1, my_list2, my_list3):\n",
    "    print(item)"
   ]
  },
  {
   "cell_type": "code",
   "execution_count": 14,
   "id": "e355af20",
   "metadata": {},
   "outputs": [
    {
     "data": {
      "text/plain": [
       "[(1, 'a', 'apple'),\n",
       " (2, 'b', 'mango'),\n",
       " (3, 'c', 'orange'),\n",
       " (4, 'd', 'banana'),\n",
       " (5, 'e', 'pineapple')]"
      ]
     },
     "execution_count": 14,
     "metadata": {},
     "output_type": "execute_result"
    }
   ],
   "source": [
    "list(zip(my_list1, my_list2, my_list3))"
   ]
  },
  {
   "cell_type": "markdown",
   "id": "32b39c80",
   "metadata": {},
   "source": [
    "in keyword"
   ]
  },
  {
   "cell_type": "code",
   "execution_count": 15,
   "id": "6ce3963b",
   "metadata": {},
   "outputs": [
    {
     "data": {
      "text/plain": [
       "False"
      ]
     },
     "execution_count": 15,
     "metadata": {},
     "output_type": "execute_result"
    }
   ],
   "source": [
    "'x' in ['a', 'b', 'c']"
   ]
  },
  {
   "cell_type": "code",
   "execution_count": 17,
   "id": "d9711e32",
   "metadata": {},
   "outputs": [
    {
     "data": {
      "text/plain": [
       "True"
      ]
     },
     "execution_count": 17,
     "metadata": {},
     "output_type": "execute_result"
    }
   ],
   "source": [
    "'a' in 'sdkasdngasdgasdg'"
   ]
  },
  {
   "cell_type": "code",
   "execution_count": 19,
   "id": "3d6e1b60",
   "metadata": {},
   "outputs": [
    {
     "data": {
      "text/plain": [
       "True"
      ]
     },
     "execution_count": 19,
     "metadata": {},
     "output_type": "execute_result"
    }
   ],
   "source": [
    "'k1' in {'k1': 1}"
   ]
  },
  {
   "cell_type": "code",
   "execution_count": 20,
   "id": "5942e4e4",
   "metadata": {},
   "outputs": [
    {
     "data": {
      "text/plain": [
       "False"
      ]
     },
     "execution_count": 20,
     "metadata": {},
     "output_type": "execute_result"
    }
   ],
   "source": [
    "1 in {'k1': 1}.keys()"
   ]
  },
  {
   "cell_type": "code",
   "execution_count": 21,
   "id": "82d2c16a",
   "metadata": {},
   "outputs": [
    {
     "data": {
      "text/plain": [
       "True"
      ]
     },
     "execution_count": 21,
     "metadata": {},
     "output_type": "execute_result"
    }
   ],
   "source": [
    "1 in {'k1': 1}.values()"
   ]
  },
  {
   "cell_type": "markdown",
   "id": "299997d7",
   "metadata": {},
   "source": [
    "min and max functions: tells the minimum and maximum values in a list"
   ]
  },
  {
   "cell_type": "code",
   "execution_count": 24,
   "id": "4d941a61",
   "metadata": {},
   "outputs": [
    {
     "data": {
      "text/plain": [
       "10"
      ]
     },
     "execution_count": 24,
     "metadata": {},
     "output_type": "execute_result"
    }
   ],
   "source": [
    "my_list4 = [10, 30, 40, 50]\n",
    "\n",
    "min(my_list4)\n"
   ]
  },
  {
   "cell_type": "code",
   "execution_count": 25,
   "id": "997177f2",
   "metadata": {},
   "outputs": [
    {
     "data": {
      "text/plain": [
       "50"
      ]
     },
     "execution_count": 25,
     "metadata": {},
     "output_type": "execute_result"
    }
   ],
   "source": [
    "max(my_list4)"
   ]
  },
  {
   "cell_type": "markdown",
   "id": "2f446bfa",
   "metadata": {},
   "source": [
    "Import function"
   ]
  },
  {
   "cell_type": "markdown",
   "id": "841c339a",
   "metadata": {},
   "source": [
    "from random import any_function"
   ]
  },
  {
   "cell_type": "code",
   "execution_count": 27,
   "id": "3511a261",
   "metadata": {},
   "outputs": [],
   "source": [
    "from random import shuffle"
   ]
  },
  {
   "cell_type": "code",
   "execution_count": 29,
   "id": "7f952a62",
   "metadata": {},
   "outputs": [],
   "source": [
    "shuffle(my_list4) #doesn't return anything"
   ]
  },
  {
   "cell_type": "code",
   "execution_count": 30,
   "id": "4948d0fd",
   "metadata": {},
   "outputs": [
    {
     "data": {
      "text/plain": [
       "[30, 50, 40, 10]"
      ]
     },
     "execution_count": 30,
     "metadata": {},
     "output_type": "execute_result"
    }
   ],
   "source": [
    "my_list4"
   ]
  },
  {
   "cell_type": "code",
   "execution_count": 31,
   "id": "405e73c6",
   "metadata": {},
   "outputs": [],
   "source": [
    "from random import randint"
   ]
  },
  {
   "cell_type": "code",
   "execution_count": 32,
   "id": "951837d9",
   "metadata": {},
   "outputs": [
    {
     "data": {
      "text/plain": [
       "5"
      ]
     },
     "execution_count": 32,
     "metadata": {},
     "output_type": "execute_result"
    }
   ],
   "source": [
    "randint(0, 100) #first argument is the lower range and second is the upper range"
   ]
  },
  {
   "cell_type": "code",
   "execution_count": 33,
   "id": "b7dbd696",
   "metadata": {},
   "outputs": [],
   "source": [
    "my_random_num = randint(0,45)"
   ]
  },
  {
   "cell_type": "code",
   "execution_count": 36,
   "id": "97badb3c",
   "metadata": {},
   "outputs": [
    {
     "data": {
      "text/plain": [
       "7"
      ]
     },
     "execution_count": 36,
     "metadata": {},
     "output_type": "execute_result"
    }
   ],
   "source": [
    "my_random_num"
   ]
  },
  {
   "cell_type": "markdown",
   "id": "290daf15",
   "metadata": {},
   "source": [
    "input function"
   ]
  },
  {
   "cell_type": "code",
   "execution_count": 37,
   "id": "88029b9b",
   "metadata": {},
   "outputs": [
    {
     "name": "stdout",
     "output_type": "stream",
     "text": [
      "What is your name: Zaryab\n"
     ]
    }
   ],
   "source": [
    "name = input('What is your name: ') #returns a value as a string"
   ]
  },
  {
   "cell_type": "code",
   "execution_count": 38,
   "id": "f9f206a1",
   "metadata": {},
   "outputs": [
    {
     "data": {
      "text/plain": [
       "'Zaryab'"
      ]
     },
     "execution_count": 38,
     "metadata": {},
     "output_type": "execute_result"
    }
   ],
   "source": [
    "name"
   ]
  },
  {
   "cell_type": "code",
   "execution_count": null,
   "id": "239c0487",
   "metadata": {},
   "outputs": [],
   "source": []
  }
 ],
 "metadata": {
  "kernelspec": {
   "display_name": "Python 3 (ipykernel)",
   "language": "python",
   "name": "python3"
  },
  "language_info": {
   "codemirror_mode": {
    "name": "ipython",
    "version": 3
   },
   "file_extension": ".py",
   "mimetype": "text/x-python",
   "name": "python",
   "nbconvert_exporter": "python",
   "pygments_lexer": "ipython3",
   "version": "3.9.7"
  }
 },
 "nbformat": 4,
 "nbformat_minor": 5
}
