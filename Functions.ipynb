{
 "cells": [
  {
   "cell_type": "code",
   "execution_count": 1,
   "id": "34b92bba",
   "metadata": {},
   "outputs": [],
   "source": [
    "def say_hello():\n",
    "    print('hello')\n",
    "    print('are')"
   ]
  },
  {
   "cell_type": "code",
   "execution_count": 2,
   "id": "cef9efad",
   "metadata": {},
   "outputs": [
    {
     "name": "stdout",
     "output_type": "stream",
     "text": [
      "hello\n",
      "are\n"
     ]
    }
   ],
   "source": [
    "say_hello()"
   ]
  },
  {
   "cell_type": "markdown",
   "id": "2145a675",
   "metadata": {},
   "source": [
    "If we call functio nwith the (), it will only tell that the following name is a function"
   ]
  },
  {
   "cell_type": "code",
   "execution_count": 5,
   "id": "6a9d5eb5",
   "metadata": {},
   "outputs": [],
   "source": [
    "def say_hello(name):\n",
    "    print(f'Hello {name}')"
   ]
  },
  {
   "cell_type": "code",
   "execution_count": 6,
   "id": "4c300cde",
   "metadata": {},
   "outputs": [
    {
     "name": "stdout",
     "output_type": "stream",
     "text": [
      "Hello Zaryab\n"
     ]
    }
   ],
   "source": [
    "say_hello('Zaryab')"
   ]
  },
  {
   "cell_type": "code",
   "execution_count": 7,
   "id": "af3b71a7",
   "metadata": {},
   "outputs": [],
   "source": [
    "#we can also pass default parameters\n",
    "def say_hello(name='Ahmed'):\n",
    "    print(f'Hello {name}')"
   ]
  },
  {
   "cell_type": "code",
   "execution_count": 8,
   "id": "89d81cdf",
   "metadata": {},
   "outputs": [],
   "source": [
    "def add_num(num1, num2):\n",
    "    return num1+num2"
   ]
  },
  {
   "cell_type": "code",
   "execution_count": 9,
   "id": "c60e9ec8",
   "metadata": {},
   "outputs": [
    {
     "data": {
      "text/plain": [
       "30"
      ]
     },
     "execution_count": 9,
     "metadata": {},
     "output_type": "execute_result"
    }
   ],
   "source": [
    "add_num(10, 20)"
   ]
  },
  {
   "cell_type": "code",
   "execution_count": 11,
   "id": "30e4a781",
   "metadata": {},
   "outputs": [],
   "source": [
    "result = add_num(40,8)"
   ]
  },
  {
   "cell_type": "code",
   "execution_count": 12,
   "id": "06fa33f6",
   "metadata": {},
   "outputs": [
    {
     "data": {
      "text/plain": [
       "48"
      ]
     },
     "execution_count": 12,
     "metadata": {},
     "output_type": "execute_result"
    }
   ],
   "source": [
    "result"
   ]
  },
  {
   "cell_type": "markdown",
   "id": "cefe14a6",
   "metadata": {},
   "source": [
    "With print statement in the function rather than a return, it's not actually giving back an outpu that can be stored"
   ]
  },
  {
   "cell_type": "code",
   "execution_count": 14,
   "id": "7ad82049",
   "metadata": {},
   "outputs": [],
   "source": [
    "#We can also use print and return together >> mostyl useful for debugging\n",
    "def my_func(a, b):\n",
    "    print(a+b)\n",
    "    return(a+b)"
   ]
  },
  {
   "cell_type": "code",
   "execution_count": 15,
   "id": "dfb8822a",
   "metadata": {},
   "outputs": [
    {
     "name": "stdout",
     "output_type": "stream",
     "text": [
      "7\n"
     ]
    },
    {
     "data": {
      "text/plain": [
       "7"
      ]
     },
     "execution_count": 15,
     "metadata": {},
     "output_type": "execute_result"
    }
   ],
   "source": [
    "my_func(3,4)"
   ]
  },
  {
   "cell_type": "markdown",
   "id": "f785b3ed",
   "metadata": {},
   "source": [
    "Python is dynamically typed"
   ]
  },
  {
   "cell_type": "markdown",
   "id": "ced0abae",
   "metadata": {},
   "source": [
    "> Make sure to check the type of data before returning the result"
   ]
  },
  {
   "cell_type": "markdown",
   "id": "af314a31",
   "metadata": {},
   "source": [
    "# Function With Logic"
   ]
  },
  {
   "cell_type": "code",
   "execution_count": 16,
   "id": "dc7207c8",
   "metadata": {},
   "outputs": [],
   "source": [
    "def even_check(num):\n",
    "    return num%2 == 0"
   ]
  },
  {
   "cell_type": "code",
   "execution_count": 17,
   "id": "ae6fc8ef",
   "metadata": {},
   "outputs": [
    {
     "data": {
      "text/plain": [
       "True"
      ]
     },
     "execution_count": 17,
     "metadata": {},
     "output_type": "execute_result"
    }
   ],
   "source": [
    "even_check(20)"
   ]
  },
  {
   "cell_type": "code",
   "execution_count": 19,
   "id": "5f850c77",
   "metadata": {},
   "outputs": [],
   "source": [
    "# RETURN TRUE IF ANY NUMBER IS EVEN INSIDE THE LIST\n",
    "def check_even_list(num_list):\n",
    "    for num in num_list:\n",
    "        if num%2 == 0:\n",
    "            return True #the function is over once it sees the return keyword\n",
    "        else: pass #retutn False >> Wrong!!!"
   ]
  },
  {
   "cell_type": "code",
   "execution_count": 21,
   "id": "d826dd49",
   "metadata": {},
   "outputs": [
    {
     "data": {
      "text/plain": [
       "True"
      ]
     },
     "execution_count": 21,
     "metadata": {},
     "output_type": "execute_result"
    }
   ],
   "source": [
    "check_even_list([12,34,5,67,57,5,6,8,56,87,56])"
   ]
  },
  {
   "cell_type": "code",
   "execution_count": 22,
   "id": "ce21cac9",
   "metadata": {},
   "outputs": [],
   "source": [
    "# RETURN TRUE IF ANY NUMBER IS EVEN INSIDE THE LIST\n",
    "def check_even_list(num_list):\n",
    "    for num in num_list:\n",
    "        if num%2 == 0:\n",
    "            return True #the function is over once it sees the return keyword\n",
    "        else: pass \n",
    "    return False"
   ]
  },
  {
   "cell_type": "code",
   "execution_count": 23,
   "id": "bb5fa3c8",
   "metadata": {},
   "outputs": [],
   "source": [
    "# RETURN ALL THE EVEN NUMBERS IN A LIST \n",
    "def check_even_list(num_list):\n",
    "    \n",
    "    #Placeholder variable\n",
    "    even_numbers = []\n",
    "    \n",
    "    for num in num_list:\n",
    "        if num%2 == 0:\n",
    "            even_numbers.append(num)\n",
    "        else: pass \n",
    "    return even_numbers"
   ]
  },
  {
   "cell_type": "code",
   "execution_count": 24,
   "id": "84db29be",
   "metadata": {},
   "outputs": [
    {
     "data": {
      "text/plain": [
       "[12, 34, 6, 8, 56, 56]"
      ]
     },
     "execution_count": 24,
     "metadata": {},
     "output_type": "execute_result"
    }
   ],
   "source": [
    "check_even_list([12,34,5,67,57,5,6,8,56,87,56])"
   ]
  },
  {
   "cell_type": "code",
   "execution_count": null,
   "id": "0b61ea64",
   "metadata": {},
   "outputs": [],
   "source": []
  }
 ],
 "metadata": {
  "kernelspec": {
   "display_name": "Python 3 (ipykernel)",
   "language": "python",
   "name": "python3"
  },
  "language_info": {
   "codemirror_mode": {
    "name": "ipython",
    "version": 3
   },
   "file_extension": ".py",
   "mimetype": "text/x-python",
   "name": "python",
   "nbconvert_exporter": "python",
   "pygments_lexer": "ipython3",
   "version": "3.9.7"
  }
 },
 "nbformat": 4,
 "nbformat_minor": 5
}
