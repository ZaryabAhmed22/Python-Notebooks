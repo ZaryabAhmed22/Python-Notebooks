{
 "cells": [
  {
   "cell_type": "code",
   "execution_count": 1,
   "id": "f41e3c6a",
   "metadata": {},
   "outputs": [],
   "source": [
    "def say_hello():\n",
    "    print('hello')\n",
    "    print('are')"
   ]
  },
  {
   "cell_type": "code",
   "execution_count": 2,
   "id": "aeee54cd",
   "metadata": {},
   "outputs": [
    {
     "name": "stdout",
     "output_type": "stream",
     "text": [
      "hello\n",
      "are\n"
     ]
    }
   ],
   "source": [
    "say_hello()"
   ]
  },
  {
   "cell_type": "markdown",
   "id": "0fe63553",
   "metadata": {},
   "source": [
    "If we call functio nwith the (), it will only tell that the following name is a function"
   ]
  },
  {
   "cell_type": "code",
   "execution_count": 5,
   "id": "ebf031e7",
   "metadata": {},
   "outputs": [],
   "source": [
    "def say_hello(name):\n",
    "    print(f'Hello {name}')"
   ]
  },
  {
   "cell_type": "code",
   "execution_count": 6,
   "id": "15ce97fe",
   "metadata": {},
   "outputs": [
    {
     "name": "stdout",
     "output_type": "stream",
     "text": [
      "Hello Zaryab\n"
     ]
    }
   ],
   "source": [
    "say_hello('Zaryab')"
   ]
  },
  {
   "cell_type": "code",
   "execution_count": 7,
   "id": "a1237066",
   "metadata": {},
   "outputs": [],
   "source": [
    "#we can also pass default parameters\n",
    "def say_hello(name='Ahmed'):\n",
    "    print(f'Hello {name}')"
   ]
  },
  {
   "cell_type": "code",
   "execution_count": 8,
   "id": "bd7dd70c",
   "metadata": {},
   "outputs": [],
   "source": [
    "def add_num(num1, num2):\n",
    "    return num1+num2"
   ]
  },
  {
   "cell_type": "code",
   "execution_count": 9,
   "id": "366e380d",
   "metadata": {},
   "outputs": [
    {
     "data": {
      "text/plain": [
       "30"
      ]
     },
     "execution_count": 9,
     "metadata": {},
     "output_type": "execute_result"
    }
   ],
   "source": [
    "add_num(10, 20)"
   ]
  },
  {
   "cell_type": "code",
   "execution_count": 11,
   "id": "34bf2f19",
   "metadata": {},
   "outputs": [],
   "source": [
    "result = add_num(40,8)"
   ]
  },
  {
   "cell_type": "code",
   "execution_count": 12,
   "id": "558759f0",
   "metadata": {},
   "outputs": [
    {
     "data": {
      "text/plain": [
       "48"
      ]
     },
     "execution_count": 12,
     "metadata": {},
     "output_type": "execute_result"
    }
   ],
   "source": [
    "result"
   ]
  },
  {
   "cell_type": "markdown",
   "id": "a3ea6709",
   "metadata": {},
   "source": [
    "With print statement in the function rather than a return, it's not actually giving back an outpu that can be stored"
   ]
  },
  {
   "cell_type": "code",
   "execution_count": 14,
   "id": "de2bbe3a",
   "metadata": {},
   "outputs": [],
   "source": [
    "#We can also use print and return together >> mostyl useful for debugging\n",
    "def my_func(a, b):\n",
    "    print(a+b)\n",
    "    return(a+b)"
   ]
  },
  {
   "cell_type": "code",
   "execution_count": 15,
   "id": "1821262d",
   "metadata": {},
   "outputs": [
    {
     "name": "stdout",
     "output_type": "stream",
     "text": [
      "7\n"
     ]
    },
    {
     "data": {
      "text/plain": [
       "7"
      ]
     },
     "execution_count": 15,
     "metadata": {},
     "output_type": "execute_result"
    }
   ],
   "source": [
    "my_func(3,4)"
   ]
  },
  {
   "cell_type": "markdown",
   "id": "4cbe2b29",
   "metadata": {},
   "source": [
    "Python is dynamically typed"
   ]
  },
  {
   "cell_type": "markdown",
   "id": "4819e139",
   "metadata": {},
   "source": [
    "> Make sure to check the type of data before returning the result"
   ]
  },
  {
   "cell_type": "markdown",
   "id": "4955bdf4",
   "metadata": {},
   "source": [
    "# Function With Logic"
   ]
  },
  {
   "cell_type": "code",
   "execution_count": 16,
   "id": "c473783f",
   "metadata": {},
   "outputs": [],
   "source": [
    "def even_check(num):\n",
    "    return num%2 == 0"
   ]
  },
  {
   "cell_type": "code",
   "execution_count": 17,
   "id": "829cb4a2",
   "metadata": {},
   "outputs": [
    {
     "data": {
      "text/plain": [
       "True"
      ]
     },
     "execution_count": 17,
     "metadata": {},
     "output_type": "execute_result"
    }
   ],
   "source": [
    "even_check(20)"
   ]
  },
  {
   "cell_type": "code",
   "execution_count": 19,
   "id": "89656e88",
   "metadata": {},
   "outputs": [],
   "source": [
    "# RETURN TRUE IF ANY NUMBER IS EVEN INSIDE THE LIST\n",
    "def check_even_list(num_list):\n",
    "    for num in num_list:\n",
    "        if num%2 == 0:\n",
    "            return True #the function is over once it sees the return keyword\n",
    "        else: pass #retutn False >> Wrong!!!"
   ]
  },
  {
   "cell_type": "code",
   "execution_count": 21,
   "id": "5857dc9e",
   "metadata": {},
   "outputs": [
    {
     "data": {
      "text/plain": [
       "True"
      ]
     },
     "execution_count": 21,
     "metadata": {},
     "output_type": "execute_result"
    }
   ],
   "source": [
    "check_even_list([12,34,5,67,57,5,6,8,56,87,56])"
   ]
  },
  {
   "cell_type": "code",
   "execution_count": 22,
   "id": "7daae0cf",
   "metadata": {},
   "outputs": [],
   "source": [
    "# RETURN TRUE IF ANY NUMBER IS EVEN INSIDE THE LIST\n",
    "def check_even_list(num_list):\n",
    "    for num in num_list:\n",
    "        if num%2 == 0:\n",
    "            return True #the function is over once it sees the return keyword\n",
    "        else: pass \n",
    "    return False"
   ]
  },
  {
   "cell_type": "code",
   "execution_count": 23,
   "id": "7487cd4e",
   "metadata": {},
   "outputs": [],
   "source": [
    "# RETURN ALL THE EVEN NUMBERS IN A LIST \n",
    "def check_even_list(num_list):\n",
    "    \n",
    "    #Placeholder variable\n",
    "    even_numbers = []\n",
    "    \n",
    "    for num in num_list:\n",
    "        if num%2 == 0:\n",
    "            even_numbers.append(num)\n",
    "        else: pass \n",
    "    return even_numbers"
   ]
  },
  {
   "cell_type": "code",
   "execution_count": 24,
   "id": "b99b83eb",
   "metadata": {},
   "outputs": [
    {
     "data": {
      "text/plain": [
       "[12, 34, 6, 8, 56, 56]"
      ]
     },
     "execution_count": 24,
     "metadata": {},
     "output_type": "execute_result"
    }
   ],
   "source": [
    "check_even_list([12,34,5,67,57,5,6,8,56,87,56])"
   ]
  },
  {
   "cell_type": "markdown",
   "id": "d802cc19",
   "metadata": {},
   "source": [
    "# Tupple Unpacking"
   ]
  },
  {
   "cell_type": "code",
   "execution_count": 25,
   "id": "ed2da680",
   "metadata": {},
   "outputs": [],
   "source": [
    "stock_prices = [('apple', 400), ('google', 300), ('ZAKware', 500)]"
   ]
  },
  {
   "cell_type": "code",
   "execution_count": 26,
   "id": "ab71631a",
   "metadata": {},
   "outputs": [
    {
     "name": "stdout",
     "output_type": "stream",
     "text": [
      "stock: apple, price: 400\n",
      "stock: google, price: 300\n",
      "stock: ZAKware, price: 500\n"
     ]
    }
   ],
   "source": [
    "for ticker, price in stock_prices:\n",
    "    print(f'stock: {ticker}, price: {price}')"
   ]
  },
  {
   "cell_type": "code",
   "execution_count": 30,
   "id": "76c978a6",
   "metadata": {},
   "outputs": [],
   "source": [
    "work_hours = [('Abby', 100), ('Zaryab', 120), ('Zabi', 130)]"
   ]
  },
  {
   "cell_type": "code",
   "execution_count": 32,
   "id": "9c210aad",
   "metadata": {},
   "outputs": [],
   "source": [
    "def employee_check(work_hours):\n",
    "    current_max = 0\n",
    "    employee_of_month = ''\n",
    "    \n",
    "    for employee, hrs in work_hours:\n",
    "        if hrs > current_max:\n",
    "            employee_of_month = employee\n",
    "            current_max = hrs\n",
    "        else: \n",
    "            #employee_of_month = employee_of_month\n",
    "            #current_max  = current_max\n",
    "            pass #do nothing\n",
    "    \n",
    "    #return\n",
    "    return(employee_of_month, current_max)"
   ]
  },
  {
   "cell_type": "code",
   "execution_count": 33,
   "id": "d27e88eb",
   "metadata": {},
   "outputs": [
    {
     "data": {
      "text/plain": [
       "('Zabi', 130)"
      ]
     },
     "execution_count": 33,
     "metadata": {},
     "output_type": "execute_result"
    }
   ],
   "source": [
    "employee_check(work_hours)"
   ]
  },
  {
   "cell_type": "markdown",
   "id": "a85b708d",
   "metadata": {},
   "source": [
    "# ** args and ** kwargs"
   ]
  },
  {
   "cell_type": "code",
   "execution_count": 36,
   "id": "6f15471f",
   "metadata": {},
   "outputs": [],
   "source": [
    "def myfunc(a,b):\n",
    "    #Return 5% of sum of a and b\n",
    "    return sum((a,b)) * 0.05"
   ]
  },
  {
   "cell_type": "code",
   "execution_count": 37,
   "id": "2a2559ec",
   "metadata": {},
   "outputs": [
    {
     "data": {
      "text/plain": [
       "5.0"
      ]
     },
     "execution_count": 37,
     "metadata": {},
     "output_type": "execute_result"
    }
   ],
   "source": [
    "myfunc(40,60)"
   ]
  },
  {
   "cell_type": "markdown",
   "id": "a49ddbd7",
   "metadata": {},
   "source": [
    "Problem, we want to make a function that can take more than one arguments <br>\n",
    "- Python will give an error if we call a function with more than 2 arguments"
   ]
  },
  {
   "cell_type": "code",
   "execution_count": 39,
   "id": "fc2d5ea0",
   "metadata": {},
   "outputs": [],
   "source": [
    "#usin*args to take as many argumetns as we want\n",
    "def myfunc(*args): #args can be anyother name with *, but the convention is to use *args\n",
    "    #Return 5% of sum of a and b\n",
    "    return sum(args) * 0.05"
   ]
  },
  {
   "cell_type": "code",
   "execution_count": 41,
   "id": "03a1173a",
   "metadata": {},
   "outputs": [
    {
     "data": {
      "text/plain": [
       "15.25"
      ]
     },
     "execution_count": 41,
     "metadata": {},
     "output_type": "execute_result"
    }
   ],
   "source": [
    "#calling function with multiple number of arguments\n",
    "myfunc(5,6,7,8)\n",
    "\n",
    "myfunc(5,9,8)\n",
    "\n",
    "myfunc(7,8)\n",
    "\n",
    "myfunc(5,60,70,80,90)"
   ]
  },
  {
   "cell_type": "code",
   "execution_count": 45,
   "id": "a99fe5c0",
   "metadata": {},
   "outputs": [],
   "source": [
    "def myfunc(*args):\n",
    "    for item in args:\n",
    "        print(item)"
   ]
  },
  {
   "cell_type": "code",
   "execution_count": 46,
   "id": "f39d019e",
   "metadata": {},
   "outputs": [
    {
     "name": "stdout",
     "output_type": "stream",
     "text": [
      "70\n",
      "68\n",
      "90\n",
      "34\n"
     ]
    }
   ],
   "source": [
    "myfunc(70,68,90,34)"
   ]
  },
  {
   "cell_type": "markdown",
   "id": "df39ebb6",
   "metadata": {},
   "source": [
    "NOTE:\n",
    "> *args return back  a tupple"
   ]
  },
  {
   "cell_type": "markdown",
   "id": "961ba67b",
   "metadata": {},
   "source": [
    "If we want to pass in arguments as key value pairs, we will use **kwargs\n",
    "> **kwargs return a dictionary "
   ]
  },
  {
   "cell_type": "code",
   "execution_count": 47,
   "id": "e8439700",
   "metadata": {},
   "outputs": [],
   "source": [
    "def myfunc(**kwargs):\n",
    "    print(kwargs)\n",
    "    if 'fruit' in kwargs:\n",
    "        print('My fruit of choice is {}',format(kwargs['fruit']))\n",
    "    else: \n",
    "        print('I did not find any fruit here')"
   ]
  },
  {
   "cell_type": "code",
   "execution_count": 48,
   "id": "f732ae1a",
   "metadata": {},
   "outputs": [
    {
     "name": "stdout",
     "output_type": "stream",
     "text": [
      "{'fruit': 'apple', 'veggie': 'lettuce'}\n",
      "My fruit of choice is {} apple\n"
     ]
    }
   ],
   "source": [
    "myfunc(fruit='apple', veggie = 'lettuce')"
   ]
  },
  {
   "cell_type": "markdown",
   "id": "b254f969",
   "metadata": {},
   "source": [
    "We can use * args and ** kwargs in combinaion"
   ]
  },
  {
   "cell_type": "code",
   "execution_count": 59,
   "id": "f59697fb",
   "metadata": {},
   "outputs": [],
   "source": [
    "def myfucn(*args,**kwargs):\n",
    "    print('I would like to have {} {}'.format(args[0], kwargs['fruit']))"
   ]
  },
  {
   "cell_type": "code",
   "execution_count": 61,
   "id": "d0259bea",
   "metadata": {},
   "outputs": [
    {
     "name": "stdout",
     "output_type": "stream",
     "text": [
      "I would like to have 10 apples\n"
     ]
    }
   ],
   "source": [
    "myfucn(10,30,40, fruit = 'apples', food='steaks')"
   ]
  },
  {
   "cell_type": "markdown",
   "id": "bfce46be",
   "metadata": {},
   "source": [
    "NOTE:\n",
    "> Order of arguments should be (all args, all key value pairs)"
   ]
  },
  {
   "cell_type": "code",
   "execution_count": 62,
   "id": "2294fe9b",
   "metadata": {},
   "outputs": [],
   "source": [
    "#a function that takes in multiple arguments and return back a list of empty ones\n",
    "def myfunc(*args):\n",
    "   return [arg for arg in args if arg%2 == 0]"
   ]
  },
  {
   "cell_type": "code",
   "execution_count": 64,
   "id": "a95e6fbb",
   "metadata": {},
   "outputs": [
    {
     "data": {
      "text/plain": [
       "[60, 78, 80, 80, 540]"
      ]
     },
     "execution_count": 64,
     "metadata": {},
     "output_type": "execute_result"
    }
   ],
   "source": [
    "myfunc(45,60,78,80,63,71,80,540)"
   ]
  },
  {
   "cell_type": "code",
   "execution_count": 78,
   "id": "b86b6d44",
   "metadata": {},
   "outputs": [],
   "source": [
    "#Function # 10: skyline\n",
    "def myfunc(string):\n",
    "    lowerst = string.lower()\n",
    "    for letter in lowerst:\n",
    "        if lowerst.index(letter)%2 == 0 or lowerst.index(letter) == 0:\n",
    "            letter.upper()\n",
    "    return \n",
    "       "
   ]
  },
  {
   "cell_type": "code",
   "execution_count": 79,
   "id": "d12f7441",
   "metadata": {},
   "outputs": [
    {
     "name": "stdout",
     "output_type": "stream",
     "text": [
      "z\n",
      "r\n"
     ]
    }
   ],
   "source": [
    "myfunc('Zaryab')"
   ]
  },
  {
   "cell_type": "code",
   "execution_count": 81,
   "id": "99aa8a6a",
   "metadata": {},
   "outputs": [
    {
     "name": "stdout",
     "output_type": "stream",
     "text": [
      "zArYaB\n"
     ]
    }
   ],
   "source": [
    "#Function # 10: skyline\n",
    "def myfunc(string):\n",
    "    out = []\n",
    "    for i in range(len(string)):\n",
    "        if i%2==0:\n",
    "            out.append(string[i].lower())\n",
    "        else:\n",
    "            out.append(string[i].upper())\n",
    "    return ''.join(out)\n",
    "print(myfunc('zaryab'))"
   ]
  },
  {
   "cell_type": "code",
   "execution_count": null,
   "id": "82d172d1",
   "metadata": {},
   "outputs": [],
   "source": []
  }
 ],
 "metadata": {
  "kernelspec": {
   "display_name": "Python 3 (ipykernel)",
   "language": "python",
   "name": "python3"
  },
  "language_info": {
   "codemirror_mode": {
    "name": "ipython",
    "version": 3
   },
   "file_extension": ".py",
   "mimetype": "text/x-python",
   "name": "python",
   "nbconvert_exporter": "python",
   "pygments_lexer": "ipython3",
   "version": "3.9.7"
  }
 },
 "nbformat": 4,
 "nbformat_minor": 5
}
