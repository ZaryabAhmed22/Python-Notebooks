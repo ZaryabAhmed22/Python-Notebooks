{
 "cells": [
  {
   "cell_type": "code",
   "execution_count": 1,
   "id": "c8f6e22f",
   "metadata": {},
   "outputs": [],
   "source": [
    "def say_hello():\n",
    "    print('hello')\n",
    "    print('are')"
   ]
  },
  {
   "cell_type": "code",
   "execution_count": 2,
   "id": "1854efb5",
   "metadata": {},
   "outputs": [
    {
     "name": "stdout",
     "output_type": "stream",
     "text": [
      "hello\n",
      "are\n"
     ]
    }
   ],
   "source": [
    "say_hello()"
   ]
  },
  {
   "cell_type": "markdown",
   "id": "2144b994",
   "metadata": {},
   "source": [
    "If we call functio nwith the (), it will only tell that the following name is a function"
   ]
  },
  {
   "cell_type": "code",
   "execution_count": 5,
   "id": "19d69081",
   "metadata": {},
   "outputs": [],
   "source": [
    "def say_hello(name):\n",
    "    print(f'Hello {name}')"
   ]
  },
  {
   "cell_type": "code",
   "execution_count": 6,
   "id": "25ea1247",
   "metadata": {},
   "outputs": [
    {
     "name": "stdout",
     "output_type": "stream",
     "text": [
      "Hello Zaryab\n"
     ]
    }
   ],
   "source": [
    "say_hello('Zaryab')"
   ]
  },
  {
   "cell_type": "code",
   "execution_count": 7,
   "id": "1d059d22",
   "metadata": {},
   "outputs": [],
   "source": [
    "#we can also pass default parameters\n",
    "def say_hello(name='Ahmed'):\n",
    "    print(f'Hello {name}')"
   ]
  },
  {
   "cell_type": "code",
   "execution_count": 8,
   "id": "fcd37018",
   "metadata": {},
   "outputs": [],
   "source": [
    "def add_num(num1, num2):\n",
    "    return num1+num2"
   ]
  },
  {
   "cell_type": "code",
   "execution_count": 9,
   "id": "9653a2e6",
   "metadata": {},
   "outputs": [
    {
     "data": {
      "text/plain": [
       "30"
      ]
     },
     "execution_count": 9,
     "metadata": {},
     "output_type": "execute_result"
    }
   ],
   "source": [
    "add_num(10, 20)"
   ]
  },
  {
   "cell_type": "code",
   "execution_count": 11,
   "id": "860dc201",
   "metadata": {},
   "outputs": [],
   "source": [
    "result = add_num(40,8)"
   ]
  },
  {
   "cell_type": "code",
   "execution_count": 12,
   "id": "49f857e3",
   "metadata": {},
   "outputs": [
    {
     "data": {
      "text/plain": [
       "48"
      ]
     },
     "execution_count": 12,
     "metadata": {},
     "output_type": "execute_result"
    }
   ],
   "source": [
    "result"
   ]
  },
  {
   "cell_type": "markdown",
   "id": "2b900612",
   "metadata": {},
   "source": [
    "With print statement in the function rather than a return, it's not actually giving back an outpu that can be stored"
   ]
  },
  {
   "cell_type": "code",
   "execution_count": 14,
   "id": "d4c4bdfd",
   "metadata": {},
   "outputs": [],
   "source": [
    "#We can also use print and return together >> mostyl useful for debugging\n",
    "def my_func(a, b):\n",
    "    print(a+b)\n",
    "    return(a+b)"
   ]
  },
  {
   "cell_type": "code",
   "execution_count": 15,
   "id": "a40b3978",
   "metadata": {},
   "outputs": [
    {
     "name": "stdout",
     "output_type": "stream",
     "text": [
      "7\n"
     ]
    },
    {
     "data": {
      "text/plain": [
       "7"
      ]
     },
     "execution_count": 15,
     "metadata": {},
     "output_type": "execute_result"
    }
   ],
   "source": [
    "my_func(3,4)"
   ]
  },
  {
   "cell_type": "markdown",
   "id": "e6398c10",
   "metadata": {},
   "source": [
    "Python is dynamically typed"
   ]
  },
  {
   "cell_type": "markdown",
   "id": "452b3c17",
   "metadata": {},
   "source": [
    "> Make sure to check the type of data before returning the result"
   ]
  },
  {
   "cell_type": "code",
   "execution_count": null,
   "id": "c3a42f63",
   "metadata": {},
   "outputs": [],
   "source": []
  }
 ],
 "metadata": {
  "kernelspec": {
   "display_name": "Python 3 (ipykernel)",
   "language": "python",
   "name": "python3"
  },
  "language_info": {
   "codemirror_mode": {
    "name": "ipython",
    "version": 3
   },
   "file_extension": ".py",
   "mimetype": "text/x-python",
   "name": "python",
   "nbconvert_exporter": "python",
   "pygments_lexer": "ipython3",
   "version": "3.9.7"
  }
 },
 "nbformat": 4,
 "nbformat_minor": 5
}
