{
 "cells": [
  {
   "cell_type": "code",
   "execution_count": 1,
   "id": "eb43fd2f",
   "metadata": {},
   "outputs": [],
   "source": [
    "def say_hello():\n",
    "    print('hello')\n",
    "    print('are')"
   ]
  },
  {
   "cell_type": "code",
   "execution_count": 2,
   "id": "dd58f349",
   "metadata": {},
   "outputs": [
    {
     "name": "stdout",
     "output_type": "stream",
     "text": [
      "hello\n",
      "are\n"
     ]
    }
   ],
   "source": [
    "say_hello()"
   ]
  },
  {
   "cell_type": "markdown",
   "id": "4edd6025",
   "metadata": {},
   "source": [
    "If we call functio nwith the (), it will only tell that the following name is a function"
   ]
  },
  {
   "cell_type": "code",
   "execution_count": 5,
   "id": "2815dc60",
   "metadata": {},
   "outputs": [],
   "source": [
    "def say_hello(name):\n",
    "    print(f'Hello {name}')"
   ]
  },
  {
   "cell_type": "code",
   "execution_count": 6,
   "id": "89c80f1e",
   "metadata": {},
   "outputs": [
    {
     "name": "stdout",
     "output_type": "stream",
     "text": [
      "Hello Zaryab\n"
     ]
    }
   ],
   "source": [
    "say_hello('Zaryab')"
   ]
  },
  {
   "cell_type": "code",
   "execution_count": 7,
   "id": "79661a0a",
   "metadata": {},
   "outputs": [],
   "source": [
    "#we can also pass default parameters\n",
    "def say_hello(name='Ahmed'):\n",
    "    print(f'Hello {name}')"
   ]
  },
  {
   "cell_type": "code",
   "execution_count": 8,
   "id": "92e47a63",
   "metadata": {},
   "outputs": [],
   "source": [
    "def add_num(num1, num2):\n",
    "    return num1+num2"
   ]
  },
  {
   "cell_type": "code",
   "execution_count": 9,
   "id": "1fbe4255",
   "metadata": {},
   "outputs": [
    {
     "data": {
      "text/plain": [
       "30"
      ]
     },
     "execution_count": 9,
     "metadata": {},
     "output_type": "execute_result"
    }
   ],
   "source": [
    "add_num(10, 20)"
   ]
  },
  {
   "cell_type": "code",
   "execution_count": 11,
   "id": "b2e49b46",
   "metadata": {},
   "outputs": [],
   "source": [
    "result = add_num(40,8)"
   ]
  },
  {
   "cell_type": "code",
   "execution_count": 12,
   "id": "61fa8338",
   "metadata": {},
   "outputs": [
    {
     "data": {
      "text/plain": [
       "48"
      ]
     },
     "execution_count": 12,
     "metadata": {},
     "output_type": "execute_result"
    }
   ],
   "source": [
    "result"
   ]
  },
  {
   "cell_type": "markdown",
   "id": "7307fede",
   "metadata": {},
   "source": [
    "With print statement in the function rather than a return, it's not actually giving back an outpu that can be stored"
   ]
  },
  {
   "cell_type": "code",
   "execution_count": 14,
   "id": "adfccb00",
   "metadata": {},
   "outputs": [],
   "source": [
    "#We can also use print and return together >> mostyl useful for debugging\n",
    "def my_func(a, b):\n",
    "    print(a+b)\n",
    "    return(a+b)"
   ]
  },
  {
   "cell_type": "code",
   "execution_count": 15,
   "id": "6e5e3a34",
   "metadata": {},
   "outputs": [
    {
     "name": "stdout",
     "output_type": "stream",
     "text": [
      "7\n"
     ]
    },
    {
     "data": {
      "text/plain": [
       "7"
      ]
     },
     "execution_count": 15,
     "metadata": {},
     "output_type": "execute_result"
    }
   ],
   "source": [
    "my_func(3,4)"
   ]
  },
  {
   "cell_type": "markdown",
   "id": "9131ac24",
   "metadata": {},
   "source": [
    "Python is dynamically typed"
   ]
  },
  {
   "cell_type": "markdown",
   "id": "4fe70672",
   "metadata": {},
   "source": [
    "> Make sure to check the type of data before returning the result"
   ]
  },
  {
   "cell_type": "markdown",
   "id": "5a3aaab8",
   "metadata": {},
   "source": [
    "# Function With Logic"
   ]
  },
  {
   "cell_type": "code",
   "execution_count": 16,
   "id": "cde69ea2",
   "metadata": {},
   "outputs": [],
   "source": [
    "def even_check(num):\n",
    "    return num%2 == 0"
   ]
  },
  {
   "cell_type": "code",
   "execution_count": 17,
   "id": "8561b756",
   "metadata": {},
   "outputs": [
    {
     "data": {
      "text/plain": [
       "True"
      ]
     },
     "execution_count": 17,
     "metadata": {},
     "output_type": "execute_result"
    }
   ],
   "source": [
    "even_check(20)"
   ]
  },
  {
   "cell_type": "code",
   "execution_count": 19,
   "id": "574738de",
   "metadata": {},
   "outputs": [],
   "source": [
    "# RETURN TRUE IF ANY NUMBER IS EVEN INSIDE THE LIST\n",
    "def check_even_list(num_list):\n",
    "    for num in num_list:\n",
    "        if num%2 == 0:\n",
    "            return True #the function is over once it sees the return keyword\n",
    "        else: pass #retutn False >> Wrong!!!"
   ]
  },
  {
   "cell_type": "code",
   "execution_count": 21,
   "id": "0f4c51b9",
   "metadata": {},
   "outputs": [
    {
     "data": {
      "text/plain": [
       "True"
      ]
     },
     "execution_count": 21,
     "metadata": {},
     "output_type": "execute_result"
    }
   ],
   "source": [
    "check_even_list([12,34,5,67,57,5,6,8,56,87,56])"
   ]
  },
  {
   "cell_type": "code",
   "execution_count": 22,
   "id": "32170286",
   "metadata": {},
   "outputs": [],
   "source": [
    "# RETURN TRUE IF ANY NUMBER IS EVEN INSIDE THE LIST\n",
    "def check_even_list(num_list):\n",
    "    for num in num_list:\n",
    "        if num%2 == 0:\n",
    "            return True #the function is over once it sees the return keyword\n",
    "        else: pass \n",
    "    return False"
   ]
  },
  {
   "cell_type": "code",
   "execution_count": 23,
   "id": "bdb1a9aa",
   "metadata": {},
   "outputs": [],
   "source": [
    "# RETURN ALL THE EVEN NUMBERS IN A LIST \n",
    "def check_even_list(num_list):\n",
    "    \n",
    "    #Placeholder variable\n",
    "    even_numbers = []\n",
    "    \n",
    "    for num in num_list:\n",
    "        if num%2 == 0:\n",
    "            even_numbers.append(num)\n",
    "        else: pass \n",
    "    return even_numbers"
   ]
  },
  {
   "cell_type": "code",
   "execution_count": 24,
   "id": "0851c68f",
   "metadata": {},
   "outputs": [
    {
     "data": {
      "text/plain": [
       "[12, 34, 6, 8, 56, 56]"
      ]
     },
     "execution_count": 24,
     "metadata": {},
     "output_type": "execute_result"
    }
   ],
   "source": [
    "check_even_list([12,34,5,67,57,5,6,8,56,87,56])"
   ]
  },
  {
   "cell_type": "markdown",
   "id": "b0bfc035",
   "metadata": {},
   "source": [
    "# Tupple Unpacking"
   ]
  },
  {
   "cell_type": "code",
   "execution_count": 25,
   "id": "4a3ad313",
   "metadata": {},
   "outputs": [],
   "source": [
    "stock_prices = [('apple', 400), ('google', 300), ('ZAKware', 500)]"
   ]
  },
  {
   "cell_type": "code",
   "execution_count": 26,
   "id": "e61de8c7",
   "metadata": {},
   "outputs": [
    {
     "name": "stdout",
     "output_type": "stream",
     "text": [
      "stock: apple, price: 400\n",
      "stock: google, price: 300\n",
      "stock: ZAKware, price: 500\n"
     ]
    }
   ],
   "source": [
    "for ticker, price in stock_prices:\n",
    "    print(f'stock: {ticker}, price: {price}')"
   ]
  },
  {
   "cell_type": "code",
   "execution_count": 30,
   "id": "dad3b504",
   "metadata": {},
   "outputs": [],
   "source": [
    "work_hours = [('Abby', 100), ('Zaryab', 120), ('Zabi', 130)]"
   ]
  },
  {
   "cell_type": "code",
   "execution_count": 32,
   "id": "0fff6c32",
   "metadata": {},
   "outputs": [],
   "source": [
    "def employee_check(work_hours):\n",
    "    current_max = 0\n",
    "    employee_of_month = ''\n",
    "    \n",
    "    for employee, hrs in work_hours:\n",
    "        if hrs > current_max:\n",
    "            employee_of_month = employee\n",
    "            current_max = hrs\n",
    "        else: \n",
    "            #employee_of_month = employee_of_month\n",
    "            #current_max  = current_max\n",
    "            pass #do nothing\n",
    "    \n",
    "    #return\n",
    "    return(employee_of_month, current_max)"
   ]
  },
  {
   "cell_type": "code",
   "execution_count": 33,
   "id": "63670104",
   "metadata": {},
   "outputs": [
    {
     "data": {
      "text/plain": [
       "('Zabi', 130)"
      ]
     },
     "execution_count": 33,
     "metadata": {},
     "output_type": "execute_result"
    }
   ],
   "source": [
    "employee_check(work_hours)"
   ]
  },
  {
   "cell_type": "code",
   "execution_count": null,
   "id": "3b3a1784",
   "metadata": {},
   "outputs": [],
   "source": []
  }
 ],
 "metadata": {
  "kernelspec": {
   "display_name": "Python 3 (ipykernel)",
   "language": "python",
   "name": "python3"
  },
  "language_info": {
   "codemirror_mode": {
    "name": "ipython",
    "version": 3
   },
   "file_extension": ".py",
   "mimetype": "text/x-python",
   "name": "python",
   "nbconvert_exporter": "python",
   "pygments_lexer": "ipython3",
   "version": "3.9.7"
  }
 },
 "nbformat": 4,
 "nbformat_minor": 5
}
